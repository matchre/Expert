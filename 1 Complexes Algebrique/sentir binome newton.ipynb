{
  "cells": [
    {
      "cell_type": "markdown",
      "source": [
        "# Sentir la formule du binome de Newton"
      ],
      "metadata": {
        "nteract": {
          "transient": {
            "deleting": false
          }
        }
      }
    },
    {
      "cell_type": "markdown",
      "source": [
        "## soient  $u,v \\in \\mathbb{C}$"
      ],
      "metadata": {
        "nteract": {
          "transient": {
            "deleting": false
          }
        }
      }
    },
    {
      "cell_type": "code",
      "source": [
        "!pip install sympy"
      ],
      "outputs": [],
      "execution_count": null,
      "metadata": {
        "collapsed": true,
        "jupyter": {
          "source_hidden": false,
          "outputs_hidden": false
        },
        "nteract": {
          "transient": {
            "deleting": false
          }
        },
        "execution": {
          "iopub.status.busy": "2020-09-08T09:00:16.051Z",
          "iopub.execute_input": "2020-09-08T09:00:16.058Z",
          "iopub.status.idle": "2020-09-08T09:00:18.108Z",
          "shell.execute_reply": "2020-09-08T09:00:18.147Z"
        }
      }
    },
    {
      "cell_type": "code",
      "source": [
        "from sympy import init_printing\n",
        "from sympy import expand\n",
        "from sympy.abc import u,v\n",
        "from IPython.display import display\n",
        "for i in range(8):\n",
        "    display(expand((u+v)**i))\n"
      ],
      "outputs": [
        {
          "output_type": "display_data",
          "data": {
            "text/plain": "1",
            "text/latex": "$\\displaystyle 1$"
          },
          "metadata": {}
        },
        {
          "output_type": "display_data",
          "data": {
            "text/plain": "u + v",
            "text/latex": "$\\displaystyle u + v$"
          },
          "metadata": {}
        },
        {
          "output_type": "display_data",
          "data": {
            "text/plain": "u**2 + 2*u*v + v**2",
            "text/latex": "$\\displaystyle u^{2} + 2 u v + v^{2}$"
          },
          "metadata": {}
        },
        {
          "output_type": "display_data",
          "data": {
            "text/plain": "u**3 + 3*u**2*v + 3*u*v**2 + v**3",
            "text/latex": "$\\displaystyle u^{3} + 3 u^{2} v + 3 u v^{2} + v^{3}$"
          },
          "metadata": {}
        },
        {
          "output_type": "display_data",
          "data": {
            "text/plain": "u**4 + 4*u**3*v + 6*u**2*v**2 + 4*u*v**3 + v**4",
            "text/latex": "$\\displaystyle u^{4} + 4 u^{3} v + 6 u^{2} v^{2} + 4 u v^{3} + v^{4}$"
          },
          "metadata": {}
        },
        {
          "output_type": "display_data",
          "data": {
            "text/plain": "u**5 + 5*u**4*v + 10*u**3*v**2 + 10*u**2*v**3 + 5*u*v**4 + v**5",
            "text/latex": "$\\displaystyle u^{5} + 5 u^{4} v + 10 u^{3} v^{2} + 10 u^{2} v^{3} + 5 u v^{4} + v^{5}$"
          },
          "metadata": {}
        },
        {
          "output_type": "display_data",
          "data": {
            "text/plain": "u**6 + 6*u**5*v + 15*u**4*v**2 + 20*u**3*v**3 + 15*u**2*v**4 + 6*u*v**5 + v**6",
            "text/latex": "$\\displaystyle u^{6} + 6 u^{5} v + 15 u^{4} v^{2} + 20 u^{3} v^{3} + 15 u^{2} v^{4} + 6 u v^{5} + v^{6}$"
          },
          "metadata": {}
        },
        {
          "output_type": "display_data",
          "data": {
            "text/plain": "u**7 + 7*u**6*v + 21*u**5*v**2 + 35*u**4*v**3 + 35*u**3*v**4 + 21*u**2*v**5 + 7*u*v**6 + v**7",
            "text/latex": "$\\displaystyle u^{7} + 7 u^{6} v + 21 u^{5} v^{2} + 35 u^{4} v^{3} + 35 u^{3} v^{4} + 21 u^{2} v^{5} + 7 u v^{6} + v^{7}$"
          },
          "metadata": {}
        }
      ],
      "execution_count": 4,
      "metadata": {
        "collapsed": true,
        "jupyter": {
          "source_hidden": false,
          "outputs_hidden": false
        },
        "nteract": {
          "transient": {
            "deleting": false
          }
        },
        "execution": {
          "iopub.status.busy": "2020-09-08T09:00:41.160Z",
          "iopub.execute_input": "2020-09-08T09:00:41.171Z",
          "iopub.status.idle": "2020-09-08T09:00:41.300Z",
          "shell.execute_reply": "2020-09-08T09:00:41.356Z"
        }
      }
    }
  ],
  "metadata": {
    "kernel_info": {
      "name": "python3"
    },
    "language_info": {
      "name": "python",
      "version": "3.7.0",
      "mimetype": "text/x-python",
      "codemirror_mode": {
        "name": "ipython",
        "version": 3
      },
      "pygments_lexer": "ipython3",
      "nbconvert_exporter": "python",
      "file_extension": ".py"
    },
    "kernelspec": {
      "argv": [
        "python",
        "-m",
        "ipykernel_launcher",
        "-f",
        "{connection_file}"
      ],
      "display_name": "Python 3",
      "language": "python",
      "name": "python3"
    },
    "nteract": {
      "version": "0.24.1"
    }
  },
  "nbformat": 4,
  "nbformat_minor": 0
}