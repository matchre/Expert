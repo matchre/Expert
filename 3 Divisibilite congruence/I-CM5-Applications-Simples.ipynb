{
 "cells": [
  {
   "cell_type": "markdown",
   "metadata": {
    "collapsed": false
   },
   "source": [
    "![Big DATA](../images/data2.jpg)"
   ]
  },
  {
   "cell_type": "markdown",
   "metadata": {
    "collapsed": false
   },
   "source": [
    "# CM5 : Applications simples\n",
    "\n"
   ]
  },
  {
   "cell_type": "markdown",
   "metadata": {
    "collapsed": false
   },
   "source": [
    "## I] Exemples de calculs modulaires\n",
    "### a) Quelques évaluations\n",
    "On a $1337 = 121 \\times 11 + 6$, avec $0\\leqslant6<11$, et donc on a : $1337 \\equiv 6 \\pmod{11}$.\n",
    "\n",
    "On a $42 = 3 \\times 11 + 9$, avec $0\\leqslant9<11$, et donc on a  : $42 \\equiv 9 \\pmod{11}$.\n",
    "\n",
    "> On déduit que :\n",
    "> * $10\\times1337 + 5\\times 42 \\equiv\n",
    "10\\times6+5\\times9 \\equiv 105 \\equiv 6 \\pmod{11}$\n",
    "> * $1337^2 \\equiv 6^2 \\equiv 36 \\equiv 3 \\pmod{11}$\n",
    "> * $1337^4 \\equiv 3^2 \\equiv 9 \\equiv -2 \\pmod{11}$\n",
    "> * $1337^8 \\equiv 9^2 \\equiv (-2)^2 \\equiv 4 \\pmod{11}$\n",
    "> * $1337^{13} \\equiv 6^{8+4+1} \\equiv 4\\times(-2)\\times6 \\equiv -4 \\pmod{11}$\n",
    "\n",
    "Bien comprendre le dernier exemple est utile pour l'exponentiation modulaire. _Cette technique sera la même avec des polynômes ou des matrices._"
   ]
  },
  {
   "cell_type": "markdown",
   "metadata": {
    "collapsed": false
   },
   "source": [
    "### b) Une nouvelle méthode de résolution\n",
    "On a déjà démontré, par récurrence, que pour tout $n$, on a :\n",
    "> $3^{2n+1}+2^{n+2}$ est divisible par $7$.\n",
    "\n",
    "**Nouvelle preuve :**\n",
    "$3^{2n+1}+2^{n+2} = 3\\times9^n + 4\\times2^n \\equiv 3\\times2^n + (-3)\\times2^n \\equiv 0 \\pmod 7$"
   ]
  },
  {
   "cell_type": "markdown",
   "metadata": {
    "collapsed": false
   },
   "source": [
    "### c) Un autre exemple, déjà-vu\n",
    "**Exercice** Soit le nombre $120\\;\\!450$, par quel chiffre doit-on remplacer les deux zéros pour que le nouveau nombre soit divisible par $99$ ?  \n",
    "_On a déjà résolu cet exercice, par force brute, avec un script._\n",
    "\n",
    "$9$ et $11$ sont premiers entre eux, donc être divisible par $99$ équivaut à être divisible par $9$ et $11$.\n",
    "\n",
    "\n",
    "$120450+c\\times1001 \\equiv 66 +c\\times11 \\pmod{99}$, ainsi notre nombre sera toujours divisible par $11$, reste à voir la divisibilité par $9$.  \n",
    "Modulo $9$, on a l'équation à résoudre $3+2c \\equiv 0 \\pmod 9$. Que l'on peut résoudre en testant les $10$ cas, de tête, ou de manière générale, avec $c \\equiv -3\\times2^{-1} \\pmod 9$. (Remarque : $2$ et $9$ sont premiers entre eux, donc l'un est inversible modulo l'autre.)\n",
    "\n",
    "Il nous reste à trouver l'inverse de $2$ modulo $9$.  \n",
    "\n",
    "> Méthode en calcul mental, ou Euclide étendu. $2\\times5=10\\equiv 1 \\pmod 9$, donc $2^{-1} \\equiv 5 \\pmod 9$.  \n",
    "\n",
    "> Méthode avec l'indicatrice d'Euler. $\\varphi(9) = \\varphi(3^2) = 3^{2-1}\\times(3-1) = 6$. On calcule alors $2^{6-1} = 2^5 \\equiv 5 \\pmod 9$. Et la vérification $5\\times 2\\equiv 1 \\pmod 9$, confirme que $2$ et $5$ sont inverses l'un de l'autre, modulo $9$.\n",
    "\n",
    "pour finir, on a $c \\equiv -3\\times 5 \\equiv -6 \\equiv 3 \\pmod 9$. Et, en conclusion, $c=3$ (qui est le seul chiffre congru à $3$ modulo $9$), est la seule solution à ce problème.\n",
    "\n",
    "> **Remarque** Ici, nous avons utilisé une méthode qui évite de faire une boucle de $9$ tours, alors que c'était facile. Or il existe des problèmes équivalents, où $9$ est remplacé, par un nombre $n$ bien plus grand. À partir du moment où l'on peut factoriser $n$ (en temps raisonnable), on obtient $\\varphi(n)$, et la suite de la méthode est peu couteuse en calculs."
   ]
  },
  {
   "cell_type": "markdown",
   "metadata": {
    "collapsed": false
   },
   "source": [
    "### d) Méthode de Ruffini-Horner\n",
    "Considérons le polynôme $P(x) = 2x^3+5x^2+7x+6$.\n",
    "\n",
    "On peut l'écrire $P(x) = ((2x+5)x+7)x+6$.\n",
    "\n",
    "Cela permet de l'évaluer sans calculer de puissance.\n",
    "\n",
    "> Pour un polynôme de degré $n$, le coût est de $n$ multiplications et de $n$ additions.\n",
    "\n",
    "> En calcul modulaire, on fait une réduction au moins une fois après chaque duo de multiplication-addition."
   ]
  },
  {
   "cell_type": "markdown",
   "metadata": {
    "collapsed": false
   },
   "source": [
    "**Exemple** Évaluer $P(x) = 134x^5+56x^4+205x^3+189x^2+76x+109$\n",
    "en $x=227$, donner la réponse modulo $256$.\n",
    "\n",
    "> $134x+56 =$  \n",
    "> $\\;\\;\\;134\\times227+56 = 30474 \\equiv 10 \\pmod{256}$  \n",
    "> $(134x+56)x+205 \\equiv$  \n",
    "> $\\;\\;\\;10\\times227+205 = 2475 \\equiv 171 \\pmod{256}$  \n",
    "> $((134x+56)x+205)x+189 \\equiv$  \n",
    "> $\\;\\;\\;171\\times227+189 = 39006 \\equiv 94 \\pmod{256}$  \n",
    "> $(((134x+56)x+205)x+189)x+76 \\equiv$  \n",
    "> $\\;\\;\\;94\\times227+76 = 21414 \\equiv 166 \\pmod{256}$  \n",
    "> $((((134x+56)x+205)x+189)x+76)x+109 \\equiv$  \n",
    "> $\\;\\;\\;166\\times227+109 = 37791 \\equiv 159 \\pmod{256}$  \n",
    "> En conclusion $P(227) \\equiv 159 \\pmod{256}$.\n",
    "\n",
    "_Commentaires_ : Les calculs intermédiaires modulo $m$ ne dépassent pas $(m-1)^2+(m-1) = m(m-1) < m^2$, ce qui permet de facilement évaluer modulo $m$ sur $32$-bit, en utilisant une variable temporaire sur $64$-bit.   \n",
    "Pour évaluer modulo $64$-bit, il faut (émuler) un conteneur $128$-bit. En Python, c'est transparent, donc très facile, mais un peu lent ; en C, il y a du travail ou non suivant l'architecture."
   ]
  },
  {
   "cell_type": "code",
   "execution_count": 2,
   "metadata": {
    "collapsed": false
   },
   "outputs": [
    {
     "name": "stdout",
     "output_type": "stream",
     "text": [
      "159\n"
     ]
    }
   ],
   "source": [
    "# Vérification force brute\n",
    "def P(x): return 134*x**5 + 56*x**4 + 205*x**3 + 189*x**2 + 76*x + 109\n",
    "print(P(227)%256)"
   ]
  },
  {
   "cell_type": "markdown",
   "metadata": {
    "collapsed": false
   },
   "source": [
    "### e) Gérer les divisions\n",
    "On peut montrer que pour $n\\in\\mathbb{N}$,\n",
    "$$S_2(n)=0^2+1^2+2^2+3^2+\\cdots+n^2=\\dfrac{n(n+1)(2n+1)}{6}$$\n",
    "\n",
    "On souhaite calculer $S_2(n)$ modulo $m$ :\n",
    "* Si $m\\land6=1$, alors $6$ est inversible modulo $m$. On peut alors calculer le numérateur modulo $m$, et multiplier par $6^{-1}$ modulo $m$. C'est le cas facile.\n",
    "* Dans tous les cas, on peut calculer le numérateur modulo $6m$ (les calculs intermédiaires seront de l'ordre de $36m^2$) ; enfin on divise le résultat par $6$, qui est ici multiple de $6$.   \n",
    "_Attention : en C (par exemple), on veillera à être sûr que $36m^2$ tient dans le conteneur. Un débordement serait une source d'erreur._"
   ]
  },
  {
   "cell_type": "code",
   "execution_count": 3,
   "metadata": {
    "collapsed": false
   },
   "outputs": [
    {
     "name": "stdout",
     "output_type": "stream",
     "text": [
      "Tests réussis.\n"
     ]
    }
   ],
   "source": [
    "def S2_brute(n):\n",
    "    return sum(k**2 for k in range(n+1))\n",
    "\n",
    "def S2(n):\n",
    "    return n*(n+1)*(2*n+1)//6\n",
    "\n",
    "for n in range(1000):\n",
    "    assert S2_brute(n) == S2(n), f\"Échec avec n={n}\"\n",
    "    \n",
    "def S2mod(n, m):\n",
    "    M = 6*m\n",
    "    n %= M # n est réduit modulo M\n",
    "    ans = n*(n+1)%M\n",
    "    ans = ans*(2*n+1)%M\n",
    "    # ans est égal au numérateur, modulo 6m\n",
    "    ans //= 6\n",
    "    # ans est la réponse, modulo m\n",
    "    return ans\n",
    "\n",
    "for m in range(1, 100):\n",
    "    for n in range(1000):\n",
    "        assert S2(n)%m == S2mod(n, m), f\"Échec avec n={n}, et m={m}\"\n",
    "\n",
    "print(\"Tests réussis.\")"
   ]
  },
  {
   "cell_type": "markdown",
   "metadata": {
    "collapsed": false
   },
   "source": [
    "## II] Racines modulaires\n",
    "### a) Racines carrées\n",
    "Soit l'équation dans $\\mathbb{Z}$, pour $a$ et $m$ fixés : $$x^2\\equiv a \\pmod m$$\n",
    "Cette équation a (ou non) des solutions.\n",
    "> Si $x\\equiv x' \\pmod m$, alors $x$ est solution si et seulement si $x'$ l'est. Il suffit donc d'étudier les classes solutions. On dit qu'on peut résoudre modulo $m$.\n",
    "\n",
    "**Exemple** L'équation $x^2\\equiv a \\pmod 9$.\n",
    "\n",
    "|$x$|$x^2$|\n",
    "|---|-----|\n",
    "|$-4$|$-2$|\n",
    "|$-3$|$0$|\n",
    "|$-2$|$4$|\n",
    "|$-1$|$1$|\n",
    "|$0$|$0$|\n",
    "|$1$|$1$|\n",
    "|$2$|$4$|\n",
    "|$3$|$0$|\n",
    "|$4$|$-2$|\n",
    "\n",
    "On déduit que :\n",
    "* $x^2 \\equiv 0 \\pmod 9$ possède trois solutions modulo $9$ : $0$, $3$, et $6$ (ou $-3$ qui représente aussi la même classe).\n",
    "* $x^2 \\equiv 1 \\pmod 9$ possède deux solutions modulo $9$ : $1$, et $-1$.\n",
    "* $x^2 \\equiv 2 \\pmod 9$ ne possède aucune solution modulo $9$.\n",
    "* $x^2 \\equiv 4 \\pmod 9$ possède deux solutions modulo $9$ : $2$ et $-2$ (ou $7$).\n",
    "* $x^2 \\equiv -2 \\pmod 9$ possède deux solutions modulo $9$ : $4$ et $-4$ (ou $5$).\n",
    "* $x^2 \\equiv a \\pmod 9$ ne possède aucune solution modulo $9$, pour $a\\in \\{-4, -3, -1, 2, 3\\}$.\n",
    "\n"
   ]
  },
  {
   "cell_type": "markdown",
   "metadata": {
    "collapsed": false
   },
   "source": [
    "### b) Carré modulo $m$\n",
    "Il y a des techniques de factorisation qui fonctionnent en testant si certains entiers sont des carrés d'entiers.\n",
    "\n",
    "> **Exemple simplifié** : Avec $n$ un entier composé connu que l'on souhaite factoriser. On fait varier $b$ de $1$ à une certaine limite.\n",
    "> 1. On calcule $n + b^2$ ;\n",
    "> 2. Si cet entier est un carré, on peut écrire $n+b^2 = a^2$, et donc $n=(a-b)(a+b)$ qui offre une factorisation de $n$.\n",
    "\n",
    "La méthode naïve pour savoir si un entier est un carré, est de calculer une racine carrée et de vérifier si le résultat est entier. C'est très long !\n",
    "\n",
    "On peut accélérer ce test \"un entier est un carré\", en affirmant que si $n$ est un carré, alors c'est un carré modulo $m$ ; pour plusieurs valeurs de $m$, ce qui permet d'apporter une réponse négative très rapide dans la plupart des cas, où on n'utilise pas la valeur approchée de la racine carrée.  \n",
    "Lorsque la réponse est positive, on a une grande chance d'avoir pu factoriser $n$."
   ]
  },
  {
   "cell_type": "code",
   "execution_count": 7,
   "metadata": {
    "collapsed": false
   },
   "outputs": [
    {
     "name": "stdout",
     "output_type": "stream",
     "text": [
      "Modulo 63, il y a 16 carrés, qui sont : [0, 1, 4, 7, 9, 16, 18, 22, 25, 28, 36, 37, 43, 46, 49, 58]\n",
      "Modulo 64, il y a 12 carrés, qui sont : [0, 1, 4, 9, 16, 17, 25, 33, 36, 41, 49, 57]\n"
     ]
    }
   ],
   "source": [
    "for m in range(63, 65):\n",
    "    SQ = list(set(x*x%m for x in range(m)))\n",
    "    SQ.sort()\n",
    "    print(f\"Modulo {m}, il y a {len(SQ)} carrés, qui sont :\", SQ)"
   ]
  },
  {
   "cell_type": "markdown",
   "metadata": {
    "collapsed": false
   },
   "source": [
    "En supposant qu'être un carré modulo $64$ ou modulo $63$ soit indépendant, il y a une probabilité de $\\dfrac{64-12}{64}\\times\\dfrac{63-16}{63}\\approx 61\\,\\%$ d'affirmer qu'un entier n'est pas un carré en calculant seulement deux résidus modulaires de $n$.  \n",
    "Avec un choix judicieux de modulos, on arrive à donner une réponse négative dans une grande majorité des cas, et en donnant un minimum de faux positifs."
   ]
  },
  {
   "cell_type": "markdown",
   "metadata": {
    "collapsed": false
   },
   "source": [
    "## III] Exponentiation modulaire\n",
    "On souhaite calculer $a^n \\pmod m$, avec $a$, $n$ et $m$ entiers connus.\n",
    "\n",
    "* Si $n$ est pair, $n=2k$ avec $k$ entier, et $a^n = (a^k)^2$.\n",
    "* Sinon, $n$ est impair, $n=2k+1$, avec $k$ entier, et $a^n=a\\times(a^k)^2$.\n",
    "* On en déduit une méthode récursive ; que l'on fasse ou non du calcul modulaire."
   ]
  },
  {
   "cell_type": "code",
   "execution_count": 2,
   "metadata": {
    "collapsed": false
   },
   "outputs": [
    {
     "name": "stdout",
     "output_type": "stream",
     "text": [
      "Test réussi\n"
     ]
    }
   ],
   "source": [
    "def P(a, n, m):\n",
    "    if n==0: return 1%m\n",
    "    A = P(a, n//2, m)\n",
    "    if n%2==0:\n",
    "        return A*A%m\n",
    "    else:\n",
    "        return a*(A*A%m)%m\n",
    "\n",
    "for a in range(10):\n",
    "    for n in range(10):\n",
    "        for m in range(1, 10):\n",
    "            assert pow(a, n, m) == P(a, n, m)\n",
    "print(\"Test réussi\")"
   ]
  },
  {
   "cell_type": "markdown",
   "metadata": {
    "collapsed": false
   },
   "source": [
    "## IV] Chiffrement RSA\n",
    "Le chiffrement [RSA](https://fr.wikipedia.org/wiki/Chiffrement_RSA) (nommé par les initiales de ses trois inventeurs) est un algorithme de cryptographie asymétrique, très utilisé dans le commerce électronique, et plus généralement pour échanger des données confidentielles sur Internet. "
   ]
  },
  {
   "cell_type": "markdown",
   "metadata": {
    "collapsed": false
   },
   "source": [
    "## V] Théorème des restes chinois\n",
    "**Version pratique et simplifiée.**\n",
    "\n",
    "On considère $a$ et $b$ premiers entre eux. Avec l'algorithme d'Euclide étendu, on peut avoir une écriture :\n",
    "$$au+bv=1$$\n",
    "De cette écriture, on tire $au\\equiv 1 \\pmod b$, et $bv\\equiv 1 \\pmod a$\n",
    "\n",
    "On suppose que l'on connaît $x$ modulo $a$, et $b$.\n",
    "$$x\\equiv x_a \\pmod a$$\n",
    "$$x\\equiv x_b \\pmod b$$\n",
    "\n",
    "On construit alors le nombre :\n",
    "$$n = x_bau+x_abv$$\n",
    "\n",
    "On déduit :\n",
    "$$n \\equiv x_bau \\equiv x_b \\pmod b$$\n",
    "$$n \\equiv x_abv \\equiv x_a \\pmod a$$\n",
    "\n",
    "Ce qui signifie que $n$ est une solution au système :\n",
    "$$\\left\\{\n",
    "\\begin{array}{r c l}\n",
    "    n & \\equiv &x_a \\pmod{a} \\\\\n",
    "    n & \\equiv &x_b \\pmod{b} \\\\\n",
    "\\end{array}\n",
    "\\right.$$\n",
    "\n",
    "Le théorème des restes chinois affirme que la solution est unique modulo $ab$. En effet, soit $n_1$ et $n_2$ deux solutions au système précédent. On a :\n",
    "$$\\left\\{\n",
    "\\begin{array}{r c l}\n",
    "    n_1-n_2 & \\equiv & 0 \\pmod{a} \\\\\n",
    "    n_1-n_2 & \\equiv & 0 \\pmod{b} \\\\\n",
    "\\end{array}\n",
    "\\right.$$\n",
    "\n",
    "Avec $a\\land b=1$, on déduit que $n_1-n_2 \\equiv 0 \\pmod{ab}$, qui confirme que la solution est unique modulo $ab$.\n",
    "\n",
    "> **En pratique.** Objectif : On cherche un nombre $n$, que l'on sait majorer par $M$.\n",
    "> 1. On choisit un ensemble de facteurs $a_i$ (premiers entre eux) dont le produit est supérieur à $M$. (En pratique, des nombres premiers 32-bit ; afin d'avoir une arithmétique modulaire très rapide.)\n",
    "> 2. On calcule $n$ modulo $a_i$, pour chaque $a_i$.\n",
    "> 3. Avec la technique précédente, on obtient une solution unique modulo le produit des $a_i$ ; or ce produit majore $n$ ; on a donc reconstruit le nombre $n$, en faisant plusieurs fois (pour chaque $a_i$) les calculs complexes, mais très rapides.\n"
   ]
  },
  {
   "cell_type": "markdown",
   "metadata": {
    "collapsed": false
   },
   "source": [
    "## VI] Codes correcteurs\n",
    "Un [code correcteur](https://fr.wikipedia.org/wiki/Arithm%C3%A9tique_modulaire#Codes_correcteurs) n'a pas la vocation d'assurer la sécurité, mais la fiabilité de la transmission d'un message. Il permet de restituer le texte original même si une perturbation aléatoire et modérée se produit durant la transmission."
   ]
  },
  {
   "cell_type": "markdown",
   "metadata": {
    "collapsed": false
   },
   "source": [
    "## VII] [Et cætera](https://fr.wikipedia.org/wiki/Arithm%C3%A9tique_modulaire)\n"
   ]
  },
  {
   "cell_type": "code",
   "execution_count": 0,
   "metadata": {
    "collapsed": false
   },
   "outputs": [
   ],
   "source": [
   ]
  }
 ],
 "metadata": {
  "kernelspec": {
   "display_name": "Python 3 (Ubuntu Linux)",
   "language": "python",
   "name": "python3"
  },
  "language_info": {
   "codemirror_mode": {
    "name": "ipython",
    "version": 3
   },
   "file_extension": ".py",
   "mimetype": "text/x-python",
   "name": "python",
   "nbconvert_exporter": "python",
   "pygments_lexer": "ipython3",
   "version": "3.6.6"
  }
 },
 "nbformat": 4,
 "nbformat_minor": 0
}
