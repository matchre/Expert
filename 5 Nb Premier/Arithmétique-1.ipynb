{
 "cells": [
  {
   "cell_type": "markdown",
   "metadata": {},
   "source": [
    "# Arithmétique élémentaire\n",
    "\n",
    "Par <a href=\"mailto:franck.chambon@académie-aix-marseille.france\">Franck CHAMBON</a>\n",
    "\n",
    "Objectifs :\n",
    "- Étudier les algorithmes élémentaires sur les listes de diviseurs, les tests de primalité\n",
    "- Aborder la notion de complexité\n",
    "- Utiliser parfois les listes en compréhension\n",
    "- S'exercer avec le crible d'Ératosthène\n",
    "- S'exercer à la factorisation élémentaire\n",
    "\n",
    "---\n",
    "\n",
    "On note $\\mathbb N$ l'ensemble des entiers naturels : $\\{0, 1, 2, 3, 4, 5, \\cdots \\}$"
   ]
  },
  {
   "cell_type": "markdown",
   "metadata": {},
   "source": [
    "## Définitions\n",
    "\n",
    "**Multiple**\n",
    "> Un entier $n$ est un multiple de $k$, si il existe $d\\in \\mathbb N$ tel que $n = k\\times d$.\n",
    "> - Dans ce cas $n$ est un multiple de $k$ et $d$.\n",
    "> - Exemple 1 : $170 = 17\\times 10$, donc $170$ est un multiple de $17$ et de $10$.\n",
    "> - Exemple 2 : $0=17\\times 0$, donc $0$ est un multiple de $17$ et de $0$.\n",
    "\n",
    "On remarque que $0$ est un multiple de tout entier de manière évidente (on dit aussi de manière triviale).\n",
    "\n",
    "**Diviseur**\n",
    "> Si $n$ est un multiple de $k$, on dit aussi que $k$ est un diviseur de $n$.\n",
    "> - Exemple 1 : $17$ et $10$ sont des diviseurs de $170$, *mais pas les seuls*.\n",
    "> - Exemple 2 : $17$ et $0$ sont des diviseurs de $0$, oui !\n",
    "\n",
    "On remarque que tout entier est diviseur de $0$ de manière triviale.\n",
    "D'un autre côté l'équation $0 = a \\times b$ n'a aucune solution quand $a$ et $b$ sont des entiers non nuls.\n",
    "Par abus de langage, on dira que zéro n'a aucun diviseur, on devrait dire que zéro n'a aucun diviseur non trivial.\n",
    "\n",
    "> - Attention, cela ne veut pas dire qu'on a le droit de diviser par zéro.\n",
    "> - Dans les études supérieures, on apprend ce qu'est un anneau intègre (un anneau sans diviseurs de zéro), c'est à comprendre au sens de sans diviseurs non triviaux de zéro.\n",
    "\n",
    "**Ensemble des diviseurs d'un entier**\n",
    "> Pour un entier non nul, il est clair qu'un diviseur $d$ de $n$ est un entier compris entre $1$ et $n$ inclus ; l'ensemble des diviseurs d'un entier non nul est donc fini.\n",
    "\n",
    "Exemples :\n",
    "- L'ensemble des diviseurs de $0$ est $\\mathbb N$.  \n",
    "- L'ensemble des diviseurs de $1$ est $\\{1\\}$.\n",
    "- L'ensemble des diviseurs de $10$ est $\\{1, 2, 5, 10\\}$.\n",
    "- L'ensemble des diviseurs de $17$ est $\\{1, 17\\}$.\n",
    "\n",
    "\n",
    "**Nombre premier**\n",
    "> Un nombre premier est un nombre $p$ dont l'ensemble des diviseurs est $\\{1, p\\}$.\n",
    "\n",
    "La [liste des nombres premiers](https://oeis.org/A000040) commence par $[2, 3, 5, 7, 11, 13, 17, \\cdots]$\n",
    "\n",
    "---\n",
    "\n",
    "Dans la suite de ce carnet, $n$ désignera un entier non nul, ce qui permettra d'alléger les notations.\n",
    "\n",
    "$$n\\in\\mathbb N^*$$\n",
    "\n",
    "---"
   ]
  },
  {
   "cell_type": "markdown",
   "metadata": {},
   "source": [
    "## Obtenir la liste des diviseurs\n",
    "\n",
    "On peut programmer trois méthodes naïves assez facilement.\n",
    "\n",
    "### Méthode 1\n",
    "\n",
    "Une première méthode est de tester toutes les multiplications avec des facteurs compris entre $1$ et $n$.\n",
    "\n",
    "> On rappelle qu'en *Python*, si $i, j, k$ sont des entiers avec $j\\leqslant k$, alors  \n",
    ">`for i in range(j, k):` est une structure de boucle qui donne à $i$ successivement les valeurs de $j$ inclus à $k$ exclu !\n",
    "> \n",
    "> On a donc $k-j$ tours de boucle.\n",
    "\n",
    "Commençons par construire l'ensemble des diviseurs, puis la liste."
   ]
  },
  {
   "cell_type": "code",
   "execution_count": 1,
   "metadata": {},
   "outputs": [
    {
     "name": "stdout",
     "output_type": "stream",
     "text": [
      "{1, 2, 34, 5, 170, 10, 17, 85}\n"
     ]
    }
   ],
   "source": [
    "n = 170 # nombre à modifier au choix dans ℕ\\{0}\n",
    "ensemble_des_diviseurs_de_n = set() # un ensemble vide pour commencer\n",
    "for a in range(1, n+1):\n",
    "    for b in range(1, n+1):\n",
    "        if a * b == n:\n",
    "            # on ajoute (add) a et b à l'ensemble des diviseurs\n",
    "            ensemble_des_diviseurs_de_n.add(a)\n",
    "            ensemble_des_diviseurs_de_n.add(b)\n",
    "print(ensemble_des_diviseurs_de_n)"
   ]
  },
  {
   "cell_type": "markdown",
   "metadata": {},
   "source": [
    "On constate que les diviseurs, bien qu'ajoutés plusieurs fois, ne sont présents qu'une seule fois dans le `set`, c'est normal.\n",
    "*Python* vérifie avant d'ajouter un objet dans un ensemble s'il est déjà présent. Ce n'est pas une liste !\n",
    "\n",
    "Pour obtenir la liste ordonnée des diviseurs, on peut utiliser le code suivant :"
   ]
  },
  {
   "cell_type": "code",
   "execution_count": 2,
   "metadata": {},
   "outputs": [
    {
     "name": "stdout",
     "output_type": "stream",
     "text": [
      "[1, 2, 5, 10, 17, 34, 85, 170]\n"
     ]
    }
   ],
   "source": [
    "liste_diviseurs = list(ensemble_des_diviseurs_de_n)  # on obtient une liste\n",
    "liste_diviseurs.sort()                               # on la trie en place\n",
    "print(liste_diviseurs)                               # on l'affiche"
   ]
  },
  {
   "cell_type": "markdown",
   "metadata": {},
   "source": [
    "Cette méthode est très lente, deux boucles imbriquées qui font $n$ tours chacune, donnent un total de $n^2$ tests réalisés à l'intérieur.\n",
    "**On dit que cette méthode est de complexité quadratique**, on note $\\Theta (n^2)$ (on dit : thêta de $n$ carré).\n",
    "\n",
    "> Si on ne s'autorise qu'environ $10^8$ opérations élémentaires, on ne peut que donner la liste des diviseurs d'un entier inférieur à $10^4$.\n",
    "Peut-on faire mieux ?"
   ]
  },
  {
   "cell_type": "markdown",
   "metadata": {},
   "source": [
    "### Méthode 2\n",
    "\n",
    "En *Python*, il existe l'opérateur `%` (modulo) qui donne le reste dans la division euclidienne de deux entiers.\n",
    "\n",
    "`n % d == 0` signifie que le reste de la division euclidienne de $n$ par $d$ est nul, autrement dit que la division de $n$ par $d$ tombe juste, c'est à dire que $d$ est un diviseur de $n$.\n",
    "\n",
    "**Utilisation**, en construisant une fonction :"
   ]
  },
  {
   "cell_type": "code",
   "execution_count": 3,
   "metadata": {},
   "outputs": [
    {
     "name": "stdout",
     "output_type": "stream",
     "text": [
      "[1, 2, 5, 10, 17, 34, 85, 170]\n",
      "[1, 3, 9]\n"
     ]
    }
   ],
   "source": [
    "def diviseurs_v1(n):\n",
    "    \"Retourne la liste des diviseurs de l'entier naturel non nul : n\"\n",
    "    diviseurs_lst = [] # une liste vide\n",
    "    for d in range(1, n+1):\n",
    "        if n % d == 0:\n",
    "            diviseurs_lst.append(d)\n",
    "    return diviseurs_lst\n",
    "\n",
    "print(diviseurs_v1(170))\n",
    "print(diviseurs_v1(9))"
   ]
  },
  {
   "cell_type": "markdown",
   "metadata": {},
   "source": [
    "Remarque : on peut construire directement la liste par compréhension, c'est au programme de la spécialité maths en première."
   ]
  },
  {
   "cell_type": "code",
   "execution_count": 4,
   "metadata": {},
   "outputs": [
    {
     "name": "stdout",
     "output_type": "stream",
     "text": [
      "[1, 2, 5, 10, 17, 34, 85, 170]\n",
      "[1, 3, 9]\n"
     ]
    }
   ],
   "source": [
    "def diviseurs_v2(n):\n",
    "    \"Retourne la liste des diviseurs de l'entier naturel non nul : n\"\n",
    "    return [d for d in range(1, n+1) if n % d == 0]\n",
    "\n",
    "print(diviseurs_v2(170))\n",
    "print(diviseurs_v2(9))"
   ]
  },
  {
   "cell_type": "markdown",
   "metadata": {},
   "source": [
    "Cette méthode fait une seule boucle qui fait $n$ tours avec un nombre limité d'opérations. **On dit que cette méthode est de complexité linéaire**, on note $\\Theta(n)$.\n",
    "\n",
    "> Si on ne s'autorise qu'environ $10^8$ opérations élémentaires, on ne peut que donner la liste des diviseurs d'un entier inférieur à $10^8$.\n",
    "Peut-on faire mieux ?"
   ]
  },
  {
   "cell_type": "markdown",
   "metadata": {},
   "source": [
    "### Méthode 3\n",
    "On rappelle que $n$ désigne un entier non nul !\n",
    "\n",
    "#### Propriété 1\n",
    "> Si $k$ est un diviseur de $n$, alors $\\dfrac n k$ est aussi un diviseur de $n$.\n",
    "\n",
    "En *Python*, l'opérateur `//` donne le quotient dans la division euclidienne.\n",
    "\n",
    "#### Propriété 2\n",
    "> Si $n = d\\times k$, avec $d\\leqslant k$, alors $d\\times d \\leqslant k\\times d$, et donc $d^2 \\leqslant n$.\n",
    "\n",
    "Cela signifie qu'on peut rechercher les diviseurs par couple $(d, k)$, et que le plus petit $d$ vérifie $d^2 \\leqslant n$.\n"
   ]
  },
  {
   "cell_type": "code",
   "execution_count": 5,
   "metadata": {},
   "outputs": [
    {
     "name": "stdout",
     "output_type": "stream",
     "text": [
      "[1, 2, 5, 10, 17, 34, 85, 170]\n",
      "[1, 3, 9]\n"
     ]
    }
   ],
   "source": [
    "def diviseurs(n):\n",
    "    \"Retourne la liste des diviseurs de l'entier naturel non nul : n\"\n",
    "    diviseurs_ens = set() # un ensemble vide\n",
    "    d = 1\n",
    "    while d * d <= n:\n",
    "        if n % d == 0:\n",
    "            diviseurs_ens.add(d)\n",
    "            diviseurs_ens.add(n//d)\n",
    "        d += 1\n",
    "    diviseurs_lst = list(diviseurs_ens)\n",
    "    diviseurs_lst.sort()\n",
    "    return diviseurs_lst\n",
    "print(diviseurs(170))\n",
    "print(diviseurs(9))"
   ]
  },
  {
   "cell_type": "markdown",
   "metadata": {},
   "source": [
    "Cette méthode fait une seule boucle qui fait environ $\\sqrt n$ tours avec un nombre limité d'opérations. **On dit que cette méthode est de complexité racinaire**, on note $\\Theta\\left(\\sqrt n\\right)$.\n",
    "\n",
    "> Si on ne s'autorise qu'environ $10^8$ opérations élémentaires, on ne peut que donner la liste des diviseurs d'un entier inférieur à $10^{16}$.\n",
    "Peut-on faire mieux ?\n",
    "\n",
    "Oui, on peut faire mieux. Cependant les méthodes individuelles sont plus complexes et reposent souvent essentiellement sur la décomposition en facteurs premiers. On peut aussi utiliser des méthodes de crible pour déterminer de manière globale la liste des diviseurs de tous les entiers dans un intervalle, plutôt que de répéter une méthode individuelle.\n",
    "\n",
    "Avant de travailler sur les algorithmes de factorisation, il vaut mieux d'abord travailler sur les algorithmes de test de primalité.\n",
    "\n",
    "Avant de passer à la partie suivante, un exercice à faire pour vérifier que tout est assimilé."
   ]
  },
  {
   "cell_type": "markdown",
   "metadata": {},
   "source": [
    "#### Exercice : Pure liste des diviseurs\n",
    "Reprendre la fonction `diviseurs` et ne travailler qu'avec des listes, ne pas utiliser d'ensemble.\n",
    "\n",
    "Modifier le code de la fonction ci-dessous, le lancer jusqu'à ne plus obtenir le message d'erreur."
   ]
  },
  {
   "cell_type": "code",
   "execution_count": 6,
   "metadata": {},
   "outputs": [
    {
     "ename": "AssertionError",
     "evalue": "Échec au test pour n = 1",
     "output_type": "error",
     "traceback": [
      "\u001b[0;31m---------------------------------------------------------------------------\u001b[0m",
      "\u001b[0;31mAssertionError\u001b[0m                            Traceback (most recent call last)",
      "\u001b[0;32m<ipython-input-6-f9b9a816fbb2>\u001b[0m in \u001b[0;36m<module>\u001b[0;34m\u001b[0m\n\u001b[1;32m     10\u001b[0m \u001b[0;31m# TESTS à ne pas modifier #\u001b[0m\u001b[0;34m\u001b[0m\u001b[0;34m\u001b[0m\u001b[0;34m\u001b[0m\u001b[0m\n\u001b[1;32m     11\u001b[0m \u001b[0;32mfor\u001b[0m \u001b[0mn\u001b[0m \u001b[0;32min\u001b[0m \u001b[0mrange\u001b[0m\u001b[0;34m(\u001b[0m\u001b[0;36m1\u001b[0m\u001b[0;34m,\u001b[0m \u001b[0;36m100\u001b[0m\u001b[0;34m)\u001b[0m\u001b[0;34m:\u001b[0m\u001b[0;34m\u001b[0m\u001b[0;34m\u001b[0m\u001b[0m\n\u001b[0;32m---> 12\u001b[0;31m     \u001b[0;32massert\u001b[0m \u001b[0mdiviseurs\u001b[0m\u001b[0;34m(\u001b[0m\u001b[0mn\u001b[0m\u001b[0;34m)\u001b[0m \u001b[0;34m==\u001b[0m \u001b[0mdiviseurs_perso\u001b[0m\u001b[0;34m(\u001b[0m\u001b[0mn\u001b[0m\u001b[0;34m)\u001b[0m\u001b[0;34m,\u001b[0m \u001b[0;34mf\"Échec au test pour n = {n}\"\u001b[0m\u001b[0;34m\u001b[0m\u001b[0;34m\u001b[0m\u001b[0m\n\u001b[0m\u001b[1;32m     13\u001b[0m \u001b[0mprint\u001b[0m\u001b[0;34m(\u001b[0m\u001b[0;34m\"Bravo ! Tests réussis !\"\u001b[0m\u001b[0;34m)\u001b[0m\u001b[0;34m\u001b[0m\u001b[0;34m\u001b[0m\u001b[0m\n\u001b[1;32m     14\u001b[0m \u001b[0;31m# Fin des TESTS           #\u001b[0m\u001b[0;34m\u001b[0m\u001b[0;34m\u001b[0m\u001b[0;34m\u001b[0m\u001b[0m\n",
      "\u001b[0;31mAssertionError\u001b[0m: Échec au test pour n = 1"
     ]
    }
   ],
   "source": [
    "def diviseurs_perso(n):\n",
    "    \"votre docstring à écrire ici\"\n",
    "    diviseurs_lst = []\n",
    "    # À compléter vous même\n",
    "    #...\n",
    "    #...\n",
    "    return diviseurs_lst\n",
    "\n",
    "###########################\n",
    "# TESTS à ne pas modifier #\n",
    "for n in range(1, 100):\n",
    "    assert diviseurs(n) == diviseurs_perso(n), f\"Échec au test pour n = {n}\"\n",
    "print(\"Bravo ! Tests réussis !\")\n",
    "# Fin des TESTS           #\n",
    "###########################"
   ]
  },
  {
   "cell_type": "markdown",
   "metadata": {},
   "source": [
    "#### Somme des diviseurs de tous les entiers jusqu'à une certaine borne\n",
    "Quelle est la somme de tous les diviseurs de tous les entiers de $1$ jusqu'à $10^7$ exclu."
   ]
  },
  {
   "cell_type": "markdown",
   "metadata": {},
   "source": [
    "---"
   ]
  },
  {
   "cell_type": "markdown",
   "metadata": {},
   "source": [
    "## Test de primalité\n",
    "\n",
    "D'après la définition, on peut directement écrire notre premier test de primalité en complexité racinaire :"
   ]
  },
  {
   "cell_type": "code",
   "execution_count": 8,
   "metadata": {},
   "outputs": [
    {
     "name": "stdout",
     "output_type": "stream",
     "text": [
      "Les nombres premiers jusqu'à 100 sont :\n",
      "2, 3, 5, 7, 11, 13, 17, 19, 23, 29, 31, 37, 41, 43, 47, 53, 59, 61, 67, 71, 73, 79, 83, 89, 97, \n",
      "\n",
      "Les nombres premiers à 10 chiffres commencent par :\n",
      "1000000007, 1000000009, 1000000021, 1000000033, 1000000087, "
     ]
    }
   ],
   "source": [
    "def est_premier_v1(n):\n",
    "    \"Retourne True si n est premier, False sinon\"\n",
    "    return diviseurs(n) == [1, n]\n",
    "\n",
    "limite = 100\n",
    "print(f\"Les nombres premiers jusqu'à {limite} sont :\")\n",
    "for n in range(1, 100):\n",
    "    if est_premier_v1(n):\n",
    "        print(n, end=\", \")\n",
    "\n",
    "print()\n",
    "print()\n",
    "print(\"Les nombres premiers à 10 chiffres commencent par :\")\n",
    "n = 10**9\n",
    "cpt = 5\n",
    "while cpt > 0:\n",
    "    n += 1\n",
    "    if est_premier_v1(n):\n",
    "        print(n, end=\", \")\n",
    "        cpt -= 1   "
   ]
  },
  {
   "cell_type": "markdown",
   "metadata": {},
   "source": [
    "**[Remarque historique](https://fr.wikipedia.org/wiki/Plus_grand_nombre_premier_connu#Histoire)** : En 1772, [Leonhard Euler](https://fr.wikipedia.org/wiki/Leonhard_Euler) est le premier à avoir déterminé, un nombre premier à 10 chiffres. Record qui sera battu autour de 1855."
   ]
  },
  {
   "cell_type": "markdown",
   "metadata": {},
   "source": [
    "### Critique de cette méthode\n",
    "Cette méthode est en complexité racinaire pour toute valeur entrée, ce qui signifie qu'on va avoir, par exemple, une boucle d'environ $\\sqrt{10^9}$ tours pour, au final, affirmer que $10^9$ n'est pas premier. On peut faire mieux !\n",
    "\n",
    "Dans le code ci-dessous nous allons faire des retours prématurés de résultats. Dans certaines industries de l'informatique cette pratique est très encadrée. Le code qui utilise ces méthodes doit être encore plus rigoureux. Cela permet d'écrire un code plus synthétique ou rapide, mais plus difficle à maintenir.\n"
   ]
  },
  {
   "cell_type": "code",
   "execution_count": 9,
   "metadata": {},
   "outputs": [
    {
     "name": "stdout",
     "output_type": "stream",
     "text": [
      "Test réussi\n"
     ]
    }
   ],
   "source": [
    "def est_premier(n):\n",
    "    if n < 2:\n",
    "        # ni 0 ni 1 ne sont premiers\n",
    "        return False\n",
    "    d = 2\n",
    "    while d * d <= n:\n",
    "        if n % d == 0:\n",
    "            # n possède un diviseur d, distinct de 1 et n\n",
    "            return False\n",
    "        d += 1\n",
    "    # n ne possède aucun diviseur entre 2 et √(n) inclus\n",
    "    return True\n",
    "\n",
    "for n in range(1, 1000):\n",
    "    assert est_premier(n) == est_premier_v1(n), f\"Échec pour n = {n}\"\n",
    "print(\"Test réussi\")"
   ]
  },
  {
   "cell_type": "markdown",
   "metadata": {},
   "source": [
    "Ici, on ne construit pas la liste des diviseurs, on se contente de vérifier qu'il n'y en a pas d'autres à part $1$ et lui-même.\n",
    "- Pour $n=10^9$, la fonction fait un seul tour de boucle avant de retourner `False`.\n",
    "- Pour $n=10^9+1$, la fonction fait 6 tours de boucle avant de retourner `False`, $7$ étant un diviseur.\n",
    "- Pour $n=10^9+7$, la fonction fait environ $\\sqrt n$ tours de boucle avant de retourner `True`. Comme à chaque fois que $n$ est premier.\n",
    "\n",
    "Cette méthode est donc souvent plus rapide, mais pas **dans le pire des cas où elle reste en complexité racinaire**, on note $\\mathcal O\\left(\\sqrt n\\right)$.\n",
    "\n",
    "Cette méthode reste individuelle, et on peut faire mieux lorsqu'on souhaite obtenir la primalité d'entiers dans un intervalle. Voyons la méthode incontournable."
   ]
  },
  {
   "cell_type": "markdown",
   "metadata": {},
   "source": [
    "---"
   ]
  },
  {
   "cell_type": "markdown",
   "metadata": {},
   "source": [
    "## Crible d'Ératosthène\n",
    "Le crible d'Ératosthène permet d'**obtenir la liste de tous les nombres premiers** jusqu'à une certaine limite.\n",
    "\n",
    "### Méthode\n",
    "- $0$ et $1$ ne sont ni premiers, ni composés. *Remarque : le status pour $1$ a varié au cours du temps.*\n",
    "- Un entier supérieur à $1$ est soit premier, soit composé.\n",
    "- Un entier composé $n$ s'écrit $d\\times k$ avec $d, k$ entiers et $1<d\\leqslant k<n$.\n",
    "\n",
    "Le crible d'Ératosthène marque $0$, $1$ et tous les nombres composés jusqu'à une certaine limite, ne laissant non marqués que les nombres premiers.\n",
    "\n",
    "#### Propriété 3\n",
    "Si $n>1$ alors $n$ possède au moins un diviseur distinct de $1$,\n",
    "et le plus petit d'entre eux est premier.\n",
    "> **Preuve** : Soit $p$ le plus petit diviseur distinct de $1$, s'il est composé, il s'écrit $k\\times d$ avec $d, k$ entiers et $1<d\\leqslant k<n$, or $d$ est aussi un diviseur distinct de $1$ qui contredit la minimalité de $p$. Ainsi $p$ est premier.\n",
    "\n",
    "#### Propriété 4\n",
    "Si $n>1$ est composé, soit $p$ le plus petit diviseur de $n$ distinct de $1$,\n",
    "- $p$ est premier (*propriété 3*)\n",
    "- $p^2 \\leqslant n$\n",
    "\n",
    "On en déduit que tous les entiers composés inférieurs à $n$ possèdent un diviseur premier inférieur à $\\sqrt n$.\n",
    "\n",
    "> Cette propriété est très utile et trop souvent négligée !"
   ]
  },
  {
   "cell_type": "markdown",
   "metadata": {},
   "source": [
    "### Crible en animation, jusqu'à 120\n",
    "\n",
    "![crible animé d'Ératosthène](assets/crible.gif)\n",
    "*Source* : [Wikipédia](https://fr.wikipedia.org/wiki/Crible_d%27%C3%89ratosth%C3%A8ne)\n",
    "\n",
    "Une fois les multiples de $2$ marqués, on marque les multiples de $3$, puis de $5$, puis de $7$. Il est inutile de marquer les multiples de $11$ en vertu de la propriété 4 ; $11^2 = 121 > 120$.\n",
    "\n",
    "Quand on commence à marquer les multiples de $p$ premier, il suffit de commencer à $p^2$, en effet tous les nombres composés inférieurs à $p^2$  ont déjà été marqués ; ils possèdent un diviseur premier inférieur à $p$, toujours en vertu de la propriété 4."
   ]
  },
  {
   "cell_type": "markdown",
   "metadata": {},
   "source": [
    "### Motivation\n",
    "> Cette méthode, le crible d'Ératosthène, possède une bonne complexité, et sa simplicité lui permet de nombreuses variations et optimisations. En pratique cette méthode est plus rapide que d'autres cribles, plus complexes, ayant une meilleure complexité théorique.\n",
    "Cette méthode est aussi une base de réflexion pour construire d'autres cribles : **on peut parfois construire globalement un tableau de valeurs** d'une fonction sur un intervalle, plutôt que de calculer individuellement chaque valeur."
   ]
  },
  {
   "cell_type": "markdown",
   "metadata": {},
   "source": [
    "### Complexité du crible\n",
    "**Uniquement compréhensible en post-bac**\n",
    "\n",
    "Le nombre d'opérations élémentaires pour faire ce crible pour les entiers inférieurs à $n$ est :\n",
    "$$\\sum_{p=2}^{\\sqrt n} \\frac {n-p^2} p \\sim \\int_{2}^{\\sqrt n} \\frac {n-x^2}x \\mathrm{d}x \\sim n\\log(n)$$\n",
    "Elle est quasi-linéaire en temps : $\\Theta\\left(n \\log(n)\\right)$, et linéaire en espace."
   ]
  },
  {
   "cell_type": "markdown",
   "metadata": {},
   "source": [
    "### Comprendre le code ci-dessous\n",
    "- On donne la *docstring*.\n",
    "- On initialise une liste de booléens (crible), on fait comme si tous les entiers étaient premiers (True).\n",
    "- On marque $0$ et $1$ comme non premiers (False).\n",
    "- On fait une boucle pour $p$ partant de $2$, en incrémentant $p$ de $1$ à chaque tour :\n",
    "    - si $p$ est premier, alors on va marquer tous les entiers $k$ multiples de $p$ à partir de $2p$ comme non premiers.\n",
    "    - `range(p*p, borne, p)` donne exactement les multiples de p allant de $p^2$ inclus, jusqu'à la borne exclue.\n",
    "- Quand $p^2 \\geqslant \\textrm{borne}$, on est sûr d'avoir marqué tous les composés ; d'après la propriété 4."
   ]
  },
  {
   "cell_type": "code",
   "execution_count": 10,
   "metadata": {},
   "outputs": [
    {
     "name": "stdout",
     "output_type": "stream",
     "text": [
      "Test réussi\n",
      "\n",
      "La liste des nombres premiers inférieurs à 100 :\n",
      "[2, 3, 5, 7, 11, 13, 17, 19, 23, 29, 31, 37, 41, 43, 47, 53, 59, 61, 67, 71, 73, 79, 83, 89, 97]\n"
     ]
    }
   ],
   "source": [
    "def eratosthene(borne):\n",
    "    \"\"\"\n",
    "    Retourne le crible des nombres premiers inférieurs à borne.\n",
    "    crible[n] vaut True ou False, suivant que n est premier ou non.\n",
    "    \"\"\"\n",
    "    crible = [True] * borne\n",
    "    if borne > 0:\n",
    "        crible[0] = False\n",
    "    if borne > 1:\n",
    "        crible[1] = False\n",
    "    p = 2\n",
    "    while p * p < borne:\n",
    "        if crible[p]:\n",
    "            for k in range(p * p, borne, p):\n",
    "                crible[k] = False\n",
    "        p += 1\n",
    "    return crible\n",
    "\n",
    "# TEST\n",
    "for borne in range(1000):\n",
    "    crible = eratosthene(borne)\n",
    "    for n in range(1, borne):\n",
    "        assert crible[n] == est_premier(n), f\"Échec du test pour borne = {borne}, et n = {n}\"\n",
    "print(\"Test réussi\")\n",
    "print()\n",
    "borne = 100 # à modifier un peu si vous voulez\n",
    "print(f\"La liste des nombres premiers inférieurs à {borne} :\")\n",
    "crible = eratosthene(borne)\n",
    "print([p for p in range(borne) if crible[p]])"
   ]
  },
  {
   "cell_type": "markdown",
   "metadata": {},
   "source": [
    "### Exercice : Crible du plus petit facteur premier\n",
    "Écrire un code qui calcule le plus petit diviseur premier de tous les entiers $n$ inférieurs à une borne.\n",
    "- Pour $0$, on retournera $0$.\n",
    "- Pour $1$, on retournera $1$.\n",
    "- Compléter le code ci-dessous.\n",
    "- Le lancer !\n",
    "- Vérifier votre résultat avec la seconde partie TESTS.\n",
    "- Donner la complexité de votre code. (C'est la même que ...)\n",
    "- Refaire l'exercice avec le plus grand facteur premier au lieu du plus petit.\n",
    "\n",
    "Cet exercice est fondamental pour envisager la factorisation globale de tous les entiers jusqu'à une certaine borne. Nous y reviendrons."
   ]
  },
  {
   "cell_type": "code",
   "execution_count": null,
   "metadata": {},
   "outputs": [],
   "source": [
    "# À modifier, compléter ; ci-dessous.\n",
    "borne = 1000\n",
    "ppfp  = [] #... (ppfp : Plus Petit Facteur Premier)\n",
    "#...\n",
    "#...\n"
   ]
  },
  {
   "cell_type": "code",
   "execution_count": null,
   "metadata": {},
   "outputs": [],
   "source": [
    "# TESTS à lancer ! À ne pas modifier !\n",
    "for n in (0, 1):\n",
    "    assert ppfp[n] == n, f\"Échec pour n = {n}\"\n",
    "for n in range(2, borne):\n",
    "    p = ppfp[n]\n",
    "    assert est_premier(p), f\"Échec. ppfp[{n}] = {p} n'est pas premier.\"\n",
    "    assert n % p == 0, f\"Échec. ppfp[{n}] = {p} n'est pas un diviseur de {n}.\"\n",
    "    for q in range(2, p):\n",
    "        assert n % q != 0, f\"Échec. ppfp[{n}] = {p} n'est pas le plus petit diviseur premier de {n} ; il s'agit de {q}.\"\n",
    "print(\"Tests réussis !\")"
   ]
  },
  {
   "cell_type": "markdown",
   "metadata": {},
   "source": [
    "### Test de primalité avec le crible\n",
    "Une fois le `crible` déterminé, pour savoir si un nombre $n$ est premier, il suffit de lire `crible[n]`. C'est immédiat.\n",
    "\n",
    "La complexité est alors constante par requête, on note $\\Theta(1)$.\n",
    "\n",
    "### Optimisations du code *Python*\n",
    "Uniquement pour les **utilisateurs très avancés**.\n",
    "- On utilisera plutôt le type `bytearray` que `list` d'entiers ; le gain de place (donc de temps) est conséquent !\n",
    "- On peut ne faire le crible que sur les entiers impairs. $2$ étant le seul entier premier pair. Le gain de place est d'un facteur $2$.\n",
    "- On peut aussi ne travailler que sur les entiers $n\\equiv \\pm1 \\mod 6$ ; $2$ et $3$ étant les seuls hors de ce champ. C'est au prix d'un code bien plus complexe, qui n'est pas toujours plus rapide en pratique.\n",
    "- Il y a encore de très nombreuses possibilités, et c'est un [excellent exercice](https://www.spoj.com/problems/FRANCKY/) pour apprendre à maîtriser la programmation impérative."
   ]
  },
  {
   "cell_type": "markdown",
   "metadata": {},
   "source": [
    "### Exercice : [Entier B-lisse](https://fr.wikipedia.org/wiki/Entier_friable)\n",
    "Un entier strictement positif est dit B-lisse, si tous ses facteurs premiers sont inférieurs ou égaux à B.\n",
    "\n",
    "Par exemple 72 900 000 000 = 28 × 36 × 58 est 5-friable car aucun de ses facteurs premiers ne dépasse 5.\n",
    "> Écrire une fonction qui crible les nombres `B`-lisses jusqu'à une `borne`."
   ]
  },
  {
   "cell_type": "code",
   "execution_count": null,
   "metadata": {},
   "outputs": [],
   "source": []
  },
  {
   "cell_type": "markdown",
   "metadata": {},
   "source": [
    "---\n",
    "\n",
    "## Factorisation\n",
    "Le théorème fondamental de l'arithmétique est :\n",
    "> Tout entier $n>1$ s'écrit de manière unique (à l'ordre près des facteurs) comme produit de nombres premiers.\n",
    "\n",
    "Exemples :\n",
    "- $10 = 2\\times 5$ ; un produit de deux facteurs distincts.\n",
    "- $11 = 11$ ; un produit avec un seul facteur.\n",
    "- $12 = 2^2\\times 3$ ; un produit de 3 facteurs, dont deux identiques.\n",
    "- $1 = 1$ ; on peut considérer qu'un produit vide est égal à 1 et étendre le théorème à $n=1$.\n",
    "- $2047 = 23 \\times 49$ ; le nombre de Mersenne $M_{23}$, qui n'est pas premier."
   ]
  },
  {
   "cell_type": "markdown",
   "metadata": {},
   "source": [
    "### Compléxité racinaire\n",
    "En adaptant le test de primalité de complexité racinaire, on déduit un algorithme de décomposition en facteurs premiers en $\\Theta\\left(\\sqrt n\\right)$."
   ]
  },
  {
   "cell_type": "code",
   "execution_count": 11,
   "metadata": {},
   "outputs": [],
   "source": [
    "def facteurs(n):\n",
    "    \"\"\"\n",
    "    Retourne la liste des facteurs premiers de n>1, dans l'ordre, avec multiplicité.\n",
    "    Exemples :\n",
    "        facteur(1) -> []\n",
    "        facteur(10) -> [2, 5]\n",
    "        facteur(11) -> [11]\n",
    "        facteur(12) -> [2, 2, 3]\n",
    "    \"\"\"\n",
    "    fact = []\n",
    "    p = 2\n",
    "    while p * p <= n:\n",
    "        while n % p == 0:\n",
    "            n //= p\n",
    "            fact.append(p)\n",
    "        p += 1\n",
    "    # deux cas peuvent se produire :\n",
    "    if n != 1:\n",
    "        # n est égal à un facteur premier, on l'ajoute\n",
    "        fact.append(n)\n",
    "    # sinon, n est déjà entièrement factorisé\n",
    "        # rien à ajouter\n",
    "    return fact"
   ]
  },
  {
   "cell_type": "code",
   "execution_count": 14,
   "metadata": {},
   "outputs": [
    {
     "name": "stdout",
     "output_type": "stream",
     "text": [
      "Tests réussis\n"
     ]
    }
   ],
   "source": [
    "# TESTS\n",
    "for n in range(1, 1000):\n",
    "    fact = facteurs(n)\n",
    "    for p in fact:\n",
    "        assert n % p == 0, f\"Échec, {p} n'est pas un facteur de {n}\"\n",
    "        assert est_premier(p), f\"Échec, le facteur {p} de {n} n'est pas premier\"\n",
    "        m = 1\n",
    "        for p in fact:\n",
    "            m *= p\n",
    "        assert n == m, f\"Échec, la factorisation de {n} est incomplète\"\n",
    "print(\"Tests réussis\")"
   ]
  },
  {
   "cell_type": "markdown",
   "metadata": {},
   "source": [
    "### Factorisation utilisant une liste de nombres premiers\n",
    "Partant du constat que lorsqu'on a épuisé le facteur $2$ dans la factorisation par essais de divisions, il est inutile d'essayer de diviser par $4$ (ou tout nombre pair supérieur) le quotient résiduel. De même après avoir épuisé le facteur $3$, inutile de tenter des divisions par $9, 15, 21, \\cdots$. \n",
    "\n",
    "Pour obtenir la décomposition en facteurs premiers, il suffit de tenter des divisions par les nombres premiers successifs.\n",
    "\n",
    "Une telle méthode est un peu meilleure, avec une compléxité en $\\Theta\\left(\\dfrac{\\sqrt n}{\\log n}\\right)$."
   ]
  },
  {
   "cell_type": "code",
   "execution_count": 12,
   "metadata": {},
   "outputs": [],
   "source": [
    "borne = 10**7\n",
    "# Avec borne = 10**7, on aura une factorisation correcte pour n < 10**14\n",
    "crible = eratosthene(borne)\n",
    "premier = [p for p in range(borne) if crible[p]]\n",
    "assert premier[:9] == [2, 3, 5, 7, 11, 13, 17, 19, 23]\n",
    "\n",
    "def facteurs(n):\n",
    "    \"\"\"\n",
    "    Retourne la liste des facteurs premiers de n>1, dans l'ordre, avec multiplicité.\n",
    "    Exemples :\n",
    "        facteur(1) -> []\n",
    "        facteur(10) -> [2, 5]\n",
    "        facteur(11) -> [11]\n",
    "        facteur(12) -> [2, 2, 3]\n",
    "    /!\\ Cette version utilise 'premier' préconstruit,\n",
    "    'premier' doit contenir la liste des nombres premiers jusqu'à 'borne'\n",
    "    dans ce cas, la fonction retourne\n",
    "        - une factorisation correcte, pour n inférieur au carré de borne.\n",
    "        - une factorisation partielle sinon.\n",
    "    \"\"\"\n",
    "    fact = []\n",
    "    ip = 0 # indice de p\n",
    "    p = premier[ip]\n",
    "    while p * p <= n:\n",
    "        while n % p == 0:\n",
    "            n //= p\n",
    "            fact.append(p)\n",
    "        ip += 1\n",
    "        p = premier[ip]\n",
    "    # deux cas peuvent se produire :\n",
    "    if n != 1:\n",
    "        # n est égal à un facteur premier, on l'ajoute\n",
    "        fact.append(n)\n",
    "    # sinon, n est déjà entièrement factorisé\n",
    "        # rien à ajouter\n",
    "    return fact"
   ]
  },
  {
   "cell_type": "code",
   "execution_count": 13,
   "metadata": {},
   "outputs": [
    {
     "name": "stdout",
     "output_type": "stream",
     "text": [
      "Tests réussis\n"
     ]
    }
   ],
   "source": [
    "# TESTS\n",
    "for n in range(1, 1000):\n",
    "    fact = facteurs(n)\n",
    "    for p in fact:\n",
    "        assert n % p == 0, f\"Échec, {p} n'est pas un facteur de {n}\"\n",
    "        assert est_premier(p), f\"Échec, le facteur {p} de {n} n'est pas premier\"\n",
    "        m = 1\n",
    "        for p in fact:\n",
    "            m *= p\n",
    "        assert n == m, f\"Échec, la factorisation de {n} est incomplète\"\n",
    "print(\"Tests réussis\")"
   ]
  },
  {
   "cell_type": "markdown",
   "metadata": {},
   "source": [
    "### Exemple avec les nombres de Mersenne\n",
    "On teste notre méthode de factorisation sur les [nombres de Mersenne](https://fr.wikipedia.org/wiki/Nombre_de_Mersenne_premier)\n",
    "> $M_n = 2^n-1$, pour $n$ entier non nul.\n",
    "\n",
    "On se limite à $n<61$ ; il y a ensuite une [vraie première difficulté](https://fr.wikipedia.org/wiki/2_305_843_009_213_693_951)."
   ]
  },
  {
   "cell_type": "code",
   "execution_count": 15,
   "metadata": {},
   "outputs": [
    {
     "name": "stdout",
     "output_type": "stream",
     "text": [
      "M_1 = 1 -> []\n",
      "M_2 = 3 -> [3]\n",
      "M_3 = 7 -> [7]\n",
      "M_4 = 15 -> [3, 5]\n",
      "M_5 = 31 -> [31]\n",
      "M_6 = 63 -> [3, 3, 7]\n",
      "M_7 = 127 -> [127]\n",
      "M_8 = 255 -> [3, 5, 17]\n",
      "M_9 = 511 -> [7, 73]\n",
      "M_10 = 1023 -> [3, 11, 31]\n",
      "M_11 = 2047 -> [23, 89]\n",
      "M_12 = 4095 -> [3, 3, 5, 7, 13]\n",
      "M_13 = 8191 -> [8191]\n",
      "M_14 = 16383 -> [3, 43, 127]\n",
      "M_15 = 32767 -> [7, 31, 151]\n",
      "M_16 = 65535 -> [3, 5, 17, 257]\n",
      "M_17 = 131071 -> [131071]\n",
      "M_18 = 262143 -> [3, 3, 3, 7, 19, 73]\n",
      "M_19 = 524287 -> [524287]\n",
      "M_20 = 1048575 -> [3, 5, 5, 11, 31, 41]\n",
      "M_21 = 2097151 -> [7, 7, 127, 337]\n",
      "M_22 = 4194303 -> [3, 23, 89, 683]\n",
      "M_23 = 8388607 -> [47, 178481]\n",
      "M_24 = 16777215 -> [3, 3, 5, 7, 13, 17, 241]\n",
      "M_25 = 33554431 -> [31, 601, 1801]\n",
      "M_26 = 67108863 -> [3, 2731, 8191]\n",
      "M_27 = 134217727 -> [7, 73, 262657]\n",
      "M_28 = 268435455 -> [3, 5, 29, 43, 113, 127]\n",
      "M_29 = 536870911 -> [233, 1103, 2089]\n",
      "M_30 = 1073741823 -> [3, 3, 7, 11, 31, 151, 331]\n",
      "M_31 = 2147483647 -> [2147483647]\n",
      "M_32 = 4294967295 -> [3, 5, 17, 257, 65537]\n",
      "M_33 = 8589934591 -> [7, 23, 89, 599479]\n",
      "M_34 = 17179869183 -> [3, 43691, 131071]\n",
      "M_35 = 34359738367 -> [31, 71, 127, 122921]\n",
      "M_36 = 68719476735 -> [3, 3, 3, 5, 7, 13, 19, 37, 73, 109]\n",
      "M_37 = 137438953471 -> [223, 616318177]\n",
      "M_38 = 274877906943 -> [3, 174763, 524287]\n",
      "M_39 = 549755813887 -> [7, 79, 8191, 121369]\n",
      "M_40 = 1099511627775 -> [3, 5, 5, 11, 17, 31, 41, 61681]\n",
      "M_41 = 2199023255551 -> [13367, 164511353]\n",
      "M_42 = 4398046511103 -> [3, 3, 7, 7, 43, 127, 337, 5419]\n",
      "M_43 = 8796093022207 -> [431, 9719, 2099863]\n",
      "M_44 = 17592186044415 -> [3, 5, 23, 89, 397, 683, 2113]\n",
      "M_45 = 35184372088831 -> [7, 31, 73, 151, 631, 23311]\n",
      "M_46 = 70368744177663 -> [3, 47, 178481, 2796203]\n",
      "M_47 = 140737488355327 -> [2351, 4513, 13264529]\n",
      "M_48 = 281474976710655 -> [3, 3, 5, 7, 13, 17, 97, 241, 257, 673]\n",
      "M_49 = 562949953421311 -> [127, 4432676798593]\n",
      "M_50 = 1125899906842623 -> [3, 11, 31, 251, 601, 1801, 4051]\n",
      "M_51 = 2251799813685247 -> [7, 103, 2143, 11119, 131071]\n",
      "M_52 = 4503599627370495 -> [3, 5, 53, 157, 1613, 2731, 8191]\n",
      "M_53 = 9007199254740991 -> [6361, 69431, 20394401]\n",
      "M_54 = 18014398509481983 -> [3, 3, 3, 3, 7, 19, 73, 87211, 262657]\n",
      "M_55 = 36028797018963967 -> [23, 31, 89, 881, 3191, 201961]\n",
      "M_56 = 72057594037927935 -> [3, 5, 17, 29, 43, 113, 127, 15790321]\n",
      "M_57 = 144115188075855871 -> [7, 32377, 524287, 1212847]\n",
      "M_58 = 288230376151711743 -> [3, 59, 233, 1103, 2089, 3033169]\n",
      "M_59 = 576460752303423487 -> [179951, 3203431780337]\n",
      "M_60 = 1152921504606846975 -> [3, 3, 5, 5, 7, 11, 13, 31, 41, 61, 151, 331, 1321]\n"
     ]
    }
   ],
   "source": [
    "def mersenne(n):\n",
    "    \"Retourne 2 à la puissance n, moins un ; le n ième nombre de Mersenne\"\n",
    "    return 2**n - 1\n",
    "\n",
    "for n in range(1, 61):\n",
    "    m_n = mersenne(n)\n",
    "    print(f\"M_{n} = {m_n} -> {facteurs(m_n)}\")"
   ]
  },
  {
   "cell_type": "markdown",
   "metadata": {},
   "source": [
    "On constate (et on pourrait le démontrer) que $M_n$  premier implique $n$ premier. La réciproque étant fausse, comme on peut le voir."
   ]
  },
  {
   "cell_type": "code",
   "execution_count": 16,
   "metadata": {},
   "outputs": [
    {
     "name": "stdout",
     "output_type": "stream",
     "text": [
      "M_2 = 3 est un nombre de Mersenne premier\n",
      "M_3 = 7 est un nombre de Mersenne premier\n",
      "M_5 = 31 est un nombre de Mersenne premier\n",
      "M_7 = 127 est un nombre de Mersenne premier\n",
      "**** Contre exemple : M_11 = 2047 -> [23, 89]\n",
      "M_13 = 8191 est un nombre de Mersenne premier\n",
      "M_17 = 131071 est un nombre de Mersenne premier\n",
      "M_19 = 524287 est un nombre de Mersenne premier\n",
      "**** Contre exemple : M_23 = 8388607 -> [47, 178481]\n",
      "**** Contre exemple : M_29 = 536870911 -> [233, 1103, 2089]\n",
      "M_31 = 2147483647 est un nombre de Mersenne premier\n",
      "**** Contre exemple : M_37 = 137438953471 -> [223, 616318177]\n",
      "**** Contre exemple : M_41 = 2199023255551 -> [13367, 164511353]\n",
      "**** Contre exemple : M_43 = 8796093022207 -> [431, 9719, 2099863]\n",
      "**** Contre exemple : M_47 = 140737488355327 -> [2351, 4513, 13264529]\n",
      "**** Contre exemple : M_53 = 9007199254740991 -> [6361, 69431, 20394401]\n",
      "**** Contre exemple : M_59 = 576460752303423487 -> [179951, 3203431780337]\n"
     ]
    }
   ],
   "source": [
    "for n in range(1, 61):\n",
    "    m_n = mersenne(n)\n",
    "    fact = facteurs(m_n)\n",
    "    if len(fact) == 1:\n",
    "        assert est_premier(n)\n",
    "        print(f\"M_{n} = {m_n} est un nombre de Mersenne premier\")\n",
    "    if est_premier(n) and len(fact) != 1:\n",
    "        print(f\"**** Contre exemple : M_{n} = {m_n} -> {fact}\")"
   ]
  },
  {
   "cell_type": "markdown",
   "metadata": {},
   "source": [
    "Les nombres de Mersenne ont souvent permis de battre le record du [plus grand nombre premier connu](https://fr.wikipedia.org/wiki/Plus_grand_nombre_premier_connu)."
   ]
  },
  {
   "cell_type": "markdown",
   "metadata": {},
   "source": [
    "### Exemple avec les nombres de Fibonacci\n",
    "On teste notre méthode de factorisation sur les [nombres de Fibonacci](https://fr.wikipedia.org/wiki/Suite_de_Fibonacci) définis par :\n",
    "> - $\\mathcal F_n = n$, pour $n<2$ ;\n",
    "> - $\\mathcal F_n = \\mathcal F_{n-1} + \\mathcal F_{n-2}$, pour $n\\geqslant2$.\n",
    "\n",
    "On se limite à $n<79$, première vraie difficulté. Ce sera l'occasion de justifier la nécéssité d'obtenir un meilleur test de primalité pour la factorisation."
   ]
  },
  {
   "cell_type": "code",
   "execution_count": 17,
   "metadata": {},
   "outputs": [
    {
     "name": "stdout",
     "output_type": "stream",
     "text": [
      "F_1 = 1 -> []\n",
      "F_2 = 1 -> []\n",
      "F_3 = 2 -> [2]\n",
      "F_4 = 3 -> [3]\n",
      "F_5 = 5 -> [5]\n",
      "F_6 = 8 -> [2, 2, 2]\n",
      "F_7 = 13 -> [13]\n",
      "F_8 = 21 -> [3, 7]\n",
      "F_9 = 34 -> [2, 17]\n",
      "F_10 = 55 -> [5, 11]\n",
      "F_11 = 89 -> [89]\n",
      "F_12 = 144 -> [2, 2, 2, 2, 3, 3]\n",
      "F_13 = 233 -> [233]\n",
      "F_14 = 377 -> [13, 29]\n",
      "F_15 = 610 -> [2, 5, 61]\n",
      "F_16 = 987 -> [3, 7, 47]\n",
      "F_17 = 1597 -> [1597]\n",
      "F_18 = 2584 -> [2, 2, 2, 17, 19]\n",
      "F_19 = 4181 -> [37, 113]\n",
      "F_20 = 6765 -> [3, 5, 11, 41]\n",
      "F_21 = 10946 -> [2, 13, 421]\n",
      "F_22 = 17711 -> [89, 199]\n",
      "F_23 = 28657 -> [28657]\n",
      "F_24 = 46368 -> [2, 2, 2, 2, 2, 3, 3, 7, 23]\n",
      "F_25 = 75025 -> [5, 5, 3001]\n",
      "F_26 = 121393 -> [233, 521]\n",
      "F_27 = 196418 -> [2, 17, 53, 109]\n",
      "F_28 = 317811 -> [3, 13, 29, 281]\n",
      "F_29 = 514229 -> [514229]\n",
      "F_30 = 832040 -> [2, 2, 2, 5, 11, 31, 61]\n",
      "F_31 = 1346269 -> [557, 2417]\n",
      "F_32 = 2178309 -> [3, 7, 47, 2207]\n",
      "F_33 = 3524578 -> [2, 89, 19801]\n",
      "F_34 = 5702887 -> [1597, 3571]\n",
      "F_35 = 9227465 -> [5, 13, 141961]\n",
      "F_36 = 14930352 -> [2, 2, 2, 2, 3, 3, 3, 17, 19, 107]\n",
      "F_37 = 24157817 -> [73, 149, 2221]\n",
      "F_38 = 39088169 -> [37, 113, 9349]\n",
      "F_39 = 63245986 -> [2, 233, 135721]\n",
      "F_40 = 102334155 -> [3, 5, 7, 11, 41, 2161]\n",
      "F_41 = 165580141 -> [2789, 59369]\n",
      "F_42 = 267914296 -> [2, 2, 2, 13, 29, 211, 421]\n",
      "F_43 = 433494437 -> [433494437]\n",
      "F_44 = 701408733 -> [3, 43, 89, 199, 307]\n",
      "F_45 = 1134903170 -> [2, 5, 17, 61, 109441]\n",
      "F_46 = 1836311903 -> [139, 461, 28657]\n",
      "F_47 = 2971215073 -> [2971215073]\n",
      "F_48 = 4807526976 -> [2, 2, 2, 2, 2, 2, 3, 3, 7, 23, 47, 1103]\n",
      "F_49 = 7778742049 -> [13, 97, 6168709]\n",
      "F_50 = 12586269025 -> [5, 5, 11, 101, 151, 3001]\n",
      "F_51 = 20365011074 -> [2, 1597, 6376021]\n",
      "F_52 = 32951280099 -> [3, 233, 521, 90481]\n",
      "F_53 = 53316291173 -> [953, 55945741]\n",
      "F_54 = 86267571272 -> [2, 2, 2, 17, 19, 53, 109, 5779]\n",
      "F_55 = 139583862445 -> [5, 89, 661, 474541]\n",
      "F_56 = 225851433717 -> [3, 7, 7, 13, 29, 281, 14503]\n",
      "F_57 = 365435296162 -> [2, 37, 113, 797, 54833]\n",
      "F_58 = 591286729879 -> [59, 19489, 514229]\n",
      "F_59 = 956722026041 -> [353, 2710260697]\n",
      "F_60 = 1548008755920 -> [2, 2, 2, 2, 3, 3, 5, 11, 31, 41, 61, 2521]\n",
      "F_61 = 2504730781961 -> [4513, 555003497]\n",
      "F_62 = 4052739537881 -> [557, 2417, 3010349]\n",
      "F_63 = 6557470319842 -> [2, 13, 17, 421, 35239681]\n",
      "F_64 = 10610209857723 -> [3, 7, 47, 1087, 2207, 4481]\n",
      "F_65 = 17167680177565 -> [5, 233, 14736206161]\n",
      "F_66 = 27777890035288 -> [2, 2, 2, 89, 199, 9901, 19801]\n",
      "F_67 = 44945570212853 -> [269, 116849, 1429913]\n",
      "F_68 = 72723460248141 -> [3, 67, 1597, 3571, 63443]\n",
      "F_69 = 117669030460994 -> [2, 137, 829, 18077, 28657]\n",
      "F_70 = 190392490709135 -> [5, 11, 13, 29, 71, 911, 141961]\n",
      "F_71 = 308061521170129 -> [6673, 46165371073]\n",
      "F_72 = 498454011879264 -> [2, 2, 2, 2, 2, 3, 3, 3, 7, 17, 19, 23, 107, 103681]\n",
      "F_73 = 806515533049393 -> [9375829, 86020717]\n",
      "F_74 = 1304969544928657 -> [73, 149, 2221, 54018521]\n",
      "F_75 = 2111485077978050 -> [2, 5, 5, 61, 3001, 230686501]\n",
      "F_76 = 3416454622906707 -> [3, 37, 113, 9349, 29134601]\n",
      "F_77 = 5527939700884757 -> [13, 89, 988681, 4832521]\n",
      "F_78 = 8944394323791464 -> [2, 2, 2, 79, 233, 521, 859, 135721]\n"
     ]
    }
   ],
   "source": [
    "fib = [0, 1]\n",
    "for _ in range(200):\n",
    "    fib.append(fib[-1] + fib[-2])\n",
    "for n in range(1, 79):\n",
    "    f_n = fib[n]\n",
    "    print(f\"F_{n} = {f_n} -> {facteurs(f_n)}\")"
   ]
  },
  {
   "cell_type": "markdown",
   "metadata": {},
   "source": [
    "On constate (et on pourrait le démontrer) que pour $n>4$, $\\mathcal F_n$  premier implique $n$ premier. La réciproque étant fausse, comme on peut le voir."
   ]
  },
  {
   "cell_type": "code",
   "execution_count": 18,
   "metadata": {},
   "outputs": [
    {
     "name": "stdout",
     "output_type": "stream",
     "text": [
      "F_5 = 5 est un nombre de Fibonacci premier\n",
      "F_7 = 13 est un nombre de Fibonacci premier\n",
      "F_11 = 89 est un nombre de Fibonacci premier\n",
      "F_13 = 233 est un nombre de Fibonacci premier\n",
      "F_17 = 1597 est un nombre de Fibonacci premier\n",
      "**** Contre exemple : F_19 = 4181 -> [37, 113]\n",
      "F_23 = 28657 est un nombre de Fibonacci premier\n",
      "F_29 = 514229 est un nombre de Fibonacci premier\n",
      "**** Contre exemple : F_31 = 1346269 -> [557, 2417]\n",
      "**** Contre exemple : F_37 = 24157817 -> [73, 149, 2221]\n",
      "**** Contre exemple : F_41 = 165580141 -> [2789, 59369]\n",
      "F_43 = 433494437 est un nombre de Fibonacci premier\n",
      "F_47 = 2971215073 est un nombre de Fibonacci premier\n",
      "**** Contre exemple : F_53 = 53316291173 -> [953, 55945741]\n",
      "**** Contre exemple : F_59 = 956722026041 -> [353, 2710260697]\n",
      "**** Contre exemple : F_61 = 2504730781961 -> [4513, 555003497]\n",
      "**** Contre exemple : F_67 = 44945570212853 -> [269, 116849, 1429913]\n",
      "**** Contre exemple : F_71 = 308061521170129 -> [6673, 46165371073]\n",
      "**** Contre exemple : F_73 = 806515533049393 -> [9375829, 86020717]\n"
     ]
    }
   ],
   "source": [
    "for n in range(5, 79):\n",
    "    f_n = fib[n]\n",
    "    fact = facteurs(f_n)\n",
    "    if len(fact) == 1:\n",
    "        assert est_premier(n) or (n == 4)\n",
    "        print(f\"F_{n} = {f_n} est un nombre de Fibonacci premier\")\n",
    "    if (n != 4) and est_premier(n) and len(fact) != 1:\n",
    "        print(f\"**** Contre exemple : F_{n} = {f_n} -> {fact}\")"
   ]
  },
  {
   "cell_type": "markdown",
   "metadata": {},
   "source": [
    "En mars 2017, le plus grand [nombre premier de Fibonacci](https://fr.wikipedia.org/wiki/Nombre_premier_de_Fibonacci) connu est $\\mathcal F_{104~911}$ avec $21~925$ chiffres. Et le plus grand nombre de Fibonacci probablement premier connu est $\\mathcal F_{3~340~367}$.\n",
    "\n",
    "> Les nombres de Fibonacci donnent de beaux exercices pour leur factorisation. On peut parfois trouver une factorisation avec des méthodes bien connues, mais sans pouvoir affirmer facilement que les facteurs obtenus sont premiers. On utilise alors des méthodes probabilistes, et on parle alors de nombre probablement premier. Nous en reparlerons."
   ]
  },
  {
   "cell_type": "markdown",
   "metadata": {},
   "source": [
    "### Exemple avec les nombres de Fermat\n",
    "On teste notre méthode avec les [nombres de Fermat](https://fr.wikipedia.org/wiki/Nombre_de_Fermat),\n",
    "> $F_n = 2^{2^n}+1$ pour tout $n\\in\\mathbb N$\n",
    "\n",
    "On se limite ici à $n<7$, il faut très vite envisager d'autres méthodes pour la suite."
   ]
  },
  {
   "cell_type": "code",
   "execution_count": 19,
   "metadata": {},
   "outputs": [
    {
     "name": "stdout",
     "output_type": "stream",
     "text": [
      "Fermat_0 = 3 -> [3]\n",
      "Fermat_1 = 5 -> [5]\n",
      "Fermat_2 = 17 -> [17]\n",
      "Fermat_3 = 257 -> [257]\n",
      "Fermat_4 = 65537 -> [65537]\n",
      "Fermat_5 = 4294967297 -> [641, 6700417]\n",
      "Fermat_6 = 18446744073709551617 -> [274177, 67280421310721]\n"
     ]
    }
   ],
   "source": [
    "def fermat(n):\n",
    "    \"Retourne (2 à la puissance (2 à la puissance n)) + 1\"\n",
    "    return 2**(2**n) + 1\n",
    "for n in range(7):\n",
    "    fermat_n = fermat(n)\n",
    "    print(f\"Fermat_{n} = {fermat_n} -> {facteurs(fermat_n)}\")"
   ]
  },
  {
   "cell_type": "markdown",
   "metadata": {},
   "source": [
    "Ces nombres doivent leur nom à Pierre de Fermat, qui émit la conjecture que tous ces nombres étaient premiers. Cette conjecture se révéla fausse, $F_5$ étant composé, de même que tous les suivants jusqu'à $F_{32}$. On ne sait pas si les nombres à partir de $F_{33}$ sont premiers ou composés."
   ]
  },
  {
   "cell_type": "markdown",
   "metadata": {},
   "source": [
    "### Exercice : Factorisation de tous les entiers jusqu'à une certaine borne\n",
    "Écrire un code qui donne très rapidement la décomposition en facteurs premiers de tout entier non nul inférieur à une certaine borne.\n",
    "> On s'inspirera des exercices précédents."
   ]
  },
  {
   "cell_type": "code",
   "execution_count": null,
   "metadata": {},
   "outputs": [],
   "source": [
    "borne = 1000\n",
    "# À vous d'écrire du code ici\n",
    "# afin de réussir les tests ci-dessous\n",
    "# vous devez écrire une fonction 'facteurs_rapide'\n",
    "# qui retourne le même résultat que 'facteurs' mais\n",
    "# globalement plus rapide lors d'appels sur tous les entiers 0 < n < borne\n",
    "\n",
    "\n",
    "\n",
    "# "
   ]
  },
  {
   "cell_type": "code",
   "execution_count": null,
   "metadata": {},
   "outputs": [],
   "source": [
    "# TESTS /!\\ À ne pas modifier /!\\\n",
    "for n in range(1, borne):\n",
    "    fact = facteurs_rapide(n)\n",
    "    for p in fact:\n",
    "        assert n % p == 0, f\"Échec, {p} n'est pas un facteur de {n}\"\n",
    "        assert est_premier(p), f\"Échec, le facteur {p} de {n} n'est pas premier\"\n",
    "        m = 1\n",
    "        for p in fact:\n",
    "            m *= p\n",
    "        assert n == m, f\"Échec, la factorisation de {n} est incomplète\"\n",
    "print(\"Tests réussis\")"
   ]
  }
 ],
 "metadata": {
  "kernelspec": {
   "display_name": "Python 3",
   "language": "python",
   "name": "python3"
  },
  "language_info": {
   "codemirror_mode": {
    "name": "ipython",
    "version": 3
   },
   "file_extension": ".py",
   "mimetype": "text/x-python",
   "name": "python",
   "nbconvert_exporter": "python",
   "pygments_lexer": "ipython3",
   "version": "3.7.8"
  }
 },
 "nbformat": 4,
 "nbformat_minor": 4
}
