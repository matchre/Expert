{
 "cells": [
  {
   "cell_type": "markdown",
   "metadata": {},
   "source": [
    "# Méthodes avancées pour la factorisation généraliste\n",
    "Pour la factorisation ou le test de primalité des nombres de Mersenne ou de Fermat, par exemple, on utilise en réalité des méthodes spécifiques issues de théorème liés à la nature des nombres.\n",
    "\n",
    "On parle de méthode généraliste pour des nombres entiers dont on ne connait que la valeur et aucune propriété, comme avec un nombre choisi au hasard dans un intervalle.\n",
    "\n",
    "Pour aborder les méthodes de factorisation,\n",
    "- on peut d'abord voir une version améliorée du crible d'Ératosthène,\n",
    "- il faut une version améliorée des tests de primalité,\n",
    "\n",
    "Ce carnet est clairement pour le post-bac, avec des parties plus ou moins abordables.\n",
    "\n",
    "---\n",
    "## Crible d'Ératosthène optimisé en Python\n",
    "On utilise les `bytearray` plutôt que les listes d'entiers pour un gain de place, et donc de temps conséquent.\n",
    "On ne travaille aussi qu'avec les entiers impairs. On peut sans difficulté faire le crible jusqu'à $10^7$ sur tablette.\n",
    "\n",
    "Pour une version encore plus optimisée, on utilisera un crible segmenté ; on fera le crible par tranches, et les données de taille plus restreintes resteront en mémoire cache bien plus rapide. On pourra alors faire un crible, par tranches, jusqu'à $10^9$ en quelques secondes, avec peu de mémoire utilisée."
   ]
  },
  {
   "cell_type": "code",
   "execution_count": 1,
   "metadata": {},
   "outputs": [
    {
     "name": "stdout",
     "output_type": "stream",
     "text": [
      "[2, 3, 5, 7, 11, 13, 17, 19, 23, 29, 31, 37, 41, 43, 47, 53, 59, 61, 67, 71]\n"
     ]
    }
   ],
   "source": [
    "from itertools import compress, islice\n",
    "\n",
    "def eratosthene_impair(borne):\n",
    "    \"\"\"\n",
    "    Retourne le crible des nombres impairs premiers inférieurs à borne.\n",
    "    crible[n] vaut True ou False, suivant que 2*n+1 est premier ou non.\n",
    "    \"\"\"\n",
    "    BA = bytearray\n",
    "    n = (borne - 1) // 2\n",
    "    crible = BA([1])*(n+1)\n",
    "    # crible[i] indiquera la primalité de 2i + 1\n",
    "    crible[0] = 0\n",
    "    for i in range((int(borne**0.5)+1)//2):\n",
    "        if crible[i]:\n",
    "            p = 2*i + 1 # p est premier\n",
    "            i2 = i * (i+1) << 1\n",
    "            crible[i2::p] = BA(1 + (n-i2)//p)\n",
    "    return crible\n",
    "\n",
    "borne = 10**7\n",
    "crible = eratosthene_impair(borne)\n",
    "premier = [2]\n",
    "premier.extend(compress(range(1,borne,2), crible))\n",
    "print(premier[:20])"
   ]
  },
  {
   "cell_type": "markdown",
   "metadata": {},
   "source": [
    "### Exercice : Crible d'Ératosthène segmenté\n",
    "Étudier la version précédente et construire un crible segmenté :\n",
    "- À partir d'un crible classique qui donne les nombres premiers inférieurs à $M$,\n",
    "- construire un crible qui donne la primalité pour tous les entiers dans un intervalle $[a ; b]$, avec $a < b < M^2$.\n",
    "\n",
    "Tester votre code *Python* [sur ce problème en ligne](https://www.spoj.com/problems/PRIME1/), ou sur [celui-là un peu plus difficile](https://www.spoj.com/problems/PRINT/).\n",
    "> - Pour PRIME1, pouvez-vous faire mieux que 0.03s en *Python3* ?\n",
    "> - Pour PRINT,  pouvez-vous faire mieux que 0.62s en *Python3* ?"
   ]
  },
  {
   "cell_type": "markdown",
   "metadata": {},
   "source": [
    "---\n",
    "## Tests de primalité probabilistes\n",
    "Nous ne donnerons pas ici les démonstrations des théorèmes ; nous nous concentrons sur leur utilisation.\n",
    "\n",
    "### [Test de primalité de Fermat](https://fr.wikipedia.org/wiki/Test_de_primalit%C3%A9_de_Fermat)\n",
    "Théorème :\n",
    "> Si $p$ est premier, alors pour tout $a$ tel que $1<a<p$, on a $a^{p-1}\\equiv 1 \\mod[p]$\n",
    "\n",
    "La réciproque est fausse, mais on utilise la contraposée pour avoir un test probabiliste de primalité. Test que l'on peut rendre déterministe sous certaines conditions."
   ]
  },
  {
   "cell_type": "code",
   "execution_count": 2,
   "metadata": {},
   "outputs": [],
   "source": [
    "from random import randint"
   ]
  },
  {
   "cell_type": "code",
   "execution_count": 3,
   "metadata": {},
   "outputs": [
    {
     "name": "stdout",
     "output_type": "stream",
     "text": [
      "Oups, avec 6601\n",
      "Oups, avec 29341\n",
      "Oups, avec 63973\n",
      "Oups, avec 162401\n",
      "Oups, avec 252601\n",
      "Oups, avec 294409\n",
      "Oups, avec 334153\n",
      "Oups, avec 399001\n",
      "Oups, avec 488881\n",
      "Oups, avec 512461\n",
      "Oups, avec 530881\n",
      "Oups, avec 552721\n",
      "Oups, avec 670033\n"
     ]
    }
   ],
   "source": [
    "def est_pseudo_premier_v1(n):\n",
    "    \"\"\"\n",
    "    Retourne True quand n est premier, mais parfois aussi quand n est composé.\n",
    "    Ne retourne jamais False quand n est premier.\n",
    "    \"\"\"\n",
    "    nb_tour_boucle = 5\n",
    "    if n < 2: return False\n",
    "    if n < 4: return True\n",
    "    if (n % 2 == 0) or (n % 3 == 0): return False\n",
    "    for _ in range(nb_tour_boucle):\n",
    "        a = randint(2, n-1)\n",
    "        if n % a == 0: return False\n",
    "        if pow(a, n-1, n) != 1: return False\n",
    "    return True\n",
    "\n",
    "for n in range(3, 10**6, 2):\n",
    "    if crible[n//2]: assert est_pseudo_premier_v1(n)\n",
    "    if est_pseudo_premier_v1(n) != crible[n//2]:\n",
    "        print(f\"Oups, avec {n}\")"
   ]
  },
  {
   "cell_type": "markdown",
   "metadata": {},
   "source": [
    "On constate que pour `nb_tour_boucle = 5`, la quantité de nombres qui échouent le test est de l'ordre de la quinzaine, nombres parmi les entiers jusqu'à $10^6$.\n",
    "- Essayer de lancer plusieurs fois le code, la liste varie ; le test est probabiliste.\n",
    "- Essayer avec d'autres valeurs de `nb_tour_boucle`."
   ]
  },
  {
   "cell_type": "markdown",
   "metadata": {},
   "source": [
    "#### Variante déterministe\n",
    "Le test de primalité de Fermat a une complexité en $\\Theta(\\log n)$ ce qui est bien meilleur que notre précédent test individuel en $\\mathcal O\\left(\\sqrt n\\right)$. Il est très intéressant, mais parfois faux !\n",
    "\n",
    "On peut rendre ce test déterministe sur un intervalle. On va le modifier un peu.\n",
    "- On commence par tester la divisibilité par de petits nombres premiers. C'est rapide et efficace pour les entiers qui sont peu lisses.\n",
    "- On fixe judicieusement les témoins du tests Fermat en fonction de l'intervalle de travail.\n",
    "- On choisira une meilleure méthode pour des entiers plus grands..."
   ]
  },
  {
   "cell_type": "code",
   "execution_count": 4,
   "metadata": {},
   "outputs": [
    {
     "ename": "AssertionError",
     "evalue": "Échec avec n = 9006401",
     "output_type": "error",
     "traceback": [
      "\u001b[0;31m---------------------------------------------------------------------------\u001b[0m",
      "\u001b[0;31mAssertionError\u001b[0m                            Traceback (most recent call last)",
      "\u001b[0;32m<ipython-input-4-9577c11484e6>\u001b[0m in \u001b[0;36m<module>\u001b[0;34m\u001b[0m\n\u001b[1;32m     27\u001b[0m \u001b[0;34m\u001b[0m\u001b[0m\n\u001b[1;32m     28\u001b[0m \u001b[0;32mfor\u001b[0m \u001b[0mn\u001b[0m \u001b[0;32min\u001b[0m \u001b[0mrange\u001b[0m\u001b[0;34m(\u001b[0m\u001b[0;36m1\u001b[0m\u001b[0;34m,\u001b[0m \u001b[0;36m10\u001b[0m\u001b[0;34m**\u001b[0m\u001b[0;36m7\u001b[0m\u001b[0;34m,\u001b[0m \u001b[0;36m2\u001b[0m\u001b[0;34m)\u001b[0m\u001b[0;34m:\u001b[0m\u001b[0;34m\u001b[0m\u001b[0;34m\u001b[0m\u001b[0m\n\u001b[0;32m---> 29\u001b[0;31m     \u001b[0;32massert\u001b[0m \u001b[0mest_premier_vD1\u001b[0m\u001b[0;34m(\u001b[0m\u001b[0mn\u001b[0m\u001b[0;34m)\u001b[0m \u001b[0;34m==\u001b[0m \u001b[0mcrible\u001b[0m\u001b[0;34m[\u001b[0m\u001b[0mn\u001b[0m\u001b[0;34m//\u001b[0m\u001b[0;36m2\u001b[0m\u001b[0;34m]\u001b[0m\u001b[0;34m,\u001b[0m \u001b[0;34mf\"Échec avec n = {n}\"\u001b[0m\u001b[0;34m\u001b[0m\u001b[0;34m\u001b[0m\u001b[0m\n\u001b[0m",
      "\u001b[0;31mAssertionError\u001b[0m: Échec avec n = 9006401"
     ]
    }
   ],
   "source": [
    "def est_premier_vD1(n):\n",
    "    \"\"\"\n",
    "    Retourne la primalité de n\n",
    "    correct pour n < 9_006_401\n",
    "    \"\"\"\n",
    "    if n < 2: return False\n",
    "    if n < 4: return True\n",
    "    if (n % 2 == 0) or (n % 3 == 0): return False\n",
    "    if n < 5*5: return True # les composés inférieurs à 25 ont un facteur premier inférieur à 5, donc 2 ou 3, et ont déjà été traités\n",
    "    for p in [5, 7, 11, 13, 17, 19, 23]:\n",
    "        if n % p == 0: return False\n",
    "    if n < 29*29: return True # même remarque ; jusqu'à 841 !\n",
    "    for p in [29, 31, 37, 41, 43, 47, 53, 59, 61, 67, 71, 73, 79, 83, 89, 97, 101, 103, 107, 109, 113, 127, 131, 137, 139, 149, 151, 157, 163, 167, 173, 179, 181, 191, 193, 197, 199, 211, 223, 227, 229, 233, 239, 241, 251, 257, 263, 269]: #, 271, ...\n",
    "        if n % p == 0: return False\n",
    "    if n < 271*271: return True # même remarque jusqu'à 73441 !\n",
    "    # On commence le test de Fermat avec un unique témoin égal à 2, puis 2 et 3\n",
    "    if pow(2, n-1, n) != 1: return False\n",
    "    if n < 219781: return True\n",
    "    if pow(3, n-1, n) != 1: return False\n",
    "    if n < 226801: return True\n",
    "    if pow(5, n-1, n) != 1: return False\n",
    "    if n < 721801: return True\n",
    "    if pow(13, n-1, n) != 1: return False\n",
    "    if n < 9006401: return True\n",
    "    # n'est plus déterministe après ça !!!\n",
    "    return True\n",
    "\n",
    "for n in range(1, 10**7, 2):\n",
    "    assert est_premier_vD1(n) == crible[n//2], f\"Échec avec n = {n}\""
   ]
  },
  {
   "cell_type": "markdown",
   "metadata": {},
   "source": [
    "### [Test de primalité de Miller-Rabin](https://fr.wikipedia.org/wiki/Test_de_primalit%C3%A9_de_Miller-Rabin)\n",
    "Le test de Miller-Rabin étend le test de Fermat : la propriété est un raffinement du petit théorème de Fermat.\n",
    "\n",
    "Avec $n>2$ que l'on écrit $1+2^sd$, où $d$ est impair et $s$ non nul :\n",
    "\n",
    "> Si $a^d \\not\\equiv 1 \\pmod{n}$ et $\\forall r \\in \\{0, 1, \\cdots, s-1\\} a^{2^rd}\\not\\equiv -1 \\pmod{n}$\n",
    ">\n",
    "> alors $n$ est composé, et $a$ est appelé un *témoin de Miller* pour le fait que $n$ est composé.\n",
    "\n",
    "La réciproque est fausse, mais contrairement au test de Fermat il n'y a pas l'équivalent des nombres de Carmichael, et de plus $\\frac34$ au moins des entiers $a$ ($1<a<n$) sont des témoins de Miller pour $n$. Ce qui conduit à l'algorithme probabiliste :\n",
    "- répéter $k$ fois le test de Miller-Rabin\n",
    "    - si un témoin de Miller est positif, on peut déclarer $n$ composé.\n",
    "    - Si aucun test parmi les $e$ tests n'est positif, on déclare $n$ pseudo-premier, avec une probabilité d'erreur inférieure à $\\left(\\frac14\\right)^k$ sur le fait que $n$ soit premier.\n",
    "    \n",
    "Ci-dessous un code non optimisé, mais avec une écriture fonctionnelle."
   ]
  },
  {
   "cell_type": "code",
   "execution_count": 6,
   "metadata": {},
   "outputs": [
    {
     "name": "stdout",
     "output_type": "stream",
     "text": [
      "Oups avec n = 1433407\n",
      "Oups avec n = 1869211\n"
     ]
    }
   ],
   "source": [
    "from random import sample\n",
    "\n",
    "def miller_rabin(n, nb_test = 3):\n",
    "    #assert n-1 > nb_test\n",
    "    #assert n % 2 == 1\n",
    "    s = 0\n",
    "    d = n - 1\n",
    "    while not(d & 1):\n",
    "        d >>= 1\n",
    "        s += 1\n",
    "    #assert n == 1 + d*2**s\n",
    "    return not any((pow(a, d, n) != 1) and all(pow(a, d << r, n) != n-1 for r in range(s)) for a in sample(range(2, n), nb_test))\n",
    "\n",
    "for n in range(3, 10**7, 2):\n",
    "    for p in premier[:20]:\n",
    "        if n % p == 0: break\n",
    "    else:\n",
    "        # arrivé ici, n est premier[19]-lisse\n",
    "        if miller_rabin(n) != crible[n//2]:\n",
    "            print(f\"Oups avec n = {n}\")"
   ]
  },
  {
   "cell_type": "markdown",
   "metadata": {},
   "source": [
    "C'est un peu long pour tester tous les $n < 10^7$, mais on constate ici,\n",
    "que quelques rares valeurs échouent au test ; parfois aucune, c'est aléatoire.\n",
    "\n",
    "Pour diminuer la probabilité d'erreur, on augmente `nb_test` qui était ici égal à 3. On peut aussi bien sûr augmenter les essais de divisions par des nombres premiers ; il faut trouver le bon compromis vitesse taux d'erreur.\n",
    "\n",
    "Pour $n$ plus grand il suffit d'augmenter `nb_test` pour avoir une quasi-certitude sur la primalité de $n$. Ce n'est pas satisfaisant dans certaines situations, où on veut une certitude absolue. On veut rendre le test déterministe.\n",
    "\n",
    "#### [Versions déterministes](https://fr.wikipedia.org/wiki/Test_de_primalit%C3%A9_de_Miller-Rabin#Versions_d%C3%A9terministes)\n",
    "- Si $n < 2~047$, il suffit de tester le témoin $a = 2$;\n",
    "- Si $n < 1~373~653$, il suffit de tester les témoins $a$ dans $(2, 3)$ ;\n",
    "- Si $n < 9~080~191$, il suffit de tester les témoins $a$ dans $(31 ,73)$ ;\n",
    "- Si $n < 25~326~001$, il suffit de tester les témoins $a$ dans $(2, 3, ,5)$ ;\n",
    "- Si $n < 3~215~031~751$, il suffit de tester les témoins $a$ dans $(2, 3, 5, ,7)$ ;\n",
    "- Si $n < 4~759~123~141$, il suffit de tester les témoins $a$ dans $(2, 7, ,61)$ ;\n",
    "- Si $n < 1~122~004~669~633$, il suffit de tester les témoins $a$ dans $(2, 13, 23, ,1662803)$ ;\n",
    "- Si $n < 2~152~302~898~747$, il suffit de tester les témoins $a$ dans $(2, 3, 5, 7, ,11)$ ;\n",
    "- Si $n < 3~474~749~660~383$, il suffit de tester les témoins $a$ dans $(2, 3, 5, 7, 11, ,13)$ ;\n",
    "- Si $n < 341~550~071~728~321$, il suffit de tester les témoins $a$ dans $(2, 3, 5, 7, 11, 13, ,17)$.\n",
    "\n",
    "On peut continuer ainsi et trouver la limite de validité du test avec comme témoins les premiers nombres premiers.\n",
    "\n",
    "On peut aussi conjecturer une heuristique sur le nombre de témoins premiers qui assure une version déterministe.\n",
    "\n",
    "Il a été démontré qu'il suffit de tester tous les témoins dans l'intervalle $[2, \\textrm{min}(n−2, ⌊2(\\log n)^2⌋)]$, cependant cette preuve dépend de la validité de l'hypothèse de Riemman généralisé (GRH). Un meilleure borne existe sous l'hypothèse ERH.\n",
    "\n",
    "> Il existe d'autres tests de primalité déterministes qui ne dépendent pas de l'hypothèse de Riemann et qui sont plus rapides.\n",
    ">  - Pour les entiers sur 64-bits [le test Baillie–PSW](https://en.wikipedia.org/wiki/Baillie%E2%80%93PSW_primality_test) est déterministe et bien plus rapide.\n",
    ">  - [Le test Adleman–Pomerance–Rumely](https://en.wikipedia.org/wiki/Adleman%E2%80%93Pomerance%E2%80%93Rumely_primality_test)\n",
    ">  - [Le test avec les courbes elliptiques](https://en.wikipedia.org/wiki/Elliptic_curve_primality)"
   ]
  }
 ],
 "metadata": {
  "kernelspec": {
   "display_name": "Python 3",
   "language": "python",
   "name": "python3"
  },
  "language_info": {
   "codemirror_mode": {
    "name": "ipython",
    "version": 3
   },
   "file_extension": ".py",
   "mimetype": "text/x-python",
   "name": "python",
   "nbconvert_exporter": "python",
   "pygments_lexer": "ipython3",
   "version": "3.7.8"
  }
 },
 "nbformat": 4,
 "nbformat_minor": 4
}
