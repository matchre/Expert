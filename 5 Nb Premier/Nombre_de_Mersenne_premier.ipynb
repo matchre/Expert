{
 "cells": [
  {
   "cell_type": "markdown",
   "metadata": {},
   "source": [
    "# Nombre de Mersenne premier\n",
    "\n",
    "Prérequis :\n",
    "- Utilisation basique de Jupyter\n",
    "- Utilisation de `assert`\n",
    "- Premières constructions d'une fonction `est_premier(n)`, en $\\mathcal O(n)$\n",
    "\n",
    "Objectif :\n",
    "- Amélioration de la fonction `est_premier(n)`, en $\\mathcal O\\left(\\sqrt n\\right)$\n",
    "\n",
    "Consignes :\n",
    "- Lire le document et faire les exercices dans l'ordre"
   ]
  },
  {
   "cell_type": "markdown",
   "metadata": {},
   "source": [
    "## I] Définition\n",
    "\n",
    "Les [nombres de Mersenne](https://fr.wikipedia.org/wiki/Nombre_de_Mersenne_premier) sont les nombres de la forme : $M_n = 2^n -1$, pour $n$ un entier non nul. \n",
    "\n",
    "- $M_1 = 2^1 -1 = 1$, n'est pas premier, par définition\n",
    "- $M_2 = 2^2 -1 = 3$, est **premier**, 2 aussi\n",
    "- $M_3 = 2^3 -1 = 7$, est **premier**, 3 aussi\n",
    "- $M_4 = 2^4 -1 = 15$, n'est pas premier, $3\\times5$\n",
    "- $M_5 = 2^5 -1 = 31$, est **premier**, 5 aussi\n",
    "- $M_6 = 2^6 -1 = 63$, n'est pas premier, $3\\times3\\times7$\n",
    "- $M_7 = 2^7 -1 = 127$, est **premier**, 7 aussi\n",
    "- $M_8 = 2^8 -1 = 255$, n'est pas premier, $3\\times5\\times17$\n",
    "- $M_9 = 2^9 -1 = 511$, n'est pas premier, $7\\times73$\n",
    "- $M_{10} = 2^{10} -1 = 1023$, n'est pas premier, $3\\times11\\times13$\n",
    "- $M_{11} = 2^{11} -1 = 2047$, n'est pas premier, $23\\times89$, **pourtant 11 est premier**\n",
    "- $M_{12} = 2^{12} -1 = 4095$, n'est pas premier, $3\\times3\\times5\\times7\\times13$\n",
    "\n",
    "Dans la suite de ce document, nous ne dépasserons jamais l'exposant 60, en effet\n",
    "- $M_{61}$ est une première [vraie difficulté](https://fr.wikipedia.org/wiki/2_305_843_009_213_693_951), levée en 1883.\n",
    "- $M_{67}$ est une autre [vraie difficulté](https://fr.wikipedia.org/wiki/147_573_952_589_676_412_927), levée en 1903."
   ]
  },
  {
   "cell_type": "markdown",
   "metadata": {},
   "source": [
    "### Exercice 1 : Fonction `mersenne`\n",
    "\n",
    "1. Écrire, une fonction qui retourne le $n$-ième nombre de Mersenne $M_n$.\n",
    "2. Tester cette fonction à l'aide de la cellule suivante.\n",
    "3. Vérifier que l'affichage rappelle les exemples donnés ci-dessus."
   ]
  },
  {
   "cell_type": "code",
   "execution_count": null,
   "metadata": {},
   "outputs": [],
   "source": [
    "def mersenne(n):\n",
    "    \"Retourne le n-ième nombre de Mersenne : (2 à la puissance n) - 1\"\n",
    "    # à compléter\n"
   ]
  },
  {
   "cell_type": "code",
   "execution_count": 2,
   "metadata": {},
   "outputs": [],
   "source": [
    "# Test à lancer\n",
    "#\n",
    "# NE PAS MODIFIER cette cellule, lancer-la seulement après avoir complété la cellule au-dessus.\n",
    "for n in range(1, 13): print(f\"M_{n} = 2^({n}) - 1 = {mersenne(n)}\")\n",
    "#\n",
    "#\n",
    "#  rappel : MAJ+ENTRÉE ou SHIT+RETURN  pour lancer une cellule"
   ]
  },
  {
   "cell_type": "markdown",
   "metadata": {},
   "source": [
    "## II] Test de primalité\n",
    "\n",
    "### Exercice 2 : Preuve de primalité\n",
    "1. Prouver que la fonction suivante réalise un **test de primalité** :"
   ]
  },
  {
   "cell_type": "code",
   "execution_count": 3,
   "metadata": {},
   "outputs": [],
   "source": [
    "def est_premier_basique(n):\n",
    "    if n < 2:\n",
    "        return False\n",
    "    for k in range(2, n):\n",
    "        if n % k == 0:\n",
    "            return False\n",
    "    return True"
   ]
  },
  {
   "cell_type": "markdown",
   "metadata": {},
   "source": [
    "### Exercice 3 : Test de la fonction est_premier_basique\n",
    "1. Tester ci-dessous la fonction précédente. Étudier ce test !\n",
    "2. Modifier les deux premières lignes avec les nombres premiers jusqu'à une borne de 60."
   ]
  },
  {
   "cell_type": "code",
   "execution_count": 4,
   "metadata": {},
   "outputs": [
    {
     "name": "stdout",
     "output_type": "stream",
     "text": [
      "Test réussi\n"
     ]
    }
   ],
   "source": [
    "borne = 30\n",
    "petits_premiers = [2, 3, 5, 7, 11, 13, 17, 19, 23, 29]\n",
    "\n",
    "# Test 1\n",
    "# ne pas modifier sous cette ligne\n",
    "for n in range(borne):\n",
    "    assert est_premier_basique(n) == (n in petits_premiers)\n",
    "print(\"Test réussi\")"
   ]
  },
  {
   "cell_type": "markdown",
   "metadata": {},
   "source": [
    "### Exercice 4 : Amélioration du test\n",
    "\n",
    "**(Exercice facultatif)**\n",
    "\n",
    "1. On admet que $p = 1000000007$ est un nombre premier. Combien de tours la boucle `for` va-t-elle faire ?\n",
    "    - Pour l'appel `est_premier(p)`\n",
    "    - Pour l'appel `est_premier(2*p)`\n",
    "    - Pour l'appel `est_premier(11*p)`\n",
    "    - Pour l'appel `est_premier(15*p)`\n",
    "2. On rappelle que si $n$ et $k$ sont des entiers strictement positifs, si $k$ est un diviseur de $n$, alors $\\dfrac{n}{k}$ l'est aussi.\n",
    "    - En déduire que dans ce cas, soit $k$, soit $\\dfrac{n}{k}$ est inférieur ou égal à $\\sqrt{n}$.\n",
    "    - En déduire que si $n>1$ ne possède aucun diviseur dans l'intervalle $[2 ; \\sqrt{n}]$, alors $n$ est premier.\n",
    "    - En déduire qu'on peut inclure `if k*k > n: return True` dans notre fonction `est_premier`\n",
    "    - En considérant la nouvelle fonction `est_premier`, reprendre la question 1.\n",
    "    - Dans quelles situations la nouvelle fonction améliore-t-elle l'efficacité du test ?\n",
    "    "
   ]
  },
  {
   "cell_type": "markdown",
   "metadata": {},
   "source": [
    "## III] Propriétés de $M_n$\n",
    "\n",
    "En relisant la liste construite à la suite de la définition, on présage un lien qu'aurait prouvé le moine Mersenne :\n",
    "> **Propriété** : Si $M_n$ est premier, alors $n$ aussi.\n",
    "\n",
    "On a constaté que la réciproque est fausse, avec $n = 11$.\n",
    "\n",
    "On admet ici que cette propriété est vraie. La preuve peut-être vue en cours de maths.   "
   ]
  },
  {
   "cell_type": "code",
   "execution_count": 5,
   "metadata": {},
   "outputs": [
    {
     "name": "stdout",
     "output_type": "stream",
     "text": [
      "Test réussi\n"
     ]
    }
   ],
   "source": [
    "# /!\\\n",
    "# Lancer cette cellule sans la modifier\n",
    "#\n",
    "def est_premier(n):\n",
    "    \"test de primalité amélioré\"\n",
    "    if n < 2:\n",
    "        return False\n",
    "    for k in range(2, n):\n",
    "        if k*k > n:\n",
    "            return True\n",
    "        if n % k == 0:\n",
    "            return False\n",
    "    return True\n",
    "\n",
    "petits_premiers, borne = [2, 3, 5, 7, 11, 13, 17, 19, 23, 29], 30\n",
    "for n in range(borne):\n",
    "    assert est_premier(n) == (n in petits_premiers)\n",
    "print(\"Test réussi\")"
   ]
  },
  {
   "cell_type": "markdown",
   "metadata": {},
   "source": [
    "### Exercice 5 : Écriture de tests\n",
    "\n",
    "1. Vérifier que $M_{11}$ n'est pas premier.\n",
    "2. Vérifier que $M_{13}$ est premier.\n",
    "3. Vérifier que cette propriété semble vraie."
   ]
  },
  {
   "cell_type": "code",
   "execution_count": 6,
   "metadata": {},
   "outputs": [
    {
     "ename": "SyntaxError",
     "evalue": "invalid syntax (<ipython-input-6-d6ca20ca26cf>, line 9)",
     "output_type": "error",
     "traceback": [
      "\u001b[0;36m  File \u001b[0;32m\"<ipython-input-6-d6ca20ca26cf>\"\u001b[0;36m, line \u001b[0;32m9\u001b[0m\n\u001b[0;31m    if ...\u001b[0m\n\u001b[0m          ^\u001b[0m\n\u001b[0;31mSyntaxError\u001b[0m\u001b[0;31m:\u001b[0m invalid syntax\n"
     ]
    }
   ],
   "source": [
    "# 1. Test de M_11\n",
    "assert est_premier(mersenne(11)) == False\n",
    "\n",
    "# 1. Test de M_13\n",
    "...\n",
    "\n",
    "# 2. Test de la propriété /!\\ Ne pas dépasser 61 /!\\\n",
    "for n in range(1, 61):\n",
    "    if ...\n",
    "        assert ...\n",
    "        "
   ]
  },
  {
   "cell_type": "markdown",
   "metadata": {},
   "source": [
    "## IV] Liste des nombres de Mersenne premiers\n",
    "\n",
    "La suite [A000043](https://oeis.org/A000043) contient les exposants connus $p$, dans l'ordre, tels que $M_p$ est premier.\n",
    "\n",
    "À ce jour, cette liste possède 47 éléments, dont voici un extrait  : $[2, 3, 5, 7, 13, 17, 19, 31, 61, 89, 107, 127, 521, 607, 1279, ... , 37156667, 42643801, 43112609]$\n",
    "\n",
    "> - Il y a actuellement [trois candidats](https://fr.wikipedia.org/wiki/Nombre_de_Mersenne_premier#Liste_des_nombres_de_Mersenne_premiers) pour compléter cette liste.\n",
    "> - On n'a pas encore la preuve qu'ils sont les suivants dans cette liste ordonnée.\n",
    "> - C'est un problème actuel qui rassemble des utilisateurs dans un projet de calcul partagé : le [GIMPS](https://fr.wikipedia.org/wiki/Great_Internet_Mersenne_Prime_Search)."
   ]
  },
  {
   "cell_type": "markdown",
   "metadata": {},
   "source": [
    "### Exercice 6 : Réécriture de tests\n",
    "À l'aide du code ci-dessous :\n",
    "> - Vérifier que le début de cette liste est $[2, 3, 5, 7, 13, 17, 19, 31]$\n",
    "> - Ne modifier que les deux endroits avec `...`"
   ]
  },
  {
   "cell_type": "code",
   "execution_count": null,
   "metadata": {},
   "outputs": [],
   "source": [
    "# Test 1 à ne pas modifier\n",
    "A000043 = []\n",
    "for p in range(61):\n",
    "    if est_premier(p) and est_premier(mersenne(p)):\n",
    "        A000043.append(p)\n",
    "assert A000043 == [2, 3, 5, 7, 13, 17, 19, 31]\n",
    "print(\"Test réussi\")\n",
    "\n",
    "# Test 2 à compléter\n",
    "assert [... for p in range(61) if ...] == [2, 3, 5, 7, 13, 17, 19, 31]\n",
    "print(\"Test réussi\")\n",
    "\n",
    "# Les test 1 et 2 sont en réalité identiques !"
   ]
  },
  {
   "cell_type": "markdown",
   "metadata": {},
   "source": [
    "## V] Liste des nombres de Mersenne non premiers\n",
    "\n",
    "La suite [A054723](https://oeis.org/A054723) contient les nombres premiers $p$ tels que $M_p$ est composé."
   ]
  },
  {
   "cell_type": "markdown",
   "metadata": {},
   "source": [
    "### Exercice 7 : Écriture de test avec deux conditions\n",
    "On pose \n",
    "`A054723 = [11, 23, 29, 37, 41, 43, 47, 53, 59]`\n",
    "\n",
    "> Vérifier que tout pour nombre $p$ dans $A054723$, on a :\n",
    ">\n",
    "> $p$ est premier et $M_p$ est composé."
   ]
  },
  {
   "cell_type": "code",
   "execution_count": null,
   "metadata": {},
   "outputs": [],
   "source": [
    "A054723 = [11, 23, 29, 37, 41, 43, 47, 53, 59]\n",
    "\n",
    "# Test\n",
    "for p in A054723:\n",
    "    ...\n",
    "print(\"Test réussi\")"
   ]
  },
  {
   "cell_type": "markdown",
   "metadata": {},
   "source": [
    "## VI] Liste des diviseurs d'un nombre de Mersenne\n",
    "\n",
    "### Exercice 8 : Fonction `diviseurs`\n",
    "1. En s'inspirant des fonctions `est_premier`, écrire une fonction `diviseurs`.\n",
    "- D'abord une version simple\n",
    "- Puis une version améliorée\n",
    "2. Tester vos fonctions !"
   ]
  }
 ],
 "metadata": {
  "kernelspec": {
   "display_name": "Python 3",
   "language": "python",
   "name": "python3"
  },
  "language_info": {
   "codemirror_mode": {
    "name": "ipython",
    "version": 3
   },
   "file_extension": ".py",
   "mimetype": "text/x-python",
   "name": "python",
   "nbconvert_exporter": "python",
   "pygments_lexer": "ipython3",
   "version": "3.7.8"
  }
 },
 "nbformat": 4,
 "nbformat_minor": 4
}
