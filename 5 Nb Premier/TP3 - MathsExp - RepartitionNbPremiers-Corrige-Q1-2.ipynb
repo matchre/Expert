{
 "cells": [
  {
   "cell_type": "markdown",
   "metadata": {},
   "source": [
    "# Maths Expertes\n",
    "# Séquence N°5 - Nombres premiers\n",
    "# TP - Répartition des nombres premiers dans l'ensemble de entiers."
   ]
  },
  {
   "cell_type": "markdown",
   "metadata": {},
   "source": [
    "<div class=\"alert alert-warning\" role=\"alert\">  \n",
    "    \n",
    "**Objectifs :**  \n",
    "    \n",
    "- Réaliser un algorithme pour déterminer la liste des nombres premiers inférieurs ou égaux à un entier $n$ en s'appuyant sur le crible d'Erathostene.\n",
    "- \\'Etudier la répartition des nombres premiers sur l'ensemble des entiers naturels.\n",
    "</div>"
   ]
  },
  {
   "cell_type": "markdown",
   "metadata": {},
   "source": [
    "**Tuto :**\n",
    "Dans ce documenet, pour exécuter du code, placer votre curseur dans la cellule contenant le cellule à exécuter puis cliquer sur `Exécuter` ou appuyer sur </span><span style=\"color: #B317B4\"><strong>SHIFT+Entrée</strong></span>."
   ]
  },
  {
   "cell_type": "markdown",
   "metadata": {},
   "source": [
    "## I. Implémentation en Python du crible d'Eratosthène."
   ]
  },
  {
   "cell_type": "markdown",
   "metadata": {},
   "source": [
    "<div class=\"alert alert-info\">\n",
    "    \n",
    "<strong class='fa fa-cogs' style=\"color: darkorange\"> Question 1.1 </strong>\n",
    "\n",
    "Compléter, ci-dessous, le code de la fonction `creer_liste` qui reçoit en paramètre un entier naturel $n$ et qui renvoie une liste `L` des entiers de 0 à $n$ telle que `L[k]=k` avec $0 \\leq k \\leq n$.\n",
    "    \n",
    "*Remarque : Pour les élèves de NSI, on pourra modifier le code ci-dessous pour créer la liste par compréhension.*\n",
    "\n",
    "</div>"
   ]
  },
  {
   "cell_type": "code",
   "execution_count": 4,
   "metadata": {},
   "outputs": [],
   "source": [
    "def creer_liste(n):\n",
    "    L = []\n",
    "    for i in range(n+1) :\n",
    "        L.append(i)\n",
    "    return L"
   ]
  },
  {
   "cell_type": "code",
   "execution_count": 5,
   "metadata": {},
   "outputs": [
    {
     "data": {
      "text/plain": [
       "[0, 1, 2, 3, 4, 5, 6, 7, 8, 9, 10]"
      ]
     },
     "execution_count": 5,
     "metadata": {},
     "output_type": "execute_result"
    }
   ],
   "source": [
    "# tester ici votre code en créant la liste contenant les entiers de 0 à 100\n",
    "# taper votre code ci-dessous\n",
    "creer_liste(10)"
   ]
  },
  {
   "cell_type": "markdown",
   "metadata": {},
   "source": [
    "<div class=\"alert alert-info\">\n",
    "    \n",
    "<strong class='fa fa-cogs' style=\"color: darkorange\"> Question 1.2 </strong>\n",
    "\n",
    "Tester le code ci-dessous en tester avec différentes valeurs de $k$ entières non nulles. \n",
    "\n",
    "Déterminer le rôle de ces lignes de code.\n",
    "\n",
    "</div>"
   ]
  },
  {
   "cell_type": "code",
   "execution_count": 6,
   "metadata": {},
   "outputs": [
    {
     "name": "stdout",
     "output_type": "stream",
     "text": [
      "6\n",
      "9\n",
      "12\n",
      "15\n",
      "18\n",
      "21\n",
      "24\n",
      "27\n",
      "30\n",
      "33\n",
      "36\n",
      "39\n",
      "42\n",
      "45\n",
      "48\n",
      "51\n",
      "54\n",
      "57\n",
      "60\n",
      "63\n",
      "66\n",
      "69\n",
      "72\n",
      "75\n",
      "78\n",
      "81\n",
      "84\n",
      "87\n",
      "90\n",
      "93\n",
      "96\n",
      "99\n"
     ]
    }
   ],
   "source": [
    "k=3 # Modifier cette valeur pour les tests\n",
    "\n",
    "for j in range(2*k, 101, k):\n",
    "    print(j)"
   ]
  },
  {
   "cell_type": "markdown",
   "metadata": {},
   "source": [
    "*Rôle de ces lignes de code : -Votre réponse ici-*"
   ]
  },
  {
   "cell_type": "markdown",
   "metadata": {},
   "source": [
    "<div class=\"alert alert-info\">\n",
    "    \n",
    "<strong class='fa fa-cogs' style=\"color: darkorange\"> Question 1.3 </strong>\n",
    "\n",
    "On souhaite, dans cette question, appliquer le crible d'Eratosthène pour déterminer les nombres premiers inférieur ou égal à un entier $n$. Pour cela :\n",
    "    \n",
    "- On commencera par créer la liste des entiers de $0$ à $n$.\n",
    "- On remplacera tous les nombres non premiers de cette liste par des $0$ à l’aide du crible d’Eratosthene \n",
    "($0$ correspondra ainsi à un nombre barré dans la grille par le crible d'Eratosthène).\n",
    "    \n",
    "A l’aide des questions précédentes, compléter le scipt de la fonction `crible_eratosthene` qui applique applique le crible d'Eratosthène.\n",
    "\n",
    "__La fonction renverra la liste $L=[0,0,2,3,0,…,0]$, telle que \n",
    "$L[k] = \n",
    "\\left\\{ \\begin{array}\n",
    "   `0 & \\textrm{ si $k$ n'est pas premier }  \\\\\n",
    "   k & \\textrm{ si $k$ est premier}  \n",
    "\\end{array} \\right.\n",
    "$__\n",
    "\n",
    "Par exemple `crible_erathostene(10)` renvoie la liste `[0, 0, 2, 3, 0, 5, 0, 7, 0, 0, 0]`.</br>\n",
    "\n",
    " $ $\n",
    "\n",
    "**Rappel :**\n",
    "- La partie entière d'un nombre $n$ s'obtient en Python avec l'instruction `floor(n)`.\n",
    "- La racine carrée d'un nombre $n$ s'obtient en Python avec l'instruction `sqrt(n)`.\n",
    "\n",
    "</div>"
   ]
  },
  {
   "cell_type": "code",
   "execution_count": 17,
   "metadata": {},
   "outputs": [],
   "source": [
    "from math import * \n",
    "\n",
    "def crible_eratosthene(n):\n",
    "    # on commence par créer la liste des entiers de 0 à n\n",
    "    ...\n",
    "    # à vous de deviner la ligne à compléter ci-dessous ;)\n",
    "    ...\n",
    "    for k in range(...):\n",
    "        ...\n",
    "        ...\n",
    "        ...\n",
    "    return L"
   ]
  },
  {
   "cell_type": "code",
   "execution_count": 18,
   "metadata": {},
   "outputs": [
    {
     "data": {
      "text/plain": [
       "[0, 0, 2, 3, 0, 5, 0, 7, 0]"
      ]
     },
     "execution_count": 18,
     "metadata": {},
     "output_type": "execute_result"
    }
   ],
   "source": [
    "# Tester votre code ci-dessous en appliquant le cribe d'Eratosthène au entiers inférieurs ou égaux à 10.\n",
    "# Vos tests ici.\n",
    "crible_eratosthene(8)"
   ]
  },
  {
   "cell_type": "markdown",
   "metadata": {},
   "source": [
    "<div class=\"alert alert-info\">\n",
    "    \n",
    "<strong class='fa fa-cogs' style=\"color: darkorange\"> Question 1.4 </strong>\n",
    "\n",
    "En utilisant la fonction précédente, compléter la fonction `liste_nb_premiers` ci-dessous qui reçoit en paramètre un entier $n$ et qui renvoie la liste des nombres premiers inférieurs ou égaux à $n$. \n",
    "\n",
    "</div>"
   ]
  },
  {
   "cell_type": "code",
   "execution_count": null,
   "metadata": {},
   "outputs": [],
   "source": [
    "def liste_nb_premier(n):\n",
    "    premier = []\n",
    "    ...\n",
    "    ...\n",
    "    \n",
    "    return premier"
   ]
  },
  {
   "cell_type": "code",
   "execution_count": null,
   "metadata": {},
   "outputs": [],
   "source": [
    "# tester ici cette dernière fonction;\n"
   ]
  },
  {
   "cell_type": "markdown",
   "metadata": {},
   "source": [
    "## II. Repartition des nombres premiers"
   ]
  },
  {
   "cell_type": "markdown",
   "metadata": {},
   "source": [
    "On sait que le nombre de nombres premiers est infini mais comment sont répartis les nombres premiers dans l'ensemble des entiers naturels ?"
   ]
  },
  {
   "cell_type": "markdown",
   "metadata": {},
   "source": [
    "<div class=\"alert alert-info\">\n",
    "    \n",
    "<strong class='fa fa-cogs' style=\"color: darkorange\"> Question 2.1 </strong>\n",
    "\n",
    "En utilisant les questions précédentes, calculer la fréquence des nombres premiers parmi les nombres inférieurs à $n$ pour $n=100$, $n=10000$ puis $n=1000000.$\n",
    "\n",
    "Dans chaque cas, comparer cette fréquence avec $\\cfrac{1}{ln(n)}$, où $ln$ est la fonction logarithme népérien.\n",
    "</div>"
   ]
  },
  {
   "cell_type": "code",
   "execution_count": null,
   "metadata": {},
   "outputs": [],
   "source": [
    "# saisir ici les instructions nécessaires pour répondre aux questions"
   ]
  },
  {
   "cell_type": "markdown",
   "metadata": {},
   "source": [
    "Il a été prouvé que, pour de grandes valeurs de $n$, la fréquence d’apparitions des nombres premiers entre $1$ et $n$, est proche de $\\cfrac{1}{ln(n)}$ (Théorème des nombres premier énoncé par Gauss dès l'âge de 14 ans)."
   ]
  },
  {
   "cell_type": "markdown",
   "metadata": {},
   "source": [
    "On peut observer graphiquement l'évolution de cette fréquence à l'aide de l'algorithme suivant."
   ]
  },
  {
   "cell_type": "markdown",
   "metadata": {},
   "source": [
    "<div class=\"alert alert-info\">\n",
    "    \n",
    "<strong class='fa fa-cogs' style=\"color: darkorange\"> Question 2.2 </strong>\n",
    "\n",
    "Compléter le script suivant pour afficher sur un même graphique la fréquence d'apparitions des nombres premiers et la quantité $\\cfrac{1}{ln(n)}$ pour $2 \\leq n \\leq 1000$.\n",
    "</div>"
   ]
  },
  {
   "cell_type": "code",
   "execution_count": null,
   "metadata": {},
   "outputs": [],
   "source": [
    "import matplotlib.pyplot as plt\n",
    "\n",
    "x, y, z =[], [], []\n",
    "for i in range(2, 1001):\n",
    "    x.append(i)\n",
    "    y.append(...) # fréquence d'apparition des nombres premiers à ajouter dans la liste y\n",
    "    z.append(1/(log(i)))\n",
    "\n",
    "fig = plt.figure(figsize=(8, 8))\n",
    "plt.scatter(..., ..., marker='o', label='eratosthene') #ligne à compléter\n",
    "plt.scatter(x, z, marker='x',label='approximation pour théorème des nombres premiers')\n",
    "plt.xlabel('valeur de $n$')\n",
    "plt.ylabel(\"fréquences d'apparition des nombres premiers\")\n",
    "plt.legend(loc='upper left')\n",
    "plt.grid()\n",
    "plt.show()"
   ]
  }
 ],
 "metadata": {
  "kernelspec": {
   "display_name": "Python 3",
   "language": "python",
   "name": "python3"
  },
  "language_info": {
   "codemirror_mode": {
    "name": "ipython",
    "version": 3
   },
   "file_extension": ".py",
   "mimetype": "text/x-python",
   "name": "python",
   "nbconvert_exporter": "python",
   "pygments_lexer": "ipython3",
   "version": "3.8.5"
  }
 },
 "nbformat": 4,
 "nbformat_minor": 4
}
