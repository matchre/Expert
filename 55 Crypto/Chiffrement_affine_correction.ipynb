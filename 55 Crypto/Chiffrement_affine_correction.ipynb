{
 "cells": [
  {
   "cell_type": "markdown",
   "metadata": {},
   "source": [
    "![En tête general](img/En_tete_general.png)\n",
    "\n",
    "\n",
    "*(C) Copyright Franck CHEVRIER 2019-2020 http://www.python-lycee.com/*\n",
    "\n",
    "<span style=\"color: #9317B4\"> Pour exécuter une saisie Python, sélectionner la cellule et valider avec </span><span style=\"color: #B317B4\"><strong>SHIFT+Entrée</strong></span>.\n"
   ]
  },
  {
   "cell_type": "markdown",
   "metadata": {},
   "source": [
    "# <span style=\"color:#6C3483\">chiffrement affine </span> <span style=\"color:red\">(corrigé)</span>\n",
    "\n",
    "### <span style=\"color:#6C3483\">Activité sur le chiffrement n°1</span>\n",
    "##### <span style=\"color:#C18FDE\" id=\"1\">(prérecquis: congruences, théorème de Bézout, théorème de Gauss, équations diophantiennes)</span>\n",
    "\n",
    "![Illustration_detectives](img/Chiffrement_affine.png)"
   ]
  },
  {
   "cell_type": "markdown",
   "metadata": {},
   "source": [
    "## <span style=\"color:#8E44AD\">1. Coder et décoder un message</span>"
   ]
  },
  {
   "cell_type": "markdown",
   "metadata": {},
   "source": [
    "Archibald et Balthazar, deux détectives maladroits, souhaitent coder les messages qu'ils doivent échanger afin qu'ils ne soient pas déchiffrables s'ils tombaient en de mauvaises mains.<br>\n",
    "<br>\n",
    "Ils commencent par associer chaque lettre de l'alphabet à un nombre entier comme l'indique le tableau ci-dessous.\n",
    "<br>\n",
    "\n",
    "| A | B | C | D | E | F | G | H | I | J | K | L | M | N | O | P | Q | R | S | T | U | V | W | X | Y | Z |  \n",
    "|:--|:--|:--|:--|:--|:--|:--|:--|:--|:--|:--|:--|:--|:--|:--|:--|:--|:--|:--|:--|:--|:--|:--|:--|:--|:--|\n",
    "| 0 | 1 | 2 | 3 | 4 | 5 | 6 | 7 | 8 | 9 | 10| 11| 12| 13| 14| 15| 16| 17| 18| 19| 20| 21| 22| 23| 24| 25|\n",
    "\n",
    "Ils décident ensuite de coder leurs messages avec le <strong>chiffrement affine</strong> suivant :<br>\n",
    "\n",
    "<p style='background-color:#F5EEF8;' >\n",
    "Si la lettre à coder correspond à $x$ (avec $0 \\leqslant x \\leqslant 25$), alors on calcule le reste de la division euclidienne de $11x+8$ par $26$, noté $y$.<br>\n",
    "Comme $0 \\leqslant y \\leqslant 25$ , on peut associer une lettre à cette valeur $y$ : Cette lettre est le codage de la lettre initiale.<br>\n",
    "Le couple $(11;8)$ est la <strong>clé de chiffrement</strong>.\n",
    "</p>\n"
   ]
  },
  {
   "cell_type": "markdown",
   "metadata": {},
   "source": [
    "__1.1. Archibald souhaite envoyer le message suivant à Balthazar : \"C EST FACILE CE CODE\". Quel message va-t-il lui envoyer?__\n",
    "\n",
    "\n",
    "<span style=\"color:red\">\n",
    "La première lettre du message est C, qui correspond à $x=2$. On a $11x+8=30$ dont le reste par la division euclidienne par $26$ vaut $y=4$. Ainsi, cette lettre C sera codée par la lettre E.<br>\n",
    "En procédant de même pour les lettres suivantes, on obtient le message codé : E AYJ LIESZA EA EGPA.\n",
    "</span>"
   ]
  },
  {
   "cell_type": "markdown",
   "metadata": {},
   "source": [
    "__1.2. On donne ci-dessous la fonction Python <mark>codage_affine</mark>, qui permet d'effectuer un chiffrement affine.__<br>\n",
    "$\\;\\;\\;\\;\\;\\;$__Effectuer un appel à cette fonction permettant de vérifier la réponse à la question précédente.__"
   ]
  },
  {
   "cell_type": "code",
   "execution_count": 1,
   "metadata": {},
   "outputs": [],
   "source": [
    "#Mise en mémoire de l'alphabet\n",
    "Alphabet=\"ABCDEFGHIJKLMNOPQRSTUVWXYZ\"\n",
    "\n",
    "def codage_affine(a,b,message):\n",
    "    \"\"\"\n",
    "    Fonction effectuant le codage affine du message\n",
    "    avec la clé de chiffrement (a,b)\n",
    "    \"\"\"\n",
    "    code=\"\"                                 \n",
    "    for caractere in message:             # pour chaque caractère du message\n",
    "        if caractere in Alphabet:         # si ce caractère est dans l'alphabet, alors:\n",
    "            x = Alphabet.index(caractere) #       on récupère l'entier correspondant à cette lettre\n",
    "            y = (a*x+b)%26                #       on calcule y\n",
    "            code += Alphabet[y]           #       on complète le code avec la lettre correspondant à y\n",
    "        else:                             # sinon: \n",
    "            code += \" \"                   #       on complète le code avec un espace\n",
    "    return code                           # on renvoie le message codé\n",
    "        "
   ]
  },
  {
   "cell_type": "code",
   "execution_count": 2,
   "metadata": {},
   "outputs": [
    {
     "data": {
      "text/plain": [
       "'E AYJ LIESZA EA EGPA'"
      ]
     },
     "execution_count": 2,
     "metadata": {},
     "output_type": "execute_result"
    }
   ],
   "source": [
    "# Effectuer ici l'appel à la fonction codage_affine\n",
    "codage_affine(11,8,\"C EST FACILE CE CODE\")\n",
    " "
   ]
  },
  {
   "cell_type": "markdown",
   "metadata": {},
   "source": [
    "__1.3. Archibald reçoit la réponse de Balthazar: \"DA VA EGKRNAVPY RIY\".__<br>\n",
    "$\\;\\;\\;\\;\\;\\;$__Il se rend alors compte qu'ils n'ont pas convenu de méthode pour le déchiffrement... et se demande comment il va décoder ce message.__<br>\n",
    "$\\;\\;\\;\\;\\;\\;$__On cherche donc à déterminer $x$ connaissant $y$.__"
   ]
  },
  {
   "cell_type": "markdown",
   "metadata": {},
   "source": [
    "$\\;\\;\\;$__a. Démontrer que s'il existe $u$ tel que  $0 \\leqslant u \\leqslant 25$  et  $11u \\equiv 1[26]$ , alors $x \\equiv u(y-8)[26]$.__<br>\n",
    "$\\;\\;\\;\\;\\;\\;$Ainsi, une telle valeur de $u$ permettrait de décoder le message.\n",
    "\n",
    "<span style=\"color:red\">\n",
    "Supposons qu'il existe $u$ tel que  $0 \\leqslant u \\leqslant 25$  et  $11u \\equiv 1[26]$.<br>\n",
    "Par construction de $y$, on a $y \\equiv 11x+8 [26]$.<br>\n",
    "En multipliant par $u$, il vient:<br>\n",
    "$uy \\equiv u(11x+8)[26]$<br>\n",
    "$uy-8u \\equiv 11ux[26]$<br>\n",
    "et comme $11u \\equiv 1[26]$, on a finalement:<br>\n",
    "$u(y-8) \\equiv x[26]$<br>\n",
    "$x \\equiv u(y-8)[26]$\n",
    "</span>"
   ]
  },
  {
   "cell_type": "markdown",
   "metadata": {},
   "source": [
    "$\\;\\;\\;$__b. L'équation $11u+26v=1$ d'inconnues entières $u$ et $v$ a-t-elle des solutions ?__<br>\n",
    "$\\;\\;\\;\\;\\;\\;$__Si oui, déterminer une de ces solutions.__\n",
    "\n",
    "<span style=\"color:red\">\n",
    "$11$ et $26$ sont premiers entre eux, donc l'équation diophantienne $11u+26v=1$ admet des solutions.<br>\n",
    "L'algorithme d'Euclide permet de déterminer des coefficients de Bézout, qui donnent une solution particulière:<br>\n",
    "On note $a=26$ et $b=11$.<br>\n",
    "</span>\n",
    "<br>\n",
    "\n",
    "|<span style=\"color:red\">Divisions euclidiennes</span>  |<span style=\"color:red\">Recherche des coefficients de Bézout </span>$\\;\\;\\;\\;\\;\\;\\;\\;\\;\\;\\;\\;\\;\\;\\;\\;\\;\\;\\;\\;\\;\\;\\;\\;\\;\\;\\;\\;\\;\\;\\;\\;\\;\\;\\;$ |  \n",
    "|:-----------------------|:-----------------------------------------------------------------------------------|\n",
    "| $\\color{red}{26=11 \\times 2+4}$     | $\\color{red}{4=26-11 \\times 2=a-2b}$                                  |\n",
    "| $\\color{red}{11=4 \\times 2+3}$      | $\\color{red}{3=11-4 \\times 2=b-(a-2b) \\times 2=-2a+5b}$                |    \n",
    "| $\\color{red}{4=3 \\times 1+1}$       | $\\color{red}{1=4-3 \\times 1=a-2b-(-2a+5b)=3a-7b}$                      |    \n",
    "| $\\color{red}{3=1 \\times 3+0}$       |                                                                       |\n",
    "\n",
    "<br>\n",
    "<span style=\"color:red\"> \n",
    "On en déduit donc que le couple $(u;v)=(-7;3)$ est solution de $11u+26v=1$.     \n",
    "</span>\n"
   ]
  },
  {
   "cell_type": "markdown",
   "metadata": {},
   "source": [
    "$\\;\\;\\;$__c. En déduire que $x \\equiv 19y+4[26]$, puis déchiffrer le message que Balthazar a envoyé à Archibald__<br>\n",
    "$\\;\\;\\;\\;\\;\\;$Ainsi, le couple $(19;4)$ est la clé de déchiffrement.<br>\n",
    "\n",
    "<span style=\"color:red\"> \n",
    "D'après la question b, $u=-7$ vérifie $11u+26 \\times2=1$ donc $11u \\equiv 1[26]$.<br>\n",
    "D'après la question a, on en déduit que:<br>\n",
    "$x \\equiv u(y-8)[26]$<br>\n",
    "$x \\equiv -7(y-8)[26]$<br>\n",
    "$x \\equiv -7y+56[26]$<br>\n",
    "$x \\equiv 19y+4[26]$ car $-7 \\equiv 19[26]$ et $56 \\equiv 4[26]$<br>\n",
    "<br>\n",
    "On peut maintenant décoder le message. La première lettre du message codé est D, qui correspond à $y=3$. On a $19y+4=61$ dont le reste par la division euclidienne par $26$ vaut $x=9$. Ainsi, le décodage de la lettre D donne la lettre J.<br>\n",
    "En procédant de même pour les lettres suivantes, on obtient le message décodé : JE NE COMPRENDS PAS.\n",
    "</span>\n",
    "\n"
   ]
  },
  {
   "cell_type": "markdown",
   "metadata": {},
   "source": [
    "$\\;\\;\\;$__d. A l'aide d'un appel à la fonction Python <mark>codage_affine</mark>, vérifier le décodage du message, réalisé dans la question précédente.__"
   ]
  },
  {
   "cell_type": "code",
   "execution_count": 3,
   "metadata": {},
   "outputs": [
    {
     "data": {
      "text/plain": [
       "'JE NE COMPRENDS PAS'"
      ]
     },
     "execution_count": 3,
     "metadata": {},
     "output_type": "execute_result"
    }
   ],
   "source": [
    "# Effectuer ici l'appel à la fonction codage_affine\n",
    "codage_affine(19,4,\"DA VA EGKRNAVPY RIY\")\n"
   ]
  },
  {
   "cell_type": "markdown",
   "metadata": {},
   "source": [
    "## <span style=\"color:#8E44AD\">2. Choisir une clé de chiffrement</span>"
   ]
  },
  {
   "cell_type": "markdown",
   "metadata": {},
   "source": [
    "__2.1. Rassurés de voir que leur méthode fonctionne, Archibald et Balthazar décident à présent d'utiliser la clé de chiffrement $(4;3)$.__<br>\n",
    "$\\;\\;\\;\\;\\;\\;$__Archibald souhaite envoyer le message \"CA NE MARCHE PAS\" à Balthazar.__<br>\n",
    "$\\;\\;\\;\\;\\;\\;$__a. A l'aide de la fonction Python <mark>codage_affine</mark>, déterminer le message qu'Archibald va envoyer.__\n"
   ]
  },
  {
   "cell_type": "code",
   "execution_count": 4,
   "metadata": {},
   "outputs": [
    {
     "data": {
      "text/plain": [
       "'LD DT ZDTLFT LDX'"
      ]
     },
     "execution_count": 4,
     "metadata": {},
     "output_type": "execute_result"
    }
   ],
   "source": [
    "# Effectuer ici l'appel à la fonction codage_affine\n",
    "codage_affine(4,3,\"CA NE MARCHE PAS\")"
   ]
  },
  {
   "cell_type": "markdown",
   "metadata": {},
   "source": [
    "$\\;\\;\\;\\;\\;\\;$__b. Balthazar parviendra-t-il facilement à décoder ce message ? Pourquoi ?__<br>\n",
    "\n",
    "<span style=\"color:red\"> \n",
    "On peut constater sur l'exemple de la question a que deux lettres différentes peuvent être codées par la même lettre, d'où l'impossibilité de mettre en place une méthode de décodage.<br>\n",
    "Par exemple, les lettres C et P sont toutes deux codées L, et les lettres A et N sont toutes deux codées D.\n",
    "</span>\n"
   ]
  },
  {
   "cell_type": "markdown",
   "metadata": {},
   "source": [
    "__2.2. \tDémontrer que si $(a_1;b_1)$ et $(a_2;b_2)$ sont tels que $a_1 \\equiv a_2[26]$ et $b_1 \\equiv b_2[26]$ , alors les codes obtenus avec ces deux clés sont les mêmes.__<br>\n",
    "$\\;\\;\\;\\;\\;\\;$On peut donc choisir des entiers naturels $a$ et $b$ tels que $1 \\leqslant a \\leqslant 25$ et $0 \\leqslant b \\leqslant 25$.\n",
    "\n",
    "<span style=\"color:red\"> \n",
    "Soit $x$ la valeur à coder. Les valeurs obtenues avec les clés $(a_1;b_1)$ et $(a_2;b_2)$ vérifient respectivement $y_1 \\equiv a_1x+b_1[26]$ et $y_2 \\equiv a_2x+b_2[26]$. Comme $a_1 \\equiv a_2[26]$ et $b_1 \\equiv b_2[26]$, on en déduit que $y_1 \\equiv y_2[26]$. Finalement, comme $y_1$ et $y_2$ sont compris entre $0$ et $25$, ils sont égaux.\n",
    "</span>\n"
   ]
  },
  {
   "cell_type": "markdown",
   "metadata": {},
   "source": [
    "__2.3. On se place dans le cas d’une clé de chiffrement $(a;b)$ vérifiant $1 \\leqslant a \\leqslant 25$ et $0 \\leqslant b \\leqslant 25$.__<br>\n",
    "$\\;\\;\\;\\;\\;\\;$__On note $x$ et $x'$ deux entiers compris entre $0$ et $25$, et on note $y$ et $y'$ leurs codes avec la clé $(a;b)$.__<br>\n",
    "<br>\n",
    "$\\;\\;\\;\\;\\;\\;$__a. Démontrer que si $y=y'$ alors $a(x-x') \\equiv 0[26]$.__\n",
    "\n",
    "<span style=\"color:red\">\n",
    "Supposons que $y=y'$. On a alors:<br>\n",
    "$ax+b \\equiv ax'+b[26]$<br>\n",
    "$a(x-x') \\equiv 0[26]$\n",
    "</span>\n",
    "\n",
    "$\\;\\;\\;\\;\\;\\;$__b. Justifier que si on choisit $a$ premier avec $26$, alors le décodage de tout message est unique.__\n",
    "\n",
    "<span style=\"color:red\">\n",
    "Supposons que $a$ premier avec $26$.<br>\n",
    "Considérons $x$ et $x'$ dont le codage avec la clé $(a;b)$ donne une même valeur, c'est à dire $y=y'$.<br>\n",
    "La question précédente donne $a(x-x') \\equiv 0[26]$ , qui permet de déduire que $26$ divise le produit $a(x-x')$.<br>\n",
    "Comme $26$ est premier avec $a$, le théorème de Gauss permet d'affirmer que $26$ divise $(x-x')$.<br>\n",
    "Or $0 \\leqslant x \\leqslant 25$ et $0 \\leqslant x' \\leqslant 25$ permettent de déduire que $-25 \\leqslant x-x' \\leqslant 25$ et $0$ est le seul multiple de $26$ compris entre $-25$ et $25$.<br>\n",
    "Ainsi, $x-x'=0$ c'est à dire $x=x'$.<br>\n",
    "Ceci prouve que le décodage d'un message est bien unique.\n",
    "</span>"
   ]
  },
  {
   "cell_type": "markdown",
   "metadata": {},
   "source": [
    "$\\;\\;\\;\\;\\;\\;$Pour la suite, on admet que la réciproque est vraie :<br>\n",
    "$\\;\\;\\;\\;\\;\\;$Le décodage de n'importe quel message se fait de façon unique si et seulement si $a$ est premier avec $26$.<br>\n",
    "\n"
   ]
  },
  {
   "cell_type": "markdown",
   "metadata": {},
   "source": [
    "__2.4. On dit qu'une clé de chiffrement est valide s'il y a unicité du décodage de n'importe quel message.__<br>\n",
    "$\\;\\;\\;\\;\\;\\;$__Combien de clés de chiffrements peut-on créer au maximum ?__<br>\n",
    "$\\;\\;\\;\\;\\;\\;$__Que peut-on en conclure concernant la sûreté de la technique de chiffrement affine ?__\n",
    "\n",
    "<span style=\"color:red\">\n",
    "La clé de chiffrement choisie doit vérifier $1 \\leqslant a \\leqslant 25$ et $0 \\leqslant b \\leqslant 25$ avec $a$ premier avec $26$.<br>\n",
    "Il y a $26$ valeurs possibles pour $b$ et $12$ valeurs possibles pour $a$ , qui sont $1;3;5;7;9;11;15;17;19;21;23$ et $25$.<br>\n",
    "Ainsi, on peut créer $26 \\times 12 = 312$ clés $(a;b)$ valides distinctes.<br>\n",
    "<br>\n",
    "La sûreté d'un chiffrement affine est faible au vu du peu de clés valides distinctes existantes. Un traitement informatisé de test exhaustif des clés possibles permettrait facilement de trouver la clé de déchiffrement.            \n",
    "</span>"
   ]
  },
  {
   "cell_type": "markdown",
   "metadata": {},
   "source": [
    "__2.5. Dans cette question, on souhaite automatiser la recherche de la clé de déchiffrement associée à une clé de chiffrement initiale valide $(a;b)$.__<br>\n",
    "$\\;\\;\\;\\;\\;$__(c'est à dire telle que $a$ est premier avec $26$).__\n",
    "\n",
    "$\\;\\;\\;\\;\\;\\;$__a. On suppose qu'on a déterminé $u$ qui vérifie $1 \\leqslant u \\leqslant 25$ et $au \\equiv 1[26]$.__<br>\n",
    "$\\;\\;\\;\\;\\;\\;\\;\\;\\;$__On pose alors $v$ le reste de la division euclidienne de $-bu$ par $26$.__<br>\n",
    "$\\;\\;\\;\\;\\;\\;\\;\\;\\;$__Vérifier que $(u;v)$ est la clé de déchiffrement cherchée.__\n",
    "\n",
    "\n",
    "<span style=\"color:red\">\n",
    "Considérons $x$ et $y$ tels que $y$ est la valeur codée correspondant à $x$ :<br>\n",
    "$y \\equiv ax+b [26]$<br>\n",
    "En multipliant par $u$, on obtient:<br>\n",
    "$uy \\equiv u(ax+b) [26]$<br>\n",
    "$uy \\equiv aux+bu [26]$<br>\n",
    "et comme $au \\equiv 1[26]$ et $bu \\equiv -v[26]$ , on déduit:<br>\n",
    "$uy \\equiv x-v [26]$<br>\n",
    "$x \\equiv uy+v [26]$<br>\n",
    "Ainsi $(u;v)$ est bien la clé de déchiffrement associée à la clé de chiffrement $(a;b)$.\n",
    "</span>    "
   ]
  },
  {
   "cell_type": "markdown",
   "metadata": {},
   "source": [
    "$\\;\\;\\;\\;\\;\\;$__b. Ecrire une fonction Python <mark>inverse_cle</mark> qui reçoit une clé de chiffrement $(a;b)$ et renvoie la clé de déchiffrement associée $(u;v)$.__<br>\n",
    "$\\;\\;\\;\\;\\;\\;\\;\\;\\;$On pourra, à l'aide d'une boucle, tester les candidats pour $u$ en partant de $1$ afin d'obtenir une valeur vérifiant \n",
    "$au \\equiv 1[26]$.\n"
   ]
  },
  {
   "cell_type": "code",
   "execution_count": 5,
   "metadata": {},
   "outputs": [],
   "source": [
    "# Ecrire ici la fonction inverse_cle\n",
    "def inverse_cle(a,b):\n",
    "    \"\"\"\n",
    "    fonction qui renvoie la clé de déchiffrage associée à la clé de chiffrage (a;b)\n",
    "    \"\"\"\n",
    "    for u in range(1,26):\n",
    "        if (a*u)%26==1:\n",
    "            return u,(-b*u)%26\n",
    "    return None"
   ]
  },
  {
   "cell_type": "markdown",
   "metadata": {},
   "source": [
    "$\\;\\;\\;\\;\\;\\;$__c. Convenir avec une autre personne d'une clé de chiffrage valide.__<br>\n",
    "$\\;\\;\\;\\;\\;\\;\\;\\;\\;$__Chacun code alors un message à l'aide de la fonction Python <mark>codage_affine</mark> en utilisant cette clé, et le donne à l'autre.__<br>\n",
    "$\\;\\;\\;\\;\\;\\;\\;\\;\\;$__Enfin, chacun décode le message reçu (on peut à nouveau utiliser la fonction Python <mark>codage_affine</mark>).__"
   ]
  },
  {
   "cell_type": "code",
   "execution_count": 6,
   "metadata": {},
   "outputs": [
    {
     "data": {
      "text/plain": [
       "'LZLB ZTA HK DZTTXNZ SZ AZTA'"
      ]
     },
     "execution_count": 6,
     "metadata": {},
     "output_type": "execute_result"
    }
   ],
   "source": [
    "#Utiliser cette zone pour coder le message à envoyer\n",
    "\n",
    "#clé de chiffrement choisie:\n",
    "a,b = 7,23\n",
    "\n",
    "#message choisi:\n",
    "message='CECI EST UN MESSAGE DE TEST'\n",
    "\n",
    "#codage du message:\n",
    "message_code=codage_affine(a,b,message)\n",
    "message_code"
   ]
  },
  {
   "cell_type": "code",
   "execution_count": 7,
   "metadata": {},
   "outputs": [
    {
     "data": {
      "text/plain": [
       "(15, 19)"
      ]
     },
     "execution_count": 7,
     "metadata": {},
     "output_type": "execute_result"
    }
   ],
   "source": [
    "#Utiliser cette zone pour déterminer la clé de déchiffrement\n",
    "\n",
    "u,v=inverse_cle(7,23)\n",
    "u,v"
   ]
  },
  {
   "cell_type": "code",
   "execution_count": 8,
   "metadata": {},
   "outputs": [
    {
     "data": {
      "text/plain": [
       "'CECI EST UN MESSAGE DE TEST'"
      ]
     },
     "execution_count": 8,
     "metadata": {},
     "output_type": "execute_result"
    }
   ],
   "source": [
    "#Utiliser cette zone pour décoder le message reçu\n",
    "\n",
    "#décodage du message codé:\n",
    "decodage=codage_affine(u,v,message_code)\n",
    "decodage"
   ]
  },
  {
   "cell_type": "markdown",
   "metadata": {},
   "source": [
    "*(C) Copyright Franck CHEVRIER 2019-2020 http://www.python-lycee.com/*\n"
   ]
  }
 ],
 "metadata": {
  "celltoolbar": "Raw Cell Format",
  "kernelspec": {
   "display_name": "Python 3",
   "language": "python",
   "name": "python3"
  },
  "language_info": {
   "codemirror_mode": {
    "name": "ipython",
    "version": 3
   },
   "file_extension": ".py",
   "mimetype": "text/x-python",
   "name": "python",
   "nbconvert_exporter": "python",
   "pygments_lexer": "ipython3",
   "version": "3.6.4"
  }
 },
 "nbformat": 4,
 "nbformat_minor": 2
}
