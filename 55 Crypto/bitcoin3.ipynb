{
 "cells": [
  {
   "cell_type": "markdown",
   "metadata": {},
   "source": [
    "# Bitcoin"
   ]
  },
  {
   "cell_type": "markdown",
   "metadata": {
    "inputHidden": false,
    "outputExpanded": false,
    "outputHidden": false
   },
   "source": [
    "Le bitcoin est une monnaie dématérialisée et décentralisée. Elle repose sur deux principes informatiques : la cryptographie à clé publique et la preuve de travail. Pour comprendre ce second principe, tu vas créer un modèle simple de bitcoin."
   ]
  },
  {
   "cell_type": "markdown",
   "metadata": {},
   "source": [
    "## Activité 1 (Preuve de travail)."
   ]
  },
  {
   "cell_type": "markdown",
   "metadata": {},
   "source": [
    "Objectifs : comprendre ce qu’est une preuve de travail sur un modèle simple. \n",
    "\n",
    "Cette activité est\n",
    "indépendante du reste de la fiche. L’idée est de trouver un problème difficile à résoudre mais facile\n",
    "à vérifier.  \n",
    "Comme les sudokus par exemple : il suffit de dix secondes pour vérifier qu’une grille est\n",
    "remplie correctement, par contre il a fallu plus de dix minutes pour le résoudre.  \n",
    "Le problème mathématique est le suivant : on te donne un nombre premier p et un entier y ; tu dois\n",
    "trouver un entier $x$ tel que :\n",
    "$x^2 = y $ (mod p)  \n",
    "Autrement dit $x$ est une racine carrée de $y$ modulo p. \n",
    " Attention, il n’existe pas toujours de solution pour\n",
    "x"
   ]
  },
  {
   "cell_type": "markdown",
   "metadata": {},
   "source": [
    "## Exemples.  \n",
    "• Pour p = 13 et y = 10, alors une solution est x = 6. Effet $x^2$ = 62 = 36. Et 36 = 2 × 13 + 10 donc\n",
    "$x^2$ = 10 (mod 13).  \n",
    "• La solution n’est pas forcément unique. Par exemple, vérifie que x = 7 est aussi solution.  \n",
    "• Il n’y a pas toujours de solution, par exemple pour p = 13 et y = 5, aucun entier x n’est solution.  \n",
    "• Exercice : pour p = 13, trouve à la main deux solutions x au problème x2 = 9 (mod 13) ; trouve une\n",
    "solution x au problème $x^2$ = 3 (mod 13).\n",
    "L’entier p est fixé pour toute l’activité.  \n",
    "Pour les exemples faciles on prendra p = 101, pour les exemples\n",
    "moyens p = 15486 869 et pour les exemples difficiles p = 2276 856017.   \n",
    "Plus l’entier p est grand, plus\n",
    "la preuve de travail est difficile à obtenir.\n",
    "1. **Vérification (facile).** Écris une fonction **verification(x,y)** qui renvoie « vrai » si x est bien\n",
    "solution du problème x2 = y (mod p) et « faux » sinon.\n",
    "Vérifie que x = 6543210 est solution lorsque y = 8371779 et p = 15486869. Affiche le temps de\n",
    "calcul nécessaire à cette vérification. (Voir le cours plus bas.)"
   ]
  },
  {
   "cell_type": "code",
   "execution_count": 18,
   "metadata": {
    "inputHidden": false,
    "outputExpanded": false,
    "outputHidden": false
   },
   "outputs": [
    {
     "name": "stdout",
     "output_type": "stream",
     "text": [
      "--- Vérification x^2 = y modulo p ---\n",
      "True\n",
      "Temps de calcul (en secondes) : 0.0\n"
     ]
    }
   ],
   "source": [
    "from time import *\n",
    "\n",
    "# p = 101  # Un petit nombre premier\n",
    "# p = 1097\n",
    "# p = 10651\n",
    "# p = 100109\n",
    "# p = 1300573\n",
    "p = 15486869 # Un moyen nombre premier\n",
    "# p = 179426321  \n",
    "# p = 2276856017 # Un grand nombre premier\n",
    "# p = 32416187567\n",
    "\n",
    "\n",
    "## Question 1 ##\n",
    "def verification(x,y):\n",
    "    xcarre = (x ** 2) % p\n",
    "    if xcarre == y:\n",
    "        return True\n",
    "    else:\n",
    "        return False\n",
    "\n",
    "# Test\n",
    "print(\"--- Vérification x^2 = y modulo p ---\")      \n",
    "debut_chrono = time()\n",
    "x = 6543210\n",
    "# y = (x**2) % p; print(y)\n",
    "y = 8371779  \n",
    "print(verification(x,y))\n",
    "fin_chrono = time()\n",
    "total_chrono = fin_chrono - debut_chrono\n",
    "print(\"Temps de calcul (en secondes) :\",total_chrono)"
   ]
  },
  {
   "cell_type": "markdown",
   "metadata": {},
   "source": [
    " 2.**Recherche de solution (difficile).** Pour trouver une solution x, il n’y a pas vraiment d’autres choix\n",
    "pour nous que de tester tous les x en commençant par x = 0, x = 1...    \n",
    "Programme une fonction\n",
    "**racine(y)** qui renvoie une solution x du problème pour y donné (ou None s’il n’y a pas de solution).   \n",
    "• Pour p = 101 et y = 17, trouve x tel que x2 = y (mod p).   \n",
    "• Pour p = 15 486 869 et y = 8 371 779, tu dois retrouver le x de la première question.    \n",
    "Combien de\n",
    "temps a pris la recherche ?  \n",
    "• Pour p = 15486 869 et y = 13 017204, trouve x tel que $x^2$ = y (mod p)."
   ]
  },
  {
   "cell_type": "code",
   "execution_count": 19,
   "metadata": {
    "inputHidden": false,
    "outputExpanded": false,
    "outputHidden": false
   },
   "outputs": [
    {
     "name": "stdout",
     "output_type": "stream",
     "text": [
      "--- Recherche de x tq x^2 = y modulo p ---\n",
      "solution de x^2=  17  mod  101  est  44\n",
      "Temps de calcul (en secondes) : 0.0010025501251220703 \n",
      "\n",
      "solution de x^2=  8371779  mod  15486869  est  6543210\n",
      "Temps de calcul (en secondes) : 4.059792518615723 \n",
      "\n",
      "solution de x^2=  13017204  mod  15486869  est  12345\n",
      "Temps de calcul (en secondes) : 0.00601649284362793 \n",
      "\n"
     ]
    }
   ],
   "source": [
    "## Question 2 ##\n",
    "def racine(y):\n",
    "    for x in range(p):\n",
    "        res = (x ** 2 - y) % p\n",
    "        if res == 0:\n",
    "            return x\n",
    "    return None\n",
    "\n",
    "\n",
    "def racine2(y,p):\n",
    "    for x in range(p):\n",
    "        res = (x ** 2 - y) % p\n",
    "        if res == 0:\n",
    "            return x\n",
    "    return None\n",
    "# Test\n",
    "print(\"--- Recherche de x tq x^2 = y modulo p ---\")  \n",
    "for yp in [ [17,101] , [8371779,15486869] , [13017204,15486869] ]:\n",
    "    debut_chrono = time()\n",
    "    x = racine2(yp[0],yp[1])\n",
    "    print(\"solution de x^2= \",yp[0],\" mod \",yp[1], \" est \",x)\n",
    "\n",
    "    fin_chrono = time()\n",
    "    total_chrono = fin_chrono - debut_chrono\n",
    "    print(\"Temps de calcul (en secondes) :\",total_chrono,\"\\n\")"
   ]
  },
  {
   "cell_type": "markdown",
   "metadata": {},
   "source": [
    "Conclusion : nous avons trouvé un problème difficile à résoudre, mais pour lequel il est facile de vérifier\n",
    "qu’une solution donnée convient.   \n",
    "Pour des valeurs de p plus grandes, la recherche d’une solution x peut\n",
    "être beaucoup trop longue et ne pas aboutir. "
   ]
  },
  {
   "cell_type": "code",
   "execution_count": 3,
   "metadata": {
    "inputHidden": false,
    "outputExpanded": false,
    "outputHidden": false
   },
   "outputs": [
    {
     "data": {
      "text/plain": [
       "'debut_chrono = time()\\nx = racine2(200000000**2,32416187567)\\nprint(\"solution de x^2= \",200000000**2,\" mod \",32416187567, \" est \",x)\\nfin_chrono = time()\\ntotal_chrono = fin_chrono - debut_chrono\\nprint(\"Temps de calcul (en secondes) :\",total_chrono)'"
      ]
     },
     "execution_count": 3,
     "metadata": {},
     "output_type": "execute_result"
    }
   ],
   "source": [
    "# long a executer 100 secondes !\n",
    "\"\"\"debut_chrono = time()\n",
    "x = racine2(200000000**2,32416187567)\n",
    "print(\"solution de x^2= \",200000000**2,\" mod \",32416187567, \" est \",x)\n",
    "fin_chrono = time()\n",
    "total_chrono = fin_chrono - debut_chrono\n",
    "print(\"Temps de calcul (en secondes) :\",total_chrono)\"\"\""
   ]
  },
  {
   "cell_type": "markdown",
   "metadata": {},
   "source": [
    "Nous allons voir comment on peut ajuster la difficulté du\n",
    "problème.   \n",
    "3. Au lieu de chercher une solution exacte à notre problème $x^2$ = y (mod p), qui est équivalent à $x^2$ − y\n",
    "(mod p) = 0.    \n",
    "On cherche une solution approchée, c’est-à-dire qui vérifie :\n",
    "$$x^2 − y (mod p)  \\leqslant m$$   \n",
    "Par exemple si m = 5, alors on peut avoir (modulo p) :$x²$ − y = 0 ,  $ x²$ − y = 1 , $x²$ − y = 2 ,..., $x²$ − y = 5.    \n",
    "Programme une fonction **racine_approchee(y,marge)** qui trouve une solution approchée à notre\n",
    "problème $x^2$ = y (mod p).   \n",
    "Combien de temps faut-il pour trouver un solution au problème approché lorsque p = 15486869,\n",
    "y = 8 371 779 et m = 20 ?    \n",
    "Choisis un nombre premier p assez grand et trouve une marge d’erreur m\n",
    "de sorte que trouver une solution au problème approché nécessite environ entre 30 et 60 secondes\n",
    "de calculs (pour un y quelconque).   \n",
    "Voici des exemples de nombres premiers que tu peux utiliser pour tes essais :\n",
    "101 1097 10651 100109 1300573 15486869 179426321 2276856017 32416187567\n"
   ]
  },
  {
   "cell_type": "code",
   "execution_count": 20,
   "metadata": {
    "inputHidden": false,
    "outputExpanded": false,
    "outputHidden": false
   },
   "outputs": [
    {
     "name": "stdout",
     "output_type": "stream",
     "text": [
      "--- Recherche approchée de x tq x^2 = y modulo p ---\n",
      "x = 413988 erreur = 11\n",
      "Temps de calcul de solution au problème approché lorsque p = 15486869, y = 8 371 779 et m = 20  0.3669586181640625\n"
     ]
    }
   ],
   "source": [
    "def racine_approchee(y,marge):\n",
    "    for x in range(p):\n",
    "        res = (x ** 2 - y) % p\n",
    "        if res <= marge:\n",
    "            return x        \n",
    "    return None\n",
    "\n",
    "\n",
    "print(\"--- Recherche approchée de x tq x^2 = y modulo p ---\")  \n",
    "\n",
    "debut_chrono = time()\n",
    "p = 15486869\n",
    "y = 8371779\n",
    "marge = 20\n",
    "x = racine_approchee(y,marge)\n",
    "print(\"x =\",x, \"erreur =\",(x**2-y) % p)\n",
    "\n",
    "fin_chrono = time()\n",
    "total_chrono = fin_chrono - debut_chrono\n",
    "print(\"Temps de calcul de solution au problème approché lorsque p = 15486869, y = 8 371 779 et m = 20 \",total_chrono)\n",
    "\n"
   ]
  },
  {
   "cell_type": "code",
   "execution_count": 5,
   "metadata": {
    "inputHidden": false,
    "outputExpanded": false,
    "outputHidden": false
   },
   "outputs": [
    {
     "data": {
      "text/plain": [
       "'p=2276856017\\nimport random\\nmarge=100\\ntps=[]\\nfor j in range(100):\\n    y=random.randint(1,p)\\n    tps=tps+[racine_approchee2(y,marge)]'"
      ]
     },
     "execution_count": 5,
     "metadata": {},
     "output_type": "execute_result"
    }
   ],
   "source": [
    "#super long à executer\n",
    "def racine_approchee2(y,marge):\n",
    "    debut_chrono = time()\n",
    "    for x in range(p):\n",
    "        res = (x ** 2 - y) % p\n",
    "        if res <= marge:\n",
    "            total_chrono = time() - debut_chrono\n",
    "            return total_chrono  \n",
    "    total_chrono = time() - debut_chrono\n",
    "    return total_chrono\n",
    "\n",
    "\n",
    "\"\"\"p=2276856017\n",
    "import random\n",
    "marge=100\n",
    "tps=[]\n",
    "for j in range(100):\n",
    "    y=random.randint(1,p)\n",
    "    tps=tps+[racine_approchee2(y,marge)]\"\"\"\n"
   ]
  },
  {
   "cell_type": "markdown",
   "metadata": {},
   "source": [
    "## Cours 1 (Chronomètre).\n",
    "Le module time permet de chronométrer le temps d’exécution mais aussi de savoir la date et l’heure\n",
    "(voir aussi le module timeit expliqué dans la fiche « Arithmétique – Tant que »). Voici un petit script\n",
    "pour mesurer le temps de calcul d’une instruction.   "
   ]
  },
  {
   "cell_type": "code",
   "execution_count": 21,
   "metadata": {},
   "outputs": [
    {
     "name": "stdout",
     "output_type": "stream",
     "text": [
      "Temps d'exécution (en secondes) : 2.0004818439483643\n"
     ]
    }
   ],
   "source": [
    "import time                 #Le module s’appelle time.   \n",
    "\"\"\"La fonction time() renvoie un nombre qui ne nous intéresse pas. Ce qui nous intéresse c’est l’écart\n",
    "entre deux valeurs de cette fonction.\"\"\"\n",
    "debut_chrono = time.time()   #c’est comme lancer un chronomètre.\n",
    "time.sleep(2)               #fait une pause d’une certaine durée de secondes dans le programme.\n",
    "fin_chrono = time.time()     # c’est comme l’arrêter. \n",
    "total_chrono = fin_chrono - debut_chrono # est la durée totale qu’a pris notre script en secondes.     \n",
    "print(\"Temps d'exécution (en secondes) :\", total_chrono) \n"
   ]
  },
  {
   "cell_type": "markdown",
   "metadata": {},
   "source": [
    "## Cours 2 (Bitcoin et blockchain).\n",
    "La monnaie bitcoin est une monnaie dématérialisée. Les transactions sont enregistrées dans un grand\n",
    "livre de compte appelé blockchain. Nous allons construire un modèle (très simplifié) d’un tel livre de\n",
    "compte.   \n",
    "Imaginons un groupe d’amis qui souhaitent partager les dépenses du groupe de façon la plus simple\n",
    "possible. Au départ tout le monde dispose de 1000 bitcoins et on note au fur et à mesure les dépenses et\n",
    "les recettes de chacun.   \n",
    "On note sur le livre de compte la liste des dépenses/recettes, par exemple :   \n",
    "• « Amir a dépensé 100 bitcoins »   \n",
    "• « Barbara a reçu 45 bitcoins »   \n",
    "• etc.   \n",
    "Il suffit de parcourir tout le livre pour savoir combien chacun a reçu ou dépensé depuis le début.\n",
    "Pour éviter que quelqu’un ne vienne truquer le livre de compte, après chaque transaction on ajoute dans\n",
    "le livre une certification construite à partir d’une preuve de travail. Voici ce que l’on écrit dans le livre   \n",
    "1. On commence par une preuve de travail quelconque. Pour nous ce sera [0,0,0,0,0,0].   \n",
    "2. On écrit la première transaction (par exemple \"Amir -100\").   \n",
    "3. On calcule et on écrit dans le livre une preuve de travail, qui va servir de certificat. C’est une liste\n",
    "(par exemple [56,42,10,98,2,34]) obtenue après beaucoup de calculs prenant en compte la\n",
    "transaction précédente et la précédente preuve de travail.  \n",
    "4. À chaque nouvelle transaction (par exemple \"Barbara +45\"), quelqu’un calcule une preuve de\n",
    "travail pour la dernière transaction associée à la précédente preuve. On écrit la transaction, puis la\n",
    "preuve de travail."
   ]
  },
  {
   "cell_type": "code",
   "execution_count": 22,
   "metadata": {},
   "outputs": [
    {
     "data": {
      "image/png": "[encoded data removed]",
      "text/plain": [
       "<IPython.core.display.Image object>"
      ]
     },
     "execution_count": 22,
     "metadata": {},
     "output_type": "execute_result"
    }
   ],
   "source": [
    "from IPython.display import Image\n",
    "Image(filename='fig1.png')\n"
   ]
  },
  {
   "cell_type": "markdown",
   "metadata": {},
   "source": [
    "La preuve de travail que l’on calcule dépend de la transaction précédente mais aussi de la preuve de\n",
    "travail précédente, qui elle même dépend des données antérieures... Ainsi, chaque nouvelle preuve de\n",
    "travail dépend en fait de tout ce qui a été écrit depuis le début (même si le calcul ne porte explicitement\n",
    "que sur les deux dernières entrées).   \n",
    "Quelqu’un qui voudrait truquer une transaction passée devrait recalculer toutes les preuves de travail\n",
    "qui viennent après. Ceci n’est pas possible pour une personne seule : il y a plusieurs preuves de travail à\n",
    "calculer et chaque preuve demande beaucoup de calculs"
   ]
  },
  {
   "cell_type": "markdown",
   "metadata": {},
   "source": [
    "### Activité 2 (Outils pour les listes).\n",
    "Objectifs : construire des fonctions utiles pour manipuler les listes d’entiers dans les activités\n",
    "suivantes.   \n",
    "Nos listes sont des listes d’entiers compris entre 0 et 99.   \n",
    "1.Programme une fonction **addition(liste1,liste2)** qui additionne terme à\n",
    "terme et modulo 100, les éléments de deux listes de même longueur. Par exemple\n",
    "addition([1,2,3,4,5,6],[1,1,1,98,98,98]) renvoie [2,3,4,2,3,4]."
   ]
  },
  {
   "cell_type": "code",
   "execution_count": 23,
   "metadata": {
    "inputHidden": false,
    "outputExpanded": false,
    "outputHidden": false
   },
   "outputs": [
    {
     "name": "stdout",
     "output_type": "stream",
     "text": [
      "--- Test somme liste ---\n",
      "[2, 3, 4, 5, 6, 7]\n"
     ]
    }
   ],
   "source": [
    "N = 6         # Constante globale de longueur des blocs\n",
    "Max = [0,0,25] # Constante pour preuve de travail\n",
    "\n",
    "\n",
    "def addition(liste1,liste2):\n",
    "    liste_somme = []\n",
    "    for i in range(len(liste1)):\n",
    "        liste_somme = liste_somme + [ (liste1[i]+liste2[i]) % 100 ]\n",
    "    return liste_somme\n",
    "    \n",
    "# Test\n",
    "print(\"--- Test somme liste ---\")   \n",
    "print(addition([1,2,3,4,5,6],[1,1,1,1,1,1]))"
   ]
  },
  {
   "cell_type": "markdown",
   "metadata": {},
   "source": [
    "2.On va chercher des listes qui commencent par des zéros (ou bien des zéros puis des nombres assez\n",
    "petits). Une liste liste est plus petite que la liste liste_max si chaque élément de liste est\n",
    "inférieur ou égal à chaque élément de même rang de liste_max.   \n",
    "Par exemple la liste [0,0,1,2,3,4] est plus petite que la liste [0,0,5]. Ce n’est pas le cas de la\n",
    "liste [0,10,0,1,1]. Autre exemple : être plus petit que la liste [0,0,0] cela signifie commencer\n",
    "par trois zéros. Être plus petit que la liste [0,0,1] signifie commencer par [0,0,0] ou [0,0,1].   \n",
    "Programme une fonction **est_plus_petit(liste,liste_max)** qui renvoie « vrai » lorsque liste\n",
    "est plus petite que liste_max."
   ]
  },
  {
   "cell_type": "code",
   "execution_count": 24,
   "metadata": {
    "inputHidden": false,
    "outputExpanded": false,
    "outputHidden": false
   },
   "outputs": [
    {
     "name": "stdout",
     "output_type": "stream",
     "text": [
      "--- Test plus petit liste ---\n",
      "True\n"
     ]
    }
   ],
   "source": [
    "def est_plus_petit(liste,liste_max):\n",
    "    i = 0\n",
    "    n = len(liste_max)\n",
    "    while (i < n) and (liste[i] <= liste_max[i]):\n",
    "        i = i + 1\n",
    "    if i == n:\n",
    "        return True\n",
    "    else:\n",
    "        return False\n",
    "    \n",
    "# Test\n",
    "print(\"--- Test plus petit liste ---\")   \n",
    "print(est_plus_petit([0,0,24,4,5,6],[0,0,50]))\n"
   ]
  },
  {
   "cell_type": "markdown",
   "metadata": {},
   "source": [
    "3.On aura besoin de transformer une phrase en une liste de nombres. De plus, on va découper nos\n",
    "listes en blocs de taille N (avec N = 6), on rajoute donc des zéros en début de liste afin qu’elle soit\n",
    "de longueur un multiple de N.   \n",
    "Écris une fonction **phrase_vers_liste(phrase)** qui convertit une chaîne de caractères en liste\n",
    "d’entiers entre 0 et 99 et si besoin rajoute des zéros devant afin que la liste ait la bonne taille.   \n",
    "La formule à utiliser pour convertir un caractère en un entier strictement inférieur à 100 est :\n",
    "ord(c) % 100   \n",
    "Par exemple : si phrase = \"Vive moi !\" alors la fonction renvoie :\n",
    "[0, 0, 86, 5, 18, 1, 32, 9, 11, 5, 32, 33]   \n",
    "Le caractère \"i\" à pour code ASCII/unicode 105 donc, modulo 100, le nombre est 5. Note que la\n",
    "fonction ajoute deux 0 en début de liste afin d’avoir une longueur qui est un multiple de N = 6."
   ]
  },
  {
   "cell_type": "code",
   "execution_count": 25,
   "metadata": {
    "inputHidden": false,
    "outputExpanded": false,
    "outputHidden": false
   },
   "outputs": [
    {
     "name": "stdout",
     "output_type": "stream",
     "text": [
      "--- Phrase vers liste ---\n",
      "Vive moi !\n",
      "[0, 0, 86, 5, 18, 1, 32, 9, 11, 5, 32, 33]\n"
     ]
    }
   ],
   "source": [
    "def phrase_vers_liste(phrase):\n",
    "    # Transforme lettres en nombre modulo 100\n",
    "    liste = [ord(c) % 100 for c in phrase]\n",
    "\n",
    "    # Rajoute des 0 devant si besoin\n",
    "    while len(liste) % N > 0:\n",
    "        liste = [0] + liste\n",
    "\n",
    "    return liste\n",
    "\n",
    "# Test\n",
    "print(\"--- Phrase vers liste ---\")\n",
    "phrase = \"Vive moi !\" \n",
    "print(phrase)\n",
    "print(phrase_vers_liste(phrase))  \n"
   ]
  },
  {
   "cell_type": "markdown",
   "metadata": {},
   "source": [
    "### Activité 3 (Fonction de hachage).\n",
    "Objectifs : créer une fonction de hachage. À partir d’un long message nous calculons une courte\n",
    "empreinte. Il est difficile de trouver deux messages différents ayant la même empreinte.\n",
    "\n",
    "Dans cette activité, notre message est une liste d’entiers (entre 0 et 99) de longueur un multiple quelconque\n",
    "de N = 6, nous le transformons en une liste de longueur N = 6 : son empreinte (ou hash). Voici des\n",
    "exemples de ce que va faire notre fonction de hachage :   \n",
    "• la liste [1, 2, 3, 4, 5, 6, 1, 2, 3, 4, 5, 6] a pour empreinte :\n",
    "[10, 0, 58, 28, 0, 90]   \n",
    "• la liste [1, 1, 3, 4, 5, 6, 1, 2, 3, 4, 5, 6] a pour empreinte :\n",
    "[25, 14, 29, 1, 19, 6]   \n",
    "L’idée est de mélanger les nombres par bloc de N = 6 entiers, puis de combiner ce bloc au suivant et de\n",
    "recommencer, jusqu’à obtenir un seul bloc.  \n",
    "#### 1. Un tour.\n",
    "Pour un bloc $[b_0, b_1, b_2, b_3, b_4, b_5]$ de taille N = 6, faire un tour consiste à faire les opérations\n",
    "suivantes :   \n",
    "(a) On additionne certains entiers :   \n",
    "$$[b_0', b_1', b_2', b_3', b_4', b_5'] =[b_0, b_1+b_0, b_2, b_3+b_2, b_4, b_5+b_4]$$   \n",
    "(b) On multiplie ces entiers par des nombres premiers (dans l’ordre 7, 11, 13, 17, 19, 23) et on rajoute1 :    \n",
    "$[b_0'', b_1'', b_2'', b_3'', b_4'', b_5'']$ =$ [7b_0'+1 , 11×b_1'+1 , 13×b_2'+1 , 17× b_3'+1 , 19× b_4'+1 , 23×b_5'+1]$   \n",
    "(c) On effectue une permutation circulaire (le dernier passe devant) :   \n",
    "$$[b_0''', b_1''', b_2''', b_3''', b_4''', b_5'''] = [ b_5''',b_0''', b_1''', b_2''', b_3''', b_4''']$$\n",
    "(d) On réduit chaque entier modulo 100 afin d’obtenir des entiers entre 0 et 99\n"
   ]
  },
  {
   "cell_type": "code",
   "execution_count": 26,
   "metadata": {
    "inputHidden": false,
    "outputExpanded": false,
    "outputHidden": false
   },
   "outputs": [
    {
     "data": {
      "image/png": "[encoded data removed]",
      "text/plain": [
       "<IPython.core.display.Image object>"
      ]
     },
     "execution_count": 26,
     "metadata": {},
     "output_type": "execute_result"
    }
   ],
   "source": [
    "Image(filename='fig2.png')\n"
   ]
  },
  {
   "cell_type": "markdown",
   "metadata": {},
   "source": [
    "Partant du bloc [0,1, 2,3, 4,5], on a donc successivement :   \n",
    "(a) additions : [0, 1,2, 5,4, 9]   \n",
    "(b) multiplications :    \n",
    "[7 × 0 + 1,11 × 1 + 1,13 × 2 + 1,17 × 5 + 1,19 × 4 + 1,23 × 9 + 1] =\n",
    "[1,12, 27,86, 77,208]   \n",
    "(c) permutation : [208,1, 12,27, 86,77]   \n",
    "(d) réduction modulo 100 : [8,1, 12,27, 86,77]   \n",
    "Programme un telle fonction un_tour(bloc) qui renvoie la transformation du bloc après ces\n",
    "opérations. Vérifie que le bloc [1, 1,2, 3,4,5] est transformé en [8, 8,23,27, 86,77].   "
   ]
  },
  {
   "cell_type": "code",
   "execution_count": 27,
   "metadata": {
    "inputHidden": false,
    "outputExpanded": false,
    "outputHidden": false
   },
   "outputs": [
    {
     "name": "stdout",
     "output_type": "stream",
     "text": [
      "--- Test un tour ---\n",
      "[0, 1, 2, 3, 4, 5]  est transformé en un tour en  [8, 1, 12, 27, 86, 77]\n",
      "[1, 1, 2, 3, 4, 5]  est transformé en un tour en  [8, 8, 23, 27, 86, 77]\n"
     ]
    }
   ],
   "source": [
    "p = [7,11,13,17,19,23] # nb premiers\n",
    "N=6\n",
    "def un_tour(bloc):\n",
    "    # Addition\n",
    "    bloc[1] = (bloc[1]+bloc[0]) % 100\n",
    "    bloc[3] = (bloc[3]+bloc[2]) % 100\n",
    "    bloc[5] = (bloc[5]+bloc[4]) % 100\n",
    "\n",
    "    # m = p*m + 1 (modulo 100)\n",
    "    for i in range(N):\n",
    "        bloc[i] = (p[i]*bloc[i]+1) %  100\n",
    "    # permutation\n",
    "    bloc = [bloc[N-1]] + bloc[:N-1]\n",
    "    return bloc\n",
    "\n",
    "# Test\n",
    "print(\"--- Test un tour ---\")\n",
    "\n",
    "print([0,1,2,3,4,5],\" est transformé en un tour en \",un_tour([0,1,2,3,4,5]))\n",
    "\n",
    "print([1,1,2,3,4,5],\" est transformé en un tour en \",un_tour([1,1,2,3,4,5]))\n"
   ]
  },
  {
   "cell_type": "markdown",
   "metadata": {},
   "source": [
    "### 2. Dix tours.\n",
    "Pour bien mélanger chaque bloc, programme une fonction dix_tours(bloc) qui itère dix fois les\n",
    "opérations précédentes. Après 10 tours :   \n",
    "• le bloc [0,1, 2,3, 4,5] devient [98, 95,86, 55,66, 75],    \n",
    "• le bloc [1,1, 2,3, 4,5] devient [18, 74,4, 42,77, 42].    \n",
    "Deux blocs proches sont transformés en deux blocs très différents ! "
   ]
  },
  {
   "cell_type": "code",
   "execution_count": 28,
   "metadata": {
    "inputHidden": false,
    "outputExpanded": false,
    "outputHidden": false
   },
   "outputs": [
    {
     "name": "stdout",
     "output_type": "stream",
     "text": [
      "--- Test dix tours ---\n",
      "[0, 1, 2, 3, 4, 5]\n",
      " est transformé en dix tours en  [98, 95, 86, 55, 66, 75] \n",
      "\n",
      "[1, 1, 2, 3, 4, 5]\n",
      " est transformé en dix tours en  [18, 74, 4, 42, 77, 42] \n",
      "\n",
      "[99, 96, 87, 56, 67, 76]\n",
      " est transformé en dix tours en  [60, 82, 12, 94, 6, 80] \n",
      "\n",
      "[70, 92, 22, 4, 16, 90]\n",
      " est transformé en dix tours en  [77, 91, 5, 91, 89, 99]\n"
     ]
    }
   ],
   "source": [
    "def dix_tours(bloc):\n",
    "    for i in range(10):\n",
    "        bloc = un_tour(bloc)\n",
    "    return bloc\n",
    "\n",
    "# Test\n",
    "print(\"--- Test dix tours ---\")\n",
    "bloc = [0,1,2,3,4,5]\n",
    "print(bloc)\n",
    "print(\" est transformé en dix tours en \",dix_tours(bloc),\"\\n\")\n",
    "\n",
    "bloc = [1,1,2,3,4,5]\n",
    "print(bloc)\n",
    "print(\" est transformé en dix tours en \",dix_tours(bloc),\"\\n\")\n",
    "\n",
    "bloc = [99,96,87,56,67,76]\n",
    "print(bloc)\n",
    "print(\" est transformé en dix tours en \",dix_tours(bloc),\"\\n\")\n",
    "\n",
    "bloc = [70,92,22,4,16,90]\n",
    "print(bloc)\n",
    "print(\" est transformé en dix tours en \",dix_tours(bloc))\n"
   ]
  },
  {
   "cell_type": "markdown",
   "metadata": {},
   "source": [
    "\n",
    "   \n",
    "### 3. Hachage d’une liste.\n",
    "Partant d’une liste de longueur un multiple de N = 6, on la découpe en blocs de longueur 6 et on\n",
    "calcule l’empreinte de cette liste selon l’algorithme suivant :   \n",
    "•On extrait le premier bloc de la liste, on effectue 10 tours de mélange.\n",
    "• On ajoute terme à terme (et modulo 100), le résultat de ce mélange au second bloc.   \n",
    "• On recommence en partant du nouveau second bloc.   \n",
    "• Lorsqu’il ne reste plus qu’un bloc, on effectue 10 tours de mélange, le résultat est l’empreinte de\n",
    "la liste.   \n",
    "Voici le schéma d’une situation avec trois blocs : dans un premier temps il y a trois blocs (A,B,C) ;    \n",
    "dans un second temps il ne reste plus que deux bloc (B’ et C) ; à la fin il ne reste qu’un bloc (C”) :    \n",
    "c’est l’empreinte !"
   ]
  },
  {
   "cell_type": "code",
   "execution_count": 29,
   "metadata": {
    "inputHidden": false,
    "outputExpanded": false,
    "outputHidden": false
   },
   "outputs": [
    {
     "data": {
      "image/png": "[encoded data removed]",
      "text/plain": [
       "<IPython.core.display.Image object>"
      ]
     },
     "execution_count": 29,
     "metadata": {},
     "output_type": "execute_result"
    }
   ],
   "source": [
    "Image(filename='fig3.png')\n"
   ]
  },
  {
   "cell_type": "markdown",
   "metadata": {},
   "source": [
    "Exemple avec la liste [0,1, 2,3, 4,5, 1,1, 1,1, 1,1, 1,10, 10,10, 10,10, 10].   \n",
    "• Le premier bloc est [0, 1,2, 3,4, 5], son mélange à 10 tours est [98,95, 86,55, 66,75].    \n",
    "• On ajoute ce mélange au second bloc [1,1,1,1,1,1] (voir la fonction addition() de l’activité\n",
    "2).    \n",
    "• La liste restante est maintenant [99,96, 87,56, 67,76, 10,10, 10,10, 10,10].   \n",
    "• On recommence. Le nouveau premier bloc est [99, 96, 87, 56, 67, 76], son mélange à 10 tours vaut\n",
    "[60,82,12,94,6,80], on l’ajoute au dernier bloc [10,10,10,10,10,10] pour obtenir (modulo\n",
    "100) [70, 92,22, 4,16, 90].   \n",
    "• On effectue un dernier mélange à 10 tours pour obtenir l’empreinte : [77, 91,5, 91,89, 99].   \n",
    "Programme une fonction **hachage(liste)** qui renvoie l’empreinte d’une liste. Teste-la sur les\n",
    "exemples donnés au début de l’activité."
   ]
  },
  {
   "cell_type": "code",
   "execution_count": 30,
   "metadata": {
    "inputHidden": false,
    "outputExpanded": false,
    "outputHidden": false
   },
   "outputs": [
    {
     "name": "stdout",
     "output_type": "stream",
     "text": [
      "--- Hachage d'une liste ---\n",
      "liste:  [0, 1, 2, 3, 4, 5, 1, 1, 1, 1, 1, 1, 10, 10, 10, 10, 10, 10]\n",
      "hach:  [77, 91, 5, 91, 89, 99] \n",
      "\n",
      "liste:  [1, 2, 3, 4, 5, 6, 1, 2, 3, 4, 5, 6]\n",
      "hach:  [10, 0, 58, 28, 0, 90] \n",
      "\n",
      "liste un poil differente:  [1, 1, 3, 4, 5, 6, 1, 2, 3, 4, 5, 6]\n",
      "hach completement different:  [25, 14, 29, 1, 19, 6]\n"
     ]
    }
   ],
   "source": [
    "def hachage(liste):\n",
    "\n",
    "    while len(liste)>N:\n",
    "        bloc1 = liste[0:N]  # Premier bloc\n",
    "        bloc2 = liste[N:2*N] # Second bloc\n",
    "        fin_liste = liste[2*N:] # Le reste\n",
    "        # print(bloc1)\n",
    "        # print(bloc2)\n",
    "        # print(fin_liste)\n",
    "\n",
    "        #bloc1 = un_tour(bloc1)   # Un tour\n",
    "        bloc1 = dix_tours(bloc1) # Dix tours\n",
    "\n",
    "        #print(bloc1)\n",
    "\n",
    "        nouv_bloc_deb = addition(bloc1,bloc2)\n",
    "        liste = nouv_bloc_deb + fin_liste\n",
    "\n",
    "    # Tours de fin pour la liste (qui ne contient plus que N nb)\n",
    "    # liste = un_tour(liste) # Un tour\n",
    "    liste = dix_tours(liste) # Un tour\n",
    "\n",
    "    return liste\n",
    "\n",
    "# Test\n",
    "print(\"--- Hachage d'une liste ---\")\n",
    "\n",
    "liste= [0,1, 2,3, 4,5, 1,1, 1,1, 1,1,10, 10,10, 10,10, 10]\n",
    "hach = hachage(liste)\n",
    "print(\"liste: \",liste)\n",
    "print(\"hach: \",hach,\"\\n\")\n",
    "\n",
    "liste = [1,2,3,4,5,6,1,2,3,4,5,6]\n",
    "hach = hachage(liste)\n",
    "print(\"liste: \",liste)\n",
    "print(\"hach: \",hach,\"\\n\")\n",
    "\n",
    "liste = [1,1,3,4,5,6,1,2,3,4,5,6]\n",
    "hach = hachage(liste)\n",
    "print(\"liste un poil differente: \",liste)\n",
    "print(\"hach completement different: \",hach)\n"
   ]
  },
  {
   "cell_type": "markdown",
   "metadata": {},
   "source": [
    "## Activité 4 (Preuve de travail - Minage).\n",
    "*Objectifs : construire un mécanisme de preuve de travail à l’aide de notre fonction de hachage.*   \n",
    "On va construire un problème compliqué à résoudre, pour lequel, si quelqu’un nous donne la solution,\n",
    "alors il est facile de vérifier qu’elle convient.   \n",
    "**Problème à résoudre.**    \n",
    "On nous donne une liste, il s’agit de trouver un bloc tel que, lorsque qu’on le\n",
    "rajoute à la liste, cela produit un hachage commençant par des zéros.    \n",
    "Plus précisément étant donné une\n",
    "liste liste et un objectif maximal Max, il s’agit de trouver un bloc preuve qui, concaténé à la liste puis\n",
    "haché, est plus petit que la liste Max, c’est-à-dire :   \n",
    "<p align=\"center\"><b>hachage(liste + preuve) plus petit que Max</b></p>\n",
    "La liste est de longueur quelconque (un multiple de N = 6), la preuve est un bloc de longueur N, l’objectif\n",
    "est de trouver une liste commençant par des 0 (voir l’activité 2).    \n",
    "\n",
    "Par exemple : soit la liste = [0,1,2,3,4,5] et Max = [0,0,7]. Quel bloc preuve puis-je concaténer à liste pour résoudre mon problème ?   \n",
    "+ preuve = [12, 3, 24, 72, 47, 77] convient car concaténé à notre liste cela donne\n",
    "[0,1,2,3,4,5,12, 3, 24, 72, 47, 77] et le hachage de toute cette liste vaut\n",
    "[0, 0, 5, 47, 44, 71] qui commence par [0,0,5] plus petit que l’objectif.   \n",
    "+  preuve = [0, 0, 2, 0, 61, 2] convient aussi car après concaténation on a\n",
    "[0,1,2,3,4,5,0, 0, 2, 0, 61, 2] dont le hachage donne [0, 0, 3, 12, 58, 92].   \n",
    "+  [97, 49, 93, 87, 89, 47] ne convient pas, car après concaténation puis hachage on obtient\n",
    "[0, 0, 8, 28, 6, 60] qui est plus grand que l’objectif voulu.   \n",
    "#### 1. Vérification (facile).\n",
    "Programme une fonction **verification_preuve_de_travail(liste,preuve)** qui renvoie vrai\n",
    "si la solution preuve proposée convient pour liste. Utilise la fonction **est_plus_petit()** de l’activité 2."
   ]
  },
  {
   "cell_type": "code",
   "execution_count": 35,
   "metadata": {
    "inputHidden": false,
    "outputExpanded": false,
    "outputHidden": false
   },
   "outputs": [
    {
     "name": "stdout",
     "output_type": "stream",
     "text": [
      "--- Verif Preuve de travail ---\n",
      "True\n",
      "Temps de calcul : 0.0\n"
     ]
    }
   ],
   "source": [
    "from time import time\n",
    "def verification_preuve_de_travail(liste,preuve):\n",
    "\n",
    "    liste_test = liste + preuve\n",
    "    hach = hachage(liste_test)\n",
    "    # print(preuve,hach)\n",
    "    if est_plus_petit(hach,Max):\n",
    "        return True\n",
    "    else:\n",
    "        return False\n",
    "\n",
    "# Test\n",
    "print(\"--- Verif Preuve de travail ---\")    \n",
    "\n",
    "liste = [0,1,2,3,4,5]\n",
    "preuve = [12, 3, 24, 72, 47, 77]\n",
    "Max = [0,0,7]\n",
    "\n",
    "start_time = time()\n",
    "print(verification_preuve_de_travail(liste,preuve))\n",
    "end_time = time()\n",
    "duree = end_time-start_time\n",
    "\n",
    "print(\"Temps de calcul :\",duree)\n"
   ]
  },
  {
   "cell_type": "markdown",
   "metadata": {},
   "source": [
    "#### 2. Recherche de solution (difficile).\n",
    "Programme une fonction **preuve_de_travail(liste)** qui cherche un bloc preuve solution à\n",
    "notre problème pour la liste donnée.   \n",
    "*Indications.*   \n",
    "• La méthode la plus simple est de prendre un bloc preuve de nombres au hasard et de recommencer\n",
    "jusqu’à trouver une solution.   \n",
    "• Tu peux aussi tester systématiquement tous les blocs en commençant avec [0,0,0,0,0,0], puis\n",
    "[0,0,0,0,0,1]. . . et t’arrêter au premier qui convient.   \n",
    "• Tu ajustes la difficulté du problème en changeant l’objectif : facile avec Max = [0,0,50], moyen\n",
    "avec Max = [0,0,5], difficile avec Max = [0,0,0], trop difficile avec Max = [0,0,0,0].    \n",
    "• Comme il existe plusieurs solutions, tu n’obtiens pas nécessairement la même solution à chaque•\n",
    "recherche.   \n"
   ]
  },
  {
   "cell_type": "code",
   "execution_count": 46,
   "metadata": {
    "inputHidden": false,
    "outputExpanded": false,
    "outputHidden": false
   },
   "outputs": [
    {
     "name": "stdout",
     "output_type": "stream",
     "text": [
      "pour  [0, 1, 2, 3, 4, 5]  une preuve de travail est  [40, 32, 43, 56, 5, 25]\n",
      "la verif est  True\n"
     ]
    }
   ],
   "source": [
    "from random import randint\n",
    "def preuve_de_travail(liste):\n",
    "    hach = [1,1,1,1,1,1]\n",
    "    while not(est_plus_petit(hach,Max)): \n",
    "        preuve = [randint(0,99) for i in range(N)]\n",
    "        liste_test = liste + preuve\n",
    "        hach = hachage(liste_test)\n",
    "    #print(preuve,hach)\n",
    "    return preuve\n",
    "\n",
    "liste=[0,1,2,3,4,5]\n",
    "Max = [0,0,7]\n",
    "preuve=preuve_de_travail(liste)\n",
    "print (\"pour \",liste,\" une preuve de travail est \",preuve)\n",
    "\n",
    "print(\"la verif est \",verification_preuve_de_travail(liste,preuve))\n",
    "\n",
    "from itertools import product\n",
    "\n",
    "def preuve_de_travail_bis(liste):\n",
    "    for preuve in product(range(100),range(100),range(100),range(100),range(100),range(100)):\n",
    "        preuve = list(preuve)\n",
    "        liste_test = liste + preuve\n",
    "        hach = hachage(liste_test)\n",
    "        if est_plus_petit(hach,Max):\n",
    "            break\n",
    "    print(preuve,hach)\n",
    "    return preuve\n"
   ]
  },
  {
   "cell_type": "markdown",
   "metadata": {},
   "source": [
    "#### 3. Temps de calcul.\n",
    "•Compare le temps de calcul d’une simple vérification par rapport au temps de recherche d’une solution.   \n",
    "•Choisis l’objectif Max de sorte que la recherche d’une preuve de travail nécessite environ entre 30 et\n",
    "60 secondes de calculs.   \n",
    "Pour le bitcoin, ceux qui calculent des preuves de travail sont appelés les mineurs. Le premier qui trouve\n",
    "une preuve gagne une récompense. La difficulté du problème est ajustée de sorte que le temps de calcul\n",
    "mis par le gagnant (parmi l’ensemble de tous les mineurs) pour trouver une solution, soit d’environ 10\n",
    "minutes."
   ]
  },
  {
   "cell_type": "code",
   "execution_count": 47,
   "metadata": {
    "inputHidden": false,
    "outputExpanded": false,
    "outputHidden": false
   },
   "outputs": [
    {
     "name": "stdout",
     "output_type": "stream",
     "text": [
      "--- Preuve de travail ---\n",
      "Temps de calcul : 13.862920999526978\n"
     ]
    }
   ],
   "source": [
    "# Test\n",
    "print(\"--- Preuve de travail ---\")    \n",
    "\n",
    "start_time = time()\n",
    "liste = [0,1,2,3,4,5]\n",
    "preuve = preuve_de_travail(liste)\n",
    "# preuve = preuve_de_travail_bis(liste)\n",
    "end_time = time()\n",
    "duree = end_time-start_time\n",
    "\n",
    "print(\"Temps de calcul :\",duree)\n",
    "\n"
   ]
  },
  {
   "cell_type": "markdown",
   "metadata": {},
   "source": [
    "## Activité 5 (Tes bitcoins).\n",
    "Objectifs : créer un livre de compte (appelé blockchain pour le bitcoin) qui enregistre toutes\n",
    "les transactions, ce registre est public et certifié. Il est pratiquement impossible d’y falsifier une\n",
    "transaction déjà inscrite."
   ]
  },
  {
   "cell_type": "code",
   "execution_count": 42,
   "metadata": {
    "inputHidden": false,
    "outputExpanded": false,
    "outputHidden": false
   },
   "outputs": [
    {
     "data": {
      "image/png": "[encoded data removed]",
      "text/plain": [
       "<IPython.core.display.Image object>"
      ]
     },
     "execution_count": 42,
     "metadata": {},
     "output_type": "execute_result"
    }
   ],
   "source": [
    "Image(filename='fig4.png')\n"
   ]
  },
  {
   "cell_type": "markdown",
   "metadata": {},
   "source": [
    "#### 1. Initialisation et ajout d’une transaction.\n",
    "\n",
    "(a) Initialise une variable globale Livre qui est une liste et contient au départ une preuve nulle :   \n",
    "Livre = [ [0,0,0,0,0,0] ] .   \n",
    "(b) Une transaction est une chaîne de caractères comprenant un nom et la somme à ajouter (ou à\n",
    "retrancher) à son compte. Par exemple \"Abel +25\" ou \"Barbara -45\".   \n",
    "Programme une fonction **ajout_transaction(transaction)** qui ajoute\n",
    "la chaine de caractère transaction à la liste Livre. Par exemple\n",
    "après l’initialisation ajout_transaction(\"Camille +100\"), Livre vaut\n",
    "[ [0, 0, 0, 0, 0, 0], \"Camille +100\" ]. Attention, pour pouvoir modifier Livre il\n",
    "faut commencer la fonction par : global Livre.   "
   ]
  },
  {
   "cell_type": "code",
   "execution_count": 48,
   "metadata": {
    "inputHidden": false,
    "outputExpanded": false,
    "outputHidden": false
   },
   "outputs": [
    {
     "name": "stdout",
     "output_type": "stream",
     "text": [
      "--- CrÃ©ation du livre et ajout d'une transaction ---\n",
      "[[0, 0, 0, 0, 0, 0]]\n",
      "[[0, 0, 0, 0, 0, 0], 'Bob +135']\n"
     ]
    }
   ],
   "source": [
    "preuve_init = [0,0,0,0,0,0]   # valeur au pif\n",
    "Livre = [preuve_init]\n",
    "\n",
    "def ajout_transaction(transaction):\n",
    "    global Livre\n",
    "    Livre = Livre + [transaction]\n",
    "    return Livre\n",
    "\n",
    "# Test\n",
    "print(\"--- CrÃ©ation du livre et ajout d'une transaction ---\")\n",
    "print(Livre)\n",
    "ajout_transaction(\"Bob +135\")\n",
    "print(Livre)\n"
   ]
  },
  {
   "cell_type": "markdown",
   "metadata": {},
   "source": [
    "2.Dès qu’une transaction est ajoutée, il faut calculer et ajouter au livre de comptes une preuve de travail.\n",
    "Programme une fonction **minage()**, sans paramètre, qui ajoute une preuve de travail au livre.   \n",
    "Voici comment faire :   \n",
    "• On prend la dernière transaction transaction, on la transforme en une liste d’entiers par la\n",
    "fonction phrase_vers_liste() de l’activité 2.   \n",
    "• On prend la preuve de travail prec_preuve située juste avant cette transaction.   \n",
    "• On forme la liste liste composée d’abord des éléments de prec_preuve, puis des éléments de\n",
    "la liste d’entiers obtenue en convertissant la chaîne transaction.  \n",
    "• On calcule une preuve de travail de cette liste.   \n",
    "• On ajoute cette preuve au livre de compte.   \n",
    "Par exemple si le livre se termine par :   \n",
    "$$[3, 1, 4, 1, 5, 9], \"Abel +35\"$$   \n",
    "alors après calcul de la preuve de travail le livre se termine par exemple par :   \n",
    "$$[3, 1, 4, 1, 5, 9], \"Abel +35\", [32, 17, 37, 73, 52, 90]   $$\n",
    "On rappelle que la preuve de travail n’est pas unique et qu’en plus elle dépend de l’objectif Max.   "
   ]
  },
  {
   "cell_type": "code",
   "execution_count": 49,
   "metadata": {
    "inputHidden": false,
    "outputExpanded": false,
    "outputHidden": false
   },
   "outputs": [
    {
     "name": "stdout",
     "output_type": "stream",
     "text": [
      "--- Minage  ---\n",
      "[[0, 0, 0, 0, 0, 0], 'Bob +135']\n",
      "[[0, 0, 0, 0, 0, 0], 'Bob +135', [55, 83, 77, 71, 52, 7]]\n",
      "--- Exemple pour fiche  ---\n",
      "[[3, 1, 4, 1, 5, 9], 'Abel +35']\n",
      "[[3, 1, 4, 1, 5, 9], 'Abel +35', [19, 7, 99, 63, 91, 14]]\n"
     ]
    }
   ],
   "source": [
    "def minage():\n",
    "    global Livre\n",
    "    transaction = Livre[-1]\n",
    "    prec_preuve = Livre[-2]\n",
    "    # print(transaction)\n",
    "    # print(prec_hach)\n",
    "    # print(phrase_vers_liste(transaction))\n",
    "    liste = prec_preuve + phrase_vers_liste(transaction)\n",
    "\n",
    "    preuve = preuve_de_travail(liste)\n",
    "\n",
    "    Livre = Livre + [preuve]\n",
    "\n",
    "    return Livre\n",
    "\n",
    "# Test\n",
    "print(\"--- Minage  ---\")\n",
    "print(Livre)\n",
    "minage()\n",
    "print(Livre)\n",
    "\n",
    "# Exemple pour fiche\n",
    "print(\"--- Exemple pour fiche  ---\")\n",
    "Max = [0,0,7]\n",
    "hach_init = [3,1,4,1,5,9]   # valeur au pif\n",
    "Livre = [hach_init]\n",
    "ajout_transaction(\"Abel +35\")\n",
    "print(Livre)\n",
    "minage()\n",
    "print(Livre)\n"
   ]
  },
  {
   "cell_type": "markdown",
   "metadata": {},
   "source": [
    "3.Une seule personne à la fois ajoute une preuve de travail. Par contre tout le monde a la possibilité de vérifier que la preuve proposée est correcte (et devrait le faire).  \n",
    "Écris une fonction\n",
    "**verification_livre()**, sans paramètre, qui vérifie que la dernière preuve ajoutée au Livre\n",
    "est valide."
   ]
  },
  {
   "cell_type": "code",
   "execution_count": 50,
   "metadata": {
    "inputHidden": false,
    "outputExpanded": false,
    "outputHidden": false
   },
   "outputs": [
    {
     "name": "stdout",
     "output_type": "stream",
     "text": [
      "--- VÃ©rification du livre  ---\n",
      "[[3, 1, 4, 1, 5, 9], 'Abel +35', [19, 7, 99, 63, 91, 14]]\n",
      "True\n"
     ]
    }
   ],
   "source": [
    "def verification_livre():\n",
    "    prec_preuve = Livre[-3]        \n",
    "    transaction = Livre[-2]\n",
    "    preuve = Livre[-1]\n",
    "    hach = hachage(prec_preuve+phrase_vers_liste(transaction)+preuve)\n",
    "    if est_plus_petit(hach,Max):\n",
    "        return True\n",
    "    else:\n",
    "        return False\n",
    "\n",
    "\n",
    "# Test\n",
    "print(\"--- VÃ©rification du livre  ---\")\n",
    "print(Livre)\n",
    "print(verification_livre())\n"
   ]
  },
  {
   "cell_type": "markdown",
   "metadata": {},
   "source": [
    "4.Écris un livre de compte qui correspond aux données suivantes :   \n",
    "• On prend Max = [0,0,5] et au départ Livre = [ [0,0,0,0,0,0] ].   \n",
    "• \"Alfred -100\" (Alfred doit 100 bitcoins).   \n",
    "• Barnabé en reçoit 150.   \n",
    "• Chloé gagne 35 bitcoins.   \n",
    "\n",
    "Conclusion : imaginons que Alfred veuille tricher, il veut changer le livre de compte afin de recevoir 100\n",
    "bitcoins au lieu d’en devoir 100.   \n",
    "Il doit donc changer la transaction le concernant en \"Alfred +100\"\n",
    "mais il doit alors recalculer une nouvelle preuve de travail ce qui est compliqué, surtout il doit aussi recalculer la preuve de la transaction de Barnabé et aussi celle de la transaction de Chloé !   \n",
    "Quelqu’un qui veut modifier une transaction doit modifier toutes les preuves de travail suivantes.   \n",
    "Si chaque preuve demande suffisamment de temps de calcul ceci est impossible.    Pour le bitcoin, chaque preuve demande énormément de calculs (trop pour une personne seule) et une nouvelle preuve est à calculer toutes les 10 minutes. Il est donc impossible pour une personne de modifier une transaction passée.   \n",
    "\n",
    "L’autre aspect du bitcoin que nous n’avons pas abordé, c’est de s’assurer de l’identité de chaque personne\n",
    "impliquée, afin que personne ne puisse récupérer l’argent d’un autre.    \n",
    "Ceci est rendu possible grâce à la\n",
    "cryptographie à clé privée/clé publique (système RSA). Chaque compte est identifié par une clé publique\n",
    "(deux très grands entiers), ce qui garantit l’anonymat. Mais surtout, seul celui qui possède la clé privée du\n",
    "compte (un grand entier) peut accéder à ses bitcoins."
   ]
  },
  {
   "cell_type": "code",
   "execution_count": 51,
   "metadata": {
    "inputHidden": false,
    "outputExpanded": false,
    "outputHidden": false
   },
   "outputs": [
    {
     "name": "stdout",
     "output_type": "stream",
     "text": [
      "[[0, 0, 0, 0, 0, 0]]\n",
      "[[0, 0, 0, 0, 0, 0], 'Abel +135']\n",
      "[[0, 0, 0, 0, 0, 0], 'Abel +135', [82, 17, 93, 72, 86, 66]]\n",
      "True\n",
      "[[0, 0, 0, 0, 0, 0], 'Abel +135', [82, 17, 93, 72, 86, 66], 'Bob -77']\n",
      "[[0, 0, 0, 0, 0, 0], 'Abel +135', [82, 17, 93, 72, 86, 66], 'Bob -77', [58, 73, 93, 96, 56, 40]]\n",
      "True\n",
      "[[0, 0, 0, 0, 0, 0], 'Abel +135', [82, 17, 93, 72, 86, 66], 'Bob -77', [58, 73, 93, 96, 56, 40], 'Camille -25']\n",
      "[[0, 0, 0, 0, 0, 0], 'Abel +135', [82, 17, 93, 72, 86, 66], 'Bob -77', [58, 73, 93, 96, 56, 40], 'Camille -25', [33, 26, 1, 21, 29, 96]]\n",
      "True\n",
      "Temps de calcul : 63.2105929851532\n"
     ]
    }
   ],
   "source": [
    "# Exemple complet\n",
    "\n",
    "# Constante pour preuve de travail\n",
    "Max = [0,0,7]\n",
    "\n",
    "\n",
    "start_time = time()  # dÃ©but chrono\n",
    "\n",
    "hach_init = [0,0,0,0,0,0]   # valeur au pif\n",
    "Livre = [hach_init]\n",
    "\n",
    "print(Livre)\n",
    "ajout_transaction(\"Abel +135\")\n",
    "print(Livre)\n",
    "minage()\n",
    "print(Livre)\n",
    "print(verification_livre())\n",
    "\n",
    "ajout_transaction(\"Bob -77\")\n",
    "print(Livre)\n",
    "minage()\n",
    "print(Livre)\n",
    "print(verification_livre())\n",
    "\n",
    "ajout_transaction(\"Camille -25\")\n",
    "print(Livre)\n",
    "minage()\n",
    "print(Livre)\n",
    "print(verification_livre())\n",
    "\n",
    "end_time = time()\n",
    "duree = end_time-start_time\n",
    "print(\"Temps de calcul :\",duree)"
   ]
  }
 ],
 "metadata": {
  "kernel_info": {
   "name": "python3"
  },
  "kernelspec": {
   "display_name": "Python 3",
   "language": "python",
   "name": "python3"
  },
  "language_info": {
   "codemirror_mode": {
    "name": "ipython",
    "version": 3
   },
   "file_extension": ".py",
   "mimetype": "text/x-python",
   "name": "python",
   "nbconvert_exporter": "python",
   "pygments_lexer": "ipython3",
   "version": "3.4.5"
  },
  "nteract": {
   "version": "0.2.0"
  }
 },
 "nbformat": 4,
 "nbformat_minor": 4
}
