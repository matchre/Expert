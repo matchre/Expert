{
 "cells": [
  {
   "cell_type": "markdown",
   "metadata": {
    "collapsed": true
   },
   "source": [
    "Chiffrement de César\n",
    "====================\n",
    "\n",
    "Réouvrir la page principale\n",
    "---------------------------\n",
    "\n",
    "[Cliquer ici](../main.ipynb)\n",
    "\n",
    "\n",
    "À vous de jouer : coder et décoder quand on connaît le décalage\n",
    "---------------------------------------------------------------\n",
    "\n",
    "### Version 1 : sans utiliser aucune notion mathématique\n",
    "\n",
    "Le code suivant utilise `ALPHABET[i:]` qui permet d'obtenir le texte formé des caractères situés de la position `i` aux suivantes dans `ALPHABET`.\n",
    "De même, `ALPHABET[:i]` permet de ne garder que les caractères jusqu'à la position `(i - 1)`, et non  jusqu'à la position `i`."
   ]
  },
  {
   "cell_type": "code",
   "execution_count": 14,
   "metadata": {
    "collapsed": false
   },
   "outputs": [
    {
     "name": "stdout",
     "output_type": "stream",
     "text": [
      "Texte initial     : python est aussi un monthy\n",
      "Décalage choisi   : 3\n",
      "Texte codé        : sbwkrq hvw dxvvl xq prqwkb\n",
      "Texte codé-décodé : python est aussi un monthy\n"
     ]
    }
   ],
   "source": [
    "# ---------------- #\n",
    "# -- (DÉ)CODAGE -- #\n",
    "# ---------------- #\n",
    "\n",
    "ALPHABET = \"abcdefghijklmnopqrstuvwxyz\"\n",
    "\n",
    "# Nous fabriquons un dictionnaire dont les clés sont les lettres\n",
    "# minuscules de l'alphabet, et les valeurs leur position dans le\n",
    "# texte ALPHABET (l'utilisation de la méthode find des variables\n",
    "# de type str permettrait de se passer de NO_LETTRE, à vous de\n",
    "# voir comment).\n",
    "NO_LETTRE = {}\n",
    "\n",
    "for position, lettre in enumerate(ALPHABET):\n",
    "    NO_LETTRE[lettre] = position\n",
    "\n",
    "\n",
    "def code(texte, decalage):\n",
    "    \"\"\"\n",
    "Cette fonction code un texte en utilisant le chiffrement de César\n",
    "avec le décalage donné.\n",
    "    \"\"\"\n",
    "    global ALPHABET\n",
    "    \n",
    "    ALPHABET_CODE = ALPHABET[decalage:] + ALPHABET[:decalage]\n",
    "\n",
    "    texte      = texte.lower()\n",
    "    texte_code = \"\"\n",
    "\n",
    "    for cara in texte:\n",
    "        if cara == \" \":\n",
    "            texte_code += cara\n",
    "        else:\n",
    "            position = NO_LETTRE[cara]\n",
    "            \n",
    "            texte_code += ALPHABET_CODE[position]\n",
    "            \n",
    "    return texte_code\n",
    "\n",
    "\n",
    "# ----------------- #\n",
    "# -- APPLICATION -- #\n",
    "# ----------------- #\n",
    "\n",
    "texte        = \"python est aussi un monthy\"\n",
    "decalage     = 3\n",
    "texte_code   = code(texte, decalage)\n",
    "texte_decode = code(texte_code, -decalage)\n",
    "\n",
    "print(\"Texte initial     :\", texte)\n",
    "print(\"Décalage choisi   :\", decalage)\n",
    "print(\"Texte codé        :\", texte_code)\n",
    "print(\"Texte codé-décodé :\", texte_decode)"
   ]
  },
  {
   "cell_type": "markdown",
   "metadata": {},
   "source": [
    "### Version 2 : avec un tout petit peu de maths\n",
    "\n",
    "Dans le code suivant on utilise l'opérateur modulo `%` qui donne le reste d'une division euclidienne. Par exemple, `25 % 7 = 4` car $25 = 3 \\times 7 + 4$."
   ]
  },
  {
   "cell_type": "code",
   "execution_count": 15,
   "metadata": {
    "collapsed": false
   },
   "outputs": [
    {
     "name": "stdout",
     "output_type": "stream",
     "text": [
      "Texte initial     : python est aussi un monthy\n",
      "Décalage choisi   : 3\n",
      "Texte codé        : sbwkrq hvw dxvvl xq prqwkb\n",
      "Texte codé-décodé : python est aussi un monthy\n"
     ]
    }
   ],
   "source": [
    "# ---------------- #\n",
    "# -- (DÉ)CODAGE -- #\n",
    "# ---------------- #\n",
    "\n",
    "ALPHABET        = \"abcdefghijklmnopqrstuvwxyz\"\n",
    "TAILLE_ALPHABET = len(ALPHABET)\n",
    "\n",
    "NO_LETTRE = {}\n",
    "\n",
    "for position, lettre in enumerate(ALPHABET):\n",
    "    NO_LETTRE[lettre] = position\n",
    "\n",
    "    \n",
    "def code(texte, decalage):\n",
    "    \"\"\"\n",
    "Cette fonction code un texte en utilisant le chiffrement de César\n",
    "avec le décalage donné.\n",
    "    \"\"\"\n",
    "    global ALPHABET\n",
    "    \n",
    "    texte      = texte.lower()\n",
    "    texte_code = \"\"\n",
    "\n",
    "    for cara in texte:\n",
    "        if cara == \" \":\n",
    "            texte_code += cara\n",
    "        else:\n",
    "            position = (NO_LETTRE[cara] + decalage) % TAILLE_ALPHABET\n",
    "            \n",
    "            texte_code += ALPHABET[position]\n",
    "            \n",
    "    return texte_code\n",
    "\n",
    "\n",
    "# ----------------- #\n",
    "# -- APPLICATION -- #\n",
    "# ----------------- #\n",
    "\n",
    "texte        = \"python est aussi un monthy\"\n",
    "decalage     = 3\n",
    "texte_code   = code(texte, decalage)\n",
    "texte_decode = code(texte_code, -decalage)\n",
    "\n",
    "print(\"Texte initial     :\", texte)\n",
    "print(\"Décalage choisi   :\", decalage)\n",
    "print(\"Texte codé        :\", texte_code)\n",
    "print(\"Texte codé-décodé :\", texte_decode)"
   ]
  },
  {
   "cell_type": "markdown",
   "metadata": {},
   "source": [
    "### Version 3 : utilisation des fonctions `ord` et `chr`\n",
    "\n",
    "La fonction `ord` renvoie si possible le code ASCII d'un caractère, et réciproquement la fonction `chr` renvoie un caractère de code ASCII connu. Voici des exemples.  "
   ]
  },
  {
   "cell_type": "code",
   "execution_count": 16,
   "metadata": {
    "collapsed": false
   },
   "outputs": [
    {
     "name": "stdout",
     "output_type": "stream",
     "text": [
      "ord(\"a\") = 97 et chr(97) = \"a\"\n",
      "ord(\"z\") = 122 et chr(122) = \"z\"\n",
      "ord(\"A\") = 65 et chr(65) = \"A\"\n",
      "ord(\"Z\") = 90 et chr(90) = \"Z\"\n",
      "ord(\" \") = 32 et chr(32) = \" \"\n",
      "ord(\"+\") = 43 et chr(43) = \"+\"\n"
     ]
    }
   ],
   "source": [
    "for cara in \"azAZ +\":\n",
    "    ascii = ord(cara)\n",
    "\n",
    "    print('ord(\"{0}\") = {1}'.format(cara, ascii), end = \" et \")\n",
    "    print('chr({0}) = \"{1}\"'.format(ascii, chr(ascii)))"
   ]
  },
  {
   "cell_type": "markdown",
   "metadata": {},
   "source": [
    "Le code suivant s'inspire de la version 2 qui se basait sur l'opérateur modulo `%`."
   ]
  },
  {
   "cell_type": "code",
   "execution_count": 17,
   "metadata": {
    "collapsed": false
   },
   "outputs": [
    {
     "name": "stdout",
     "output_type": "stream",
     "text": [
      "Texte initial     : python est aussi un monthy\n",
      "Décalage choisi   : 3\n",
      "Texte codé        : sbwkrq hvw dxvvl xq prqwkb\n",
      "Texte codé-décodé : python est aussi un monthy\n"
     ]
    }
   ],
   "source": [
    "# ---------------- #\n",
    "# -- (DÉ)CODAGE -- #\n",
    "# ---------------- #\n",
    "\n",
    "def code(texte, decalage):\n",
    "    \"\"\"\n",
    "Cette fonction code un texte en utilisant le chiffrement de César\n",
    "avec le décalage donné.\n",
    "    \"\"\"\n",
    "    texte      = texte.lower()\n",
    "    texte_code = \"\"\n",
    "\n",
    "    for cara in texte:\n",
    "        if cara == \" \":\n",
    "            texte_code += cara\n",
    "        else:\n",
    "            # On utilise : ord(\"a\") = 97.\n",
    "            position = (ord(cara) - 97 + decalage) % 26\n",
    "            \n",
    "            texte_code += chr(97 + position)\n",
    "            \n",
    "    return texte_code\n",
    "\n",
    "\n",
    "# ----------------- #\n",
    "# -- APPLICATION -- #\n",
    "# ----------------- #\n",
    "\n",
    "texte        = \"python est aussi un monthy\"\n",
    "decalage     = 3\n",
    "texte_code   = code(texte, decalage)\n",
    "texte_decode = code(texte_code, -decalage)\n",
    "\n",
    "print(\"Texte initial     :\", texte)\n",
    "print(\"Décalage choisi   :\", decalage)\n",
    "print(\"Texte codé        :\", texte_code)\n",
    "print(\"Texte codé-décodé :\", texte_decode)"
   ]
  },
  {
   "cell_type": "markdown",
   "metadata": {},
   "source": [
    "**Remarque :** contrairement aux deux premières versions, la version 3 ci-dessus est beaucoup moins flexible car elle ne permet pas d'ajouter facilement de nouveaux caractères codables.\n",
    "\n",
    "\n",
    "Pour les plus rapides : casser brutalement un code de César \n",
    "-----------------------------------------------------------\n",
    "\n",
    "Comme IPython garde en mémoire les actions effectuées au-dessus d'une cellule, pour simplifier la compréhension de ce qui suit, nous définissons à part la variable `texte_crypte` à décoder."
   ]
  },
  {
   "cell_type": "code",
   "execution_count": 18,
   "metadata": {
    "collapsed": false
   },
   "outputs": [],
   "source": [
    "texte_crypte = \"\"\"\n",
    "ap hpapst rthpg thi jct hpapst htgkxt egxcrxepatbtci spch ath gthipjgpcih pbtgxrpxch\n",
    "rgttt p ixyjpcp pj btmxfjt\n",
    "ap hpapst edgit at cdb st rpthpg rpgsxcx jc gthipjgpitjg xipaxtc dgxvxcpxgt st ap gtvxdc\n",
    "sj apr bpytjg pkpci s tipqaxg sth gthipjgpcih p ixyjpcp ti p tchtcpsp puxc st qtctuxrxtg\n",
    "s jct raxtcitat hdjwpxipci rdcidjgctg ap egdwxqxixdc\n",
    "xa tmxhit eajhxtjgh wxhidxgth pj hjyti st ap rgtpixdc st rtiit hpapst bpxh pjrjct s taath\n",
    "ct etji tigt rdcuxgbtt\n",
    "ap eajh rdbbjct gprdcitt epg gdhp rpgsxcx sxi fjt ap rgtpixdc uji at gthjaipi s jc\n",
    "tejxhtbtci sth peegdkxhxdcctbtcih st ap rjxhxct hdc etgt rdbedhp pktr ath bdntch sj qdgs\n",
    "ti egthht epg at itbeh sji egtepgtg ath hpapsth hjg at rdit sth ipqath\n",
    "jct pjigt wxhidxgt sxi fj taat uji rgttt epg jc vgdjet st hipgh s wdaanldds pegth jc adcv\n",
    "lttztcs uthixu\n",
    "htadc s pjigth taat htgpxi a xcktcixdc st axkd hpcixcx fjx ajx sdccp ap qpeixhp sj egtcdb\n",
    "sj egdegxtipxgt sj gthipjgpci dj xa igpkpxaapxi r thipsxgt rtajx st rthpg\n",
    "jct pjigt dgxvxct thi hxvcpatt epg sth rwtgrwtjgh  taat htgpxi a pspeipixdc s jct gtrtiit\n",
    "xipaxtcct fjt ap btgt st rthpg rpgsxcx jixaxhpxi\n",
    "\"\"\""
   ]
  },
  {
   "cell_type": "markdown",
   "metadata": {},
   "source": [
    "Nous proposons de procéder comme suit.\n",
    "\n",
    "* On teste brutalement tous les décalages possibles en décryptant à chaque fois le texte crypté.\n",
    "\n",
    "* Pour chaque décalage testé, on compte le nombre de mots du décryptage associé qui sont aussi des mots connus *(voir la liste de mots proposée dans la section \"Palindromes\")*.\n",
    "\n",
    "* Le décalage retenu sera celui qui aura fourni le plus grand nombre de mots connus.\n",
    "\n",
    "\n",
    "Pour arriver facilement à nos fins, nous utilisons le type `set` de Python qui correspond à la notion d'ensemble fini en mathématiques, ou dit autrement qui permet d'avoir des listes d'objets non ordonnés et sans répétition.\n",
    "\n",
    "\n",
    "**Note :** le décalage à trouver était $15$ et le texte crypté est tiré d'un copier-coller fait en août 2015 dans [cette page Wikipédia](https://fr.wikipedia.org/wiki/Salade_César#Histoire)."
   ]
  },
  {
   "cell_type": "code",
   "execution_count": 19,
   "metadata": {
    "collapsed": false
   },
   "outputs": [
    {
     "name": "stdout",
     "output_type": "stream",
     "text": [
      "Décalage trouvé : 15\n",
      "\n",
      "Texte initial\n",
      "-------------\n",
      "la salade cesar est une salade servie principalement dans les restaurants americains creee a tijuana au mexique la salade porte le nom de caesar cardini un restaurateur italien originaire de la region du lac majeur avant d etablir des restaurants a tijuana et a ensenada afin de beneficier d une clientele souhaitant contourner la prohibition il existe plusieurs histoires au sujet de la creation de cette salade mais aucune d elles ne peut etre confirmee la plus commune racontee par rosa cardini dit que la creation fut le resultat d un epuisement des approvisionnements de la cuisine son pere composa avec les moyens du bord et presse par le temps dut preparer les salades sur le cote des tables une autre histoire dit qu elle fut creee par un groupe de stars d hollywood apres un long weekend festif selon d autres elle serait l invention de livo santini qui lui donna la baptisa du prenom du proprietaire du restaurant ou il travaillait c estadire celui de cesar une autre origine est signalee par des chercheurs  elle serait l adaptation d une recette italienne que la mere de cesar cardini utilisait\n"
     ]
    }
   ],
   "source": [
    "# ---------------- #\n",
    "# -- (DÉ)CODAGE -- #\n",
    "# ---------------- #\n",
    "\n",
    "ALPHABET = \"abcdefghijklmnopqrstuvwxyz\"\n",
    "\n",
    "NO_LETTRE = {}\n",
    "\n",
    "for position, lettre in enumerate(ALPHABET):\n",
    "    NO_LETTRE[lettre] = position\n",
    "\n",
    "\n",
    "def code(texte, decalage):\n",
    "    \"\"\"\n",
    "Cette fonction code un texte en utilisant le chiffrement de César\n",
    "avec le décalage donné.\n",
    "    \"\"\"\n",
    "    global ALPHABET\n",
    "    \n",
    "    ALPHABET_CODE = ALPHABET[decalage:] + ALPHABET[:decalage]\n",
    "\n",
    "    texte      = texte.lower()\n",
    "    texte_code = \"\"\n",
    "\n",
    "    for cara in texte:\n",
    "        if cara == \" \":\n",
    "            texte_code += cara\n",
    "        else:\n",
    "            position = NO_LETTRE[cara]\n",
    "            \n",
    "            texte_code += ALPHABET_CODE[position]\n",
    "            \n",
    "    return texte_code\n",
    "\n",
    "\n",
    "# ----------------------------- #\n",
    "# -- POUR CASSER LE CRYPTAGE -- #\n",
    "# ----------------------------- #\n",
    "\n",
    "MOTS_CONNUS = set()\n",
    "\n",
    "with open(\"motsfrancais_frgut.txt\", encoding=\"iso-8859-1\") as fichier:\n",
    "    for ligne in fichier:\n",
    "        mot = ligne.strip()\n",
    "        mot = mot.lower()\n",
    "        \n",
    "        MOTS_CONNUS.add(mot)\n",
    "\n",
    "\n",
    "# --------------------- #\n",
    "# -- CASSAGE DU CODE -- #\n",
    "# --------------------- #\n",
    "\n",
    "texte_crypte = texte_crypte.strip()\n",
    "texte_crypte = texte_crypte.replace(\"\\n\", \" \")\n",
    "\n",
    "max_nbre_mots_communs = -1\n",
    "\n",
    "for decalage in range(26):\n",
    "    texte_decrypte = code(texte_crypte, -decalage)\n",
    "    mots_decryptes = set(texte_decrypte.split(\" \"))\n",
    "    \n",
    "    nbre_mots_communs = len(MOTS_CONNUS & mots_decryptes)\n",
    "    \n",
    "    if nbre_mots_communs > max_nbre_mots_communs:\n",
    "        decalage_trouve       = decalage\n",
    "        max_nbre_mots_communs = nbre_mots_communs\n",
    "\n",
    "print(\"Décalage trouvé : {0}\".format(decalage_trouve))\n",
    "print(\"\")\n",
    "print(\"Texte initial\")\n",
    "print(\"-------------\")\n",
    "print(code(texte_crypte, -decalage_trouve))"
   ]
  },
  {
   "cell_type": "markdown",
   "metadata": {},
   "source": [
    "**Important !** Ce qui a rendu les choses très simples ici c'est la conservation des espaces dans le texte crypté. Si les espaces sont supprimés du code crypté, il faut changer de tactique. Classiquement, on propose une étude statistique des fréquences d'apparition des lettres isolées, voire même des digrammes ou groupes de deux lettres. Automatiser ceci dépasse le cadre de ce document *(voir le dernier paragraphe de cette section)*. À la place, nous proposons l'adaptation suivante de la tactique précédente.\n",
    "\n",
    "* On teste brutalement tous les décalages possibles en décryptant à chaque fois le texte crypté.\n",
    "\n",
    "* Pour chaque décalage testé, on construit **tous** les mots de $n$ lettres pour $n \\in [3 ; 10 ]$ *(le choix de cet intervalle est purement \"pifométrique\")*. Par exemple pour $n = 3$, les mots seront `texte_crypte[0:3]`, `texte_crypte[1:4]`, `texte_crypte[2:5]`,... etc. À chaque fois, on compte le nombre de mots de $n$ lettres qui sont des mots connus.\n",
    "\n",
    "* Le décalage retenu sera celui qui aura fourni le plus grand nombre de mots connus."
   ]
  },
  {
   "cell_type": "code",
   "execution_count": 20,
   "metadata": {
    "collapsed": false
   },
   "outputs": [
    {
     "name": "stdout",
     "output_type": "stream",
     "text": [
      "Décalage trouvé : 15\n"
     ]
    }
   ],
   "source": [
    "# ------------------------------------------------------ #\n",
    "# -- UN TEXTE CRYPTÉ SANS ESPACE NI RETOUR À LA LIGNE -- #\n",
    "# ------------------------------------------------------ #\n",
    "\n",
    "texte_crypte = texte_crypte.replace(\" \", \"\")\n",
    "texte_crypte = texte_crypte.replace(\"\\n\", \"\")\n",
    "\n",
    "\n",
    "# ---------------- #\n",
    "# -- (DÉ)CODAGE -- #\n",
    "# ---------------- #\n",
    "\n",
    "ALPHABET = \"abcdefghijklmnopqrstuvwxyz\"\n",
    "\n",
    "NO_LETTRE = {}\n",
    "\n",
    "for position, lettre in enumerate(ALPHABET):\n",
    "    NO_LETTRE[lettre] = position\n",
    "\n",
    "\n",
    "def code(texte, decalage):\n",
    "    \"\"\"\n",
    "Cette fonction code un texte en utilisant le chiffrement de César\n",
    "avec le décalage donné.\n",
    "    \"\"\"\n",
    "    global ALPHABET\n",
    "    \n",
    "    ALPHABET_CODE = ALPHABET[decalage:] + ALPHABET[:decalage]\n",
    "\n",
    "    texte      = texte.lower()\n",
    "    texte_code = \"\"\n",
    "\n",
    "    for cara in texte:\n",
    "        if cara == \" \":\n",
    "            texte_code += cara\n",
    "        else:\n",
    "            position = NO_LETTRE[cara]\n",
    "            \n",
    "            texte_code += ALPHABET_CODE[position]\n",
    "            \n",
    "    return texte_code\n",
    "\n",
    "\n",
    "# ----------------------------- #\n",
    "# -- POUR CASSER LE CRYPTAGE -- #\n",
    "# ----------------------------- #\n",
    "\n",
    "MOTS_CONNUS = set()\n",
    "\n",
    "with open(\"motsfrancais_frgut.txt\", encoding=\"iso-8859-1\") as fichier:\n",
    "    for ligne in fichier:\n",
    "        mot = ligne.strip()\n",
    "        mot = mot.lower()\n",
    "        \n",
    "        MOTS_CONNUS.add(mot)\n",
    "\n",
    "\n",
    "# --------------------- #\n",
    "# -- CASSAGE DU CODE -- #\n",
    "# --------------------- #\n",
    "\n",
    "texte_crypte        = texte_crypte.strip()\n",
    "taille_texte_crypte = len(texte_crypte)\n",
    "\n",
    "\n",
    "max_nbre_mots_communs = -1\n",
    "\n",
    "for decalage in range(26):\n",
    "    texte_decrypte = code(texte_crypte, -decalage)\n",
    "    \n",
    "    mots_decryptes = set()\n",
    "    \n",
    "    for i in range(3, 11):\n",
    "        for pos in range(taille_texte_crypte - i):\n",
    "            mots_decryptes.add(texte_decrypte[pos: pos+i])\n",
    "    \n",
    "    nbre_mots_communs = len(MOTS_CONNUS & mots_decryptes)\n",
    "    \n",
    "    if nbre_mots_communs > max_nbre_mots_communs:\n",
    "        decalage_trouve       = decalage\n",
    "        max_nbre_mots_communs = nbre_mots_communs\n",
    "\n",
    "print(\"Décalage trouvé : {0}\".format(decalage_trouve))"
   ]
  },
  {
   "cell_type": "markdown",
   "metadata": {},
   "source": [
    "On obtient de nouveau $15$ mais il resterait à vérifier plus sérieusement ce code en fabriquant un grand nombre de textes cryptés de façon aléatoire, puis en testant que le bon décalage a été découvert. Le plus dur dans ces tests serait de trouver des textes français. On peut indiquer par exemple [cette page](https://www.reseau-canope.fr/savoirscdi/la-liste-cdidoc-fr/des-propositions-bibliographiques-de-la-liste-cdidoc-fr/litterature-texte-integral-en-telechargement-sur-internet.html) qui fournit différents liens pour récupérer des textes classiques passées dans le domaine public *(attention à l'encodage des pages qui n'est pas toujours de l'UTF-8)*.\n",
    "Il resterait ensuite à s'appuyer sur des bibliothèques Python spécialisées pour extraire facilement des informations dans ces pages HTML. [Beautiful Soup 4](http://www.crummy.com/software/BeautifulSoup/) est une telle bibliothèque. \n",
    "\n",
    "Nous pouvons par contre au moins vérifier que nous n'avons pas eu de la chance en testant tous les décalages appliqué à un seul texte *(l'auteur se permet cette remarque car en voulant trouver des informations sur la taille de la clé utilisée dans un chiffrement de Vigenère, il avait conçu un programme qui avait eu le bon ou mauvais goût de ne fonctionner que dans le cas de son premier test, une coïncidence étonnante)*. Ce qui suit est un peu rassurant."
   ]
  },
  {
   "cell_type": "code",
   "execution_count": 21,
   "metadata": {
    "collapsed": false
   },
   "outputs": [
    {
     "name": "stdout",
     "output_type": "stream",
     "text": [
      "Aucune erreur commise.\n"
     ]
    }
   ],
   "source": [
    "texte = \"\"\"\n",
    "la salade cesar est une salade servie principalement dans les restaurants\n",
    "americains creee a tijuana au mexique la salade porte le nom de caesar \n",
    "cardini un restaurateur italien originaire de la region du lac majeur avant\n",
    "d etablir des restaurants a tijuana et a ensenada afin de beneficier d une\n",
    "clientele souhaitant contourner la prohibition il existe plusieurs histoires\n",
    "au sujet de la creation de cette salade mais aucune d elles ne peut etre\n",
    "confirmee la plus commune racontee par rosa cardini dit que la creation fut\n",
    "le resultat d un epuisement des approvisionnements de la cuisine son pere\n",
    "composa avec les moyens du bord et presse par le temps dut preparer les\n",
    "salades sur le cote des tables une autre histoire dit qu elle fut creee par\n",
    "un groupe de stars d hollywood apres un long weekend festif selon d autres\n",
    "elle serait l invention de livo santini qui lui donna la baptisa du prenom\n",
    "du proprietaire du restaurant ou il travaillait c estadire celui de cesar\n",
    "une autre origine est signalee par des chercheurs  elle serait l adaptation\n",
    "d une recette italienne que la mere de cesar cardini utilisait\n",
    "\"\"\"\n",
    "\n",
    "texte = texte.replace(\" \", \"\")\n",
    "texte = texte.replace(\"\\n\", \"\")\n",
    "\n",
    "nb_erreurs = 0\n",
    "\n",
    "for decalage_test in range(26):\n",
    "    texte_crypte = code(texte, decalage_test)\n",
    "\n",
    "    max_nbre_mots_communs = -1\n",
    "\n",
    "    for decalage in range(26):\n",
    "        texte_decrypte = code(texte_crypte, -decalage)\n",
    "\n",
    "        mots_decryptes = set()\n",
    "\n",
    "        for i in range(3, 11):\n",
    "            for pos in range(taille_texte_crypte - i):\n",
    "                mots_decryptes.add(texte_decrypte[pos: pos+i])\n",
    "\n",
    "        nbre_mots_communs = len(MOTS_CONNUS & mots_decryptes)\n",
    "\n",
    "        if nbre_mots_communs > max_nbre_mots_communs:\n",
    "            decalage_trouve       = decalage\n",
    "            max_nbre_mots_communs = nbre_mots_communs\n",
    "\n",
    "    if decalage_test != decalage_trouve:\n",
    "        nb_erreurs += 1\n",
    "\n",
    "\n",
    "if nb_erreurs == 0:\n",
    "    print(\"Aucune erreur commise.\")\n",
    "elif nb_erreurs == 1:\n",
    "    print(\"Une seule erreur commise.\")\n",
    "else:\n",
    "    print(nb_erreurs, \"erreurs commises.\")"
   ]
  }
 ],
 "metadata": {
  "kernelspec": {
   "display_name": "Python 3",
   "language": "python",
   "name": "python3"
  },
  "language_info": {
   "codemirror_mode": {
    "name": "ipython",
    "version": 3
   },
   "file_extension": ".py",
   "mimetype": "text/x-python",
   "name": "python",
   "nbconvert_exporter": "python",
   "pygments_lexer": "ipython3",
   "version": "3.4.3"
  }
 },
 "nbformat": 4,
 "nbformat_minor": 0
}
