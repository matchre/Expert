{
 "cells": [
  {
   "cell_type": "markdown",
   "metadata": {
    "deletable": false,
    "dicho": {
     "celltype": "normal",
     "readonly": true
    }
   },
   "source": [
    "## Introduction\n",
    "Un texte est une suite de symboles (ou caractères) pris dans un alphabet de taille finie $N$. Chiffrer ce texte consiste à lui appliquer une transformation de façon à produire un autre texte, le texte chiffré. Déchiffrer le texte chiffré signifie appliquer la transformation inverse de façon à retrouver le texte en clair. Le texte qui est produit par l'algorithme de chiffrement dépend d'une donnée supplémentaire que l'on appelle la clé. L'algorithme de déchiffrement utilise également cette clé.\n",
    "Seuls ceux qui possèdent la clé peuvent a priori retrouver le texte en clair. Si la méthode de chiffrement n'est pas suffisamment robuste, il peut cependant être possible de décrypter le texte chiffré et retrouver ainsi le texte en clair sans connaître la clé par avance.\n",
    "\n",
    "L'objet du TP est de programmer tout d'abord l'algorithme de chiffrement monoalphabétique. C'est un algorithme qui est très facile à casser en analysant la fréquence des symboles apparaissant dans le texte chiffré.\n",
    "Dans un deuxième temps vous programmerez l'algorithme de Vigenère qui \n",
    "permet a priori de se prémunir de l'attaque précédente. Nous verrons \n",
    "toutefois en fin de TP une méthode qui permet de le casser lui aussi."
   ]
  },
  {
   "cell_type": "markdown",
   "metadata": {
    "deletable": false,
    "dicho": {
     "celltype": "normal",
     "readonly": true
    }
   },
   "source": [
    "## Partie A — Chiffrement monoalphabétique\n",
    "\n",
    "Les algorithmes de chiffrement/déchiffrement ne s'appliquent pas \n",
    "directement sur les caractères mais sur des nombres entiers.\n",
    "La norme *[Unicode][]* a répertorié l'ensemble des caractères utilisés dans les diverses langues écrites actuelles. Chacun de ces symboles est identifié par un entier appelé *point de code **Unicode*** compris entre `0` et `0x110000`.\n",
    "\n",
    "*Remarque :* Le préfixe `0x` signifie que l'entier est écrit en base `0x10`, autrement dit en base `16`.\n",
    "\n",
    "[Unicode]:http://unicode-table.com/fr/"
   ]
  },
  {
   "cell_type": "code",
   "execution_count": 2,
   "metadata": {
    "collapsed": false,
    "deletable": false,
    "dicho": {
     "celltype": "normal",
     "readonly": true
    }
   },
   "outputs": [
    {
     "data": {
      "text/plain": [
       "2"
      ]
     },
     "execution_count": 2,
     "metadata": {},
     "output_type": "execute_result"
    }
   ],
   "source": [
    "0b10"
   ]
  },
  {
   "cell_type": "markdown",
   "metadata": {
    "deletable": false,
    "dicho": {
     "celltype": "normal",
     "readonly": true
    }
   },
   "source": [
    "Les fonctions python `chr` et `ord` permettent d'obtenir le caractère à partir du point de code et réciproquement :"
   ]
  },
  {
   "cell_type": "code",
   "execution_count": null,
   "metadata": {
    "collapsed": false,
    "deletable": false,
    "dicho": {
     "celltype": "normal",
     "readonly": true
    }
   },
   "outputs": [
    {
     "name": "stdout",
     "output_type": "stream",
     "text": [
      "é\n",
      "233\n"
     ]
    }
   ],
   "source": [
    "print(chr(233))\n",
    "print(ord('é'))"
   ]
  },
  {
   "cell_type": "markdown",
   "metadata": {
    "deletable": false,
    "dicho": {
     "celltype": "normal",
     "readonly": true
    }
   },
   "source": [
    "Nous allons appliqué nos algorithmes sur ces points de code en nous restreignant aux caractères dont le point de code est compris entre `0` et $N-1$ avec $N=$ `0x800`."
   ]
  },
  {
   "cell_type": "code",
   "execution_count": null,
   "metadata": {
    "collapsed": false,
    "deletable": false,
    "dicho": {
     "celltype": "normal",
     "readonly": true
    }
   },
   "outputs": [
    {
     "name": "stdout",
     "output_type": "stream",
     "text": [
      "['\\x00', '\\x01', '\\x02', '\\x03', '\\x04', '\\x05', '\\x06', '\\x07', '\\x08', '\\t', '\\n', '\\x0b', '\\x0c', '\\r', '\\x0e', '\\x0f', '\\x10', '\\x11', '\\x12', '\\x13', '\\x14', '\\x15', '\\x16', '\\x17', '\\x18', '\\x19', '\\x1a', '\\x1b', '\\x1c', '\\x1d', '\\x1e', '\\x1f', ' ', '!', '\"', '#', '$', '%', '&', \"'\", '(', ')', '*', '+', ',', '-', '.', '/', '0', '1', '2', '3', '4', '5', '6', '7', '8', '9', ':', ';', '<', '=', '>', '?', '@', 'A', 'B', 'C', 'D', 'E', 'F', 'G', 'H', 'I', 'J', 'K', 'L', 'M', 'N', 'O', 'P', 'Q', 'R', 'S', 'T', 'U', 'V', 'W', 'X', 'Y', 'Z', '[', '\\\\', ']', '^', '_', '`', 'a', 'b', 'c', 'd', 'e', 'f', 'g', 'h', 'i', 'j', 'k', 'l', 'm', 'n', 'o', 'p', 'q', 'r', 's', 't', 'u', 'v', 'w', 'x', 'y', 'z', '{', '|', '}', '~', '\\x7f', '\\x80', '\\x81', '\\x82', '\\x83', '\\x84', '\\x85', '\\x86', '\\x87', '\\x88', '\\x89', '\\x8a', '\\x8b', '\\x8c', '\\x8d', '\\x8e', '\\x8f', '\\x90', '\\x91', '\\x92', '\\x93', '\\x94', '\\x95', '\\x96', '\\x97', '\\x98', '\\x99', '\\x9a', '\\x9b', '\\x9c', '\\x9d', '\\x9e', '\\x9f', '\\xa0', '¡', '¢', '£', '¤', '¥', '¦', '§', '¨', '©', 'ª', '«', '¬', '\\xad', '®', '¯', '°', '±', '²', '³', '´', 'µ', '¶', '·', '¸', '¹', 'º', '»', '¼', '½', '¾', '¿', 'À', 'Á', 'Â', 'Ã', 'Ä', 'Å', 'Æ', 'Ç', 'È', 'É', 'Ê', 'Ë', 'Ì', 'Í', 'Î', 'Ï', 'Ð', 'Ñ', 'Ò', 'Ó', 'Ô', 'Õ', 'Ö', '×', 'Ø', 'Ù', 'Ú', 'Û', 'Ü', 'Ý', 'Þ', 'ß', 'à', 'á', 'â', 'ã', 'ä', 'å', 'æ', 'ç', 'è', 'é', 'ê', 'ë', 'ì', 'í', 'î', 'ï', 'ð', 'ñ', 'ò', 'ó', 'ô', 'õ', 'ö', '÷', 'ø', 'ù', 'ú', 'û', 'ü', 'ý', 'þ', 'ÿ', 'Ā', 'ā', 'Ă', 'ă', 'Ą', 'ą', 'Ć', 'ć', 'Ĉ', 'ĉ', 'Ċ', 'ċ', 'Č', 'č', 'Ď', 'ď', 'Đ', 'đ', 'Ē', 'ē', 'Ĕ', 'ĕ', 'Ė', 'ė', 'Ę', 'ę', 'Ě', 'ě', 'Ĝ', 'ĝ', 'Ğ', 'ğ', 'Ġ', 'ġ', 'Ģ', 'ģ', 'Ĥ', 'ĥ', 'Ħ', 'ħ', 'Ĩ', 'ĩ', 'Ī', 'ī', 'Ĭ', 'ĭ', 'Į', 'į', 'İ', 'ı', 'Ĳ', 'ĳ', 'Ĵ', 'ĵ', 'Ķ', 'ķ', 'ĸ', 'Ĺ', 'ĺ', 'Ļ', 'ļ', 'Ľ', 'ľ', 'Ŀ', 'ŀ', 'Ł', 'ł', 'Ń', 'ń', 'Ņ', 'ņ', 'Ň', 'ň', 'ŉ', 'Ŋ', 'ŋ', 'Ō', 'ō', 'Ŏ', 'ŏ', 'Ő', 'ő', 'Œ', 'œ', 'Ŕ', 'ŕ', 'Ŗ', 'ŗ', 'Ř', 'ř', 'Ś', 'ś', 'Ŝ', 'ŝ', 'Ş', 'ş', 'Š', 'š', 'Ţ', 'ţ', 'Ť', 'ť', 'Ŧ', 'ŧ', 'Ũ', 'ũ', 'Ū', 'ū', 'Ŭ', 'ŭ', 'Ů', 'ů', 'Ű', 'ű', 'Ų', 'ų', 'Ŵ', 'ŵ', 'Ŷ', 'ŷ', 'Ÿ', 'Ź', 'ź', 'Ż', 'ż', 'Ž', 'ž', 'ſ', 'ƀ', 'Ɓ', 'Ƃ', 'ƃ', 'Ƅ', 'ƅ', 'Ɔ', 'Ƈ', 'ƈ', 'Ɖ', 'Ɗ', 'Ƌ', 'ƌ', 'ƍ', 'Ǝ', 'Ə', 'Ɛ', 'Ƒ', 'ƒ', 'Ɠ', 'Ɣ', 'ƕ', 'Ɩ', 'Ɨ', 'Ƙ', 'ƙ', 'ƚ', 'ƛ', 'Ɯ', 'Ɲ', 'ƞ', 'Ɵ', 'Ơ', 'ơ', 'Ƣ', 'ƣ', 'Ƥ', 'ƥ', 'Ʀ', 'Ƨ', 'ƨ', 'Ʃ', 'ƪ', 'ƫ', 'Ƭ', 'ƭ', 'Ʈ', 'Ư', 'ư', 'Ʊ', 'Ʋ', 'Ƴ', 'ƴ', 'Ƶ', 'ƶ', 'Ʒ', 'Ƹ', 'ƹ', 'ƺ', 'ƻ', 'Ƽ', 'ƽ', 'ƾ', 'ƿ', 'ǀ', 'ǁ', 'ǂ', 'ǃ', 'Ǆ', 'ǅ', 'ǆ', 'Ǉ', 'ǈ', 'ǉ', 'Ǌ', 'ǋ', 'ǌ', 'Ǎ', 'ǎ', 'Ǐ', 'ǐ', 'Ǒ', 'ǒ', 'Ǔ', 'ǔ', 'Ǖ', 'ǖ', 'Ǘ', 'ǘ', 'Ǚ', 'ǚ', 'Ǜ', 'ǜ', 'ǝ', 'Ǟ', 'ǟ', 'Ǡ', 'ǡ', 'Ǣ', 'ǣ', 'Ǥ', 'ǥ', 'Ǧ', 'ǧ', 'Ǩ', 'ǩ', 'Ǫ', 'ǫ', 'Ǭ', 'ǭ', 'Ǯ', 'ǯ', 'ǰ', 'Ǳ', 'ǲ', 'ǳ', 'Ǵ', 'ǵ', 'Ƕ', 'Ƿ', 'Ǹ', 'ǹ', 'Ǻ', 'ǻ', 'Ǽ', 'ǽ', 'Ǿ', 'ǿ', 'Ȁ', 'ȁ', 'Ȃ', 'ȃ', 'Ȅ', 'ȅ', 'Ȇ', 'ȇ', 'Ȉ', 'ȉ', 'Ȋ', 'ȋ', 'Ȍ', 'ȍ', 'Ȏ', 'ȏ', 'Ȑ', 'ȑ', 'Ȓ', 'ȓ', 'Ȕ', 'ȕ', 'Ȗ', 'ȗ', 'Ș', 'ș', 'Ț', 'ț', 'Ȝ', 'ȝ', 'Ȟ', 'ȟ', 'Ƞ', 'ȡ', 'Ȣ', 'ȣ', 'Ȥ', 'ȥ', 'Ȧ', 'ȧ', 'Ȩ', 'ȩ', 'Ȫ', 'ȫ', 'Ȭ', 'ȭ', 'Ȯ', 'ȯ', 'Ȱ', 'ȱ', 'Ȳ', 'ȳ', 'ȴ', 'ȵ', 'ȶ', 'ȷ', 'ȸ', 'ȹ', 'Ⱥ', 'Ȼ', 'ȼ', 'Ƚ', 'Ⱦ', 'ȿ', 'ɀ', 'Ɂ', 'ɂ', 'Ƀ', 'Ʉ', 'Ʌ', 'Ɇ', 'ɇ', 'Ɉ', 'ɉ', 'Ɋ', 'ɋ', 'Ɍ', 'ɍ', 'Ɏ', 'ɏ', 'ɐ', 'ɑ', 'ɒ', 'ɓ', 'ɔ', 'ɕ', 'ɖ', 'ɗ', 'ɘ', 'ə', 'ɚ', 'ɛ', 'ɜ', 'ɝ', 'ɞ', 'ɟ', 'ɠ', 'ɡ', 'ɢ', 'ɣ', 'ɤ', 'ɥ', 'ɦ', 'ɧ', 'ɨ', 'ɩ', 'ɪ', 'ɫ', 'ɬ', 'ɭ', 'ɮ', 'ɯ', 'ɰ', 'ɱ', 'ɲ', 'ɳ', 'ɴ', 'ɵ', 'ɶ', 'ɷ', 'ɸ', 'ɹ', 'ɺ', 'ɻ', 'ɼ', 'ɽ', 'ɾ', 'ɿ', 'ʀ', 'ʁ', 'ʂ', 'ʃ', 'ʄ', 'ʅ', 'ʆ', 'ʇ', 'ʈ', 'ʉ', 'ʊ', 'ʋ', 'ʌ', 'ʍ', 'ʎ', 'ʏ', 'ʐ', 'ʑ', 'ʒ', 'ʓ', 'ʔ', 'ʕ', 'ʖ', 'ʗ', 'ʘ', 'ʙ', 'ʚ', 'ʛ', 'ʜ', 'ʝ', 'ʞ', 'ʟ', 'ʠ', 'ʡ', 'ʢ', 'ʣ', 'ʤ', 'ʥ', 'ʦ', 'ʧ', 'ʨ', 'ʩ', 'ʪ', 'ʫ', 'ʬ', 'ʭ', 'ʮ', 'ʯ', 'ʰ', 'ʱ', 'ʲ', 'ʳ', 'ʴ', 'ʵ', 'ʶ', 'ʷ', 'ʸ', 'ʹ', 'ʺ', 'ʻ', 'ʼ', 'ʽ', 'ʾ', 'ʿ', 'ˀ', 'ˁ', '˂', '˃', '˄', '˅', 'ˆ', 'ˇ', 'ˈ', 'ˉ', 'ˊ', 'ˋ', 'ˌ', 'ˍ', 'ˎ', 'ˏ', 'ː', 'ˑ', '˒', '˓', '˔', '˕', '˖', '˗', '˘', '˙', '˚', '˛', '˜', '˝', '˞', '˟', 'ˠ', 'ˡ', 'ˢ', 'ˣ', 'ˤ', '˥', '˦', '˧', '˨', '˩', '˪', '˫', 'ˬ', '˭', 'ˮ', '˯', '˰', '˱', '˲', '˳', '˴', '˵', '˶', '˷', '˸', '˹', '˺', '˻', '˼', '˽', '˾', '˿', '̀', '́', '̂', '̃', '̄', '̅', '̆', '̇', '̈', '̉', '̊', '̋', '̌', '̍', '̎', '̏', '̐', '̑', '̒', '̓', '̔', '̕', '̖', '̗', '̘', '̙', '̚', '̛', '̜', '̝', '̞', '̟', '̠', '̡', '̢', '̣', '̤', '̥', '̦', '̧', '̨', '̩', '̪', '̫', '̬', '̭', '̮', '̯', '̰', '̱', '̲', '̳', '̴', '̵', '̶', '̷', '̸', '̹', '̺', '̻', '̼', '̽', '̾', '̿', '̀', '́', '͂', '̓', '̈́', 'ͅ', '͆', '͇', '͈', '͉', '͊', '͋', '͌', '͍', '͎', '͏', '͐', '͑', '͒', '͓', '͔', '͕', '͖', '͗', '͘', '͙', '͚', '͛', '͜', '͝', '͞', '͟', '͠', '͡', '͢', 'ͣ', 'ͤ', 'ͥ', 'ͦ', 'ͧ', 'ͨ', 'ͩ', 'ͪ', 'ͫ', 'ͬ', 'ͭ', 'ͮ', 'ͯ', 'Ͱ', 'ͱ', 'Ͳ', 'ͳ', 'ʹ', '͵', 'Ͷ', 'ͷ', '\\u0378', '\\u0379', 'ͺ', 'ͻ', 'ͼ', 'ͽ', ';', '\\u037f', '\\u0380', '\\u0381', '\\u0382', '\\u0383', '΄', '΅', 'Ά', '·', 'Έ', 'Ή', 'Ί', '\\u038b', 'Ό', '\\u038d', 'Ύ', 'Ώ', 'ΐ', 'Α', 'Β', 'Γ', 'Δ', 'Ε', 'Ζ', 'Η', 'Θ', 'Ι', 'Κ', 'Λ', 'Μ', 'Ν', 'Ξ', 'Ο', 'Π', 'Ρ', '\\u03a2', 'Σ', 'Τ', 'Υ', 'Φ', 'Χ', 'Ψ', 'Ω', 'Ϊ', 'Ϋ', 'ά', 'έ', 'ή', 'ί', 'ΰ', 'α', 'β', 'γ', 'δ', 'ε', 'ζ', 'η', 'θ', 'ι', 'κ', 'λ', 'μ', 'ν', 'ξ', 'ο', 'π', 'ρ', 'ς', 'σ', 'τ', 'υ', 'φ', 'χ', 'ψ', 'ω', 'ϊ', 'ϋ', 'ό', 'ύ', 'ώ', 'Ϗ', 'ϐ', 'ϑ', 'ϒ', 'ϓ', 'ϔ', 'ϕ', 'ϖ', 'ϗ', 'Ϙ', 'ϙ', 'Ϛ', 'ϛ', 'Ϝ', 'ϝ', 'Ϟ', 'ϟ', 'Ϡ', 'ϡ', 'Ϣ', 'ϣ', 'Ϥ', 'ϥ', 'Ϧ', 'ϧ', 'Ϩ', 'ϩ', 'Ϫ', 'ϫ', 'Ϭ', 'ϭ', 'Ϯ', 'ϯ', 'ϰ', 'ϱ', 'ϲ', 'ϳ', 'ϴ', 'ϵ', '϶', 'Ϸ', 'ϸ', 'Ϲ', 'Ϻ', 'ϻ', 'ϼ', 'Ͻ', 'Ͼ', 'Ͽ', 'Ѐ', 'Ё', 'Ђ', 'Ѓ', 'Є', 'Ѕ', 'І', 'Ї', 'Ј', 'Љ', 'Њ', 'Ћ', 'Ќ', 'Ѝ', 'Ў', 'Џ', 'А', 'Б', 'В', 'Г', 'Д', 'Е', 'Ж', 'З', 'И', 'Й', 'К', 'Л', 'М', 'Н', 'О', 'П', 'Р', 'С', 'Т', 'У', 'Ф', 'Х', 'Ц', 'Ч', 'Ш', 'Щ', 'Ъ', 'Ы', 'Ь', 'Э', 'Ю', 'Я', 'а', 'б', 'в', 'г', 'д', 'е', 'ж', 'з', 'и', 'й', 'к', 'л', 'м', 'н', 'о', 'п', 'р', 'с', 'т', 'у', 'ф', 'х', 'ц', 'ч', 'ш', 'щ', 'ъ', 'ы', 'ь', 'э', 'ю', 'я', 'ѐ', 'ё', 'ђ', 'ѓ', 'є', 'ѕ', 'і', 'ї', 'ј', 'љ', 'њ', 'ћ', 'ќ', 'ѝ', 'ў', 'џ', 'Ѡ', 'ѡ', 'Ѣ', 'ѣ', 'Ѥ', 'ѥ', 'Ѧ', 'ѧ', 'Ѩ', 'ѩ', 'Ѫ', 'ѫ', 'Ѭ', 'ѭ', 'Ѯ', 'ѯ', 'Ѱ', 'ѱ', 'Ѳ', 'ѳ', 'Ѵ', 'ѵ', 'Ѷ', 'ѷ', 'Ѹ', 'ѹ', 'Ѻ', 'ѻ', 'Ѽ', 'ѽ', 'Ѿ', 'ѿ', 'Ҁ', 'ҁ', '҂', '҃', '҄', '҅', '҆', '҇', '҈', '҉', 'Ҋ', 'ҋ', 'Ҍ', 'ҍ', 'Ҏ', 'ҏ', 'Ґ', 'ґ', 'Ғ', 'ғ', 'Ҕ', 'ҕ', 'Җ', 'җ', 'Ҙ', 'ҙ', 'Қ', 'қ', 'Ҝ', 'ҝ', 'Ҟ', 'ҟ', 'Ҡ', 'ҡ', 'Ң', 'ң', 'Ҥ', 'ҥ', 'Ҧ', 'ҧ', 'Ҩ', 'ҩ', 'Ҫ', 'ҫ', 'Ҭ', 'ҭ', 'Ү', 'ү', 'Ұ', 'ұ', 'Ҳ', 'ҳ', 'Ҵ', 'ҵ', 'Ҷ', 'ҷ', 'Ҹ', 'ҹ', 'Һ', 'һ', 'Ҽ', 'ҽ', 'Ҿ', 'ҿ', 'Ӏ', 'Ӂ', 'ӂ', 'Ӄ', 'ӄ', 'Ӆ', 'ӆ', 'Ӈ', 'ӈ', 'Ӊ', 'ӊ', 'Ӌ', 'ӌ', 'Ӎ', 'ӎ', 'ӏ', 'Ӑ', 'ӑ', 'Ӓ', 'ӓ', 'Ӕ', 'ӕ', 'Ӗ', 'ӗ', 'Ә', 'ә', 'Ӛ', 'ӛ', 'Ӝ', 'ӝ', 'Ӟ', 'ӟ', 'Ӡ', 'ӡ', 'Ӣ', 'ӣ', 'Ӥ', 'ӥ', 'Ӧ', 'ӧ', 'Ө', 'ө', 'Ӫ', 'ӫ', 'Ӭ', 'ӭ', 'Ӯ', 'ӯ', 'Ӱ', 'ӱ', 'Ӳ', 'ӳ', 'Ӵ', 'ӵ', 'Ӷ', 'ӷ', 'Ӹ', 'ӹ', 'Ӻ', 'ӻ', 'Ӽ', 'ӽ', 'Ӿ', 'ӿ', 'Ԁ', 'ԁ', 'Ԃ', 'ԃ', 'Ԅ', 'ԅ', 'Ԇ', 'ԇ', 'Ԉ', 'ԉ', 'Ԋ', 'ԋ', 'Ԍ', 'ԍ', 'Ԏ', 'ԏ', 'Ԑ', 'ԑ', 'Ԓ', 'ԓ', 'Ԕ', 'ԕ', 'Ԗ', 'ԗ', 'Ԙ', 'ԙ', 'Ԛ', 'ԛ', 'Ԝ', 'ԝ', 'Ԟ', 'ԟ', 'Ԡ', 'ԡ', 'Ԣ', 'ԣ', 'Ԥ', 'ԥ', 'Ԧ', 'ԧ', '\\u0528', '\\u0529', '\\u052a', '\\u052b', '\\u052c', '\\u052d', '\\u052e', '\\u052f', '\\u0530', 'Ա', 'Բ', 'Գ', 'Դ', 'Ե', 'Զ', 'Է', 'Ը', 'Թ', 'Ժ', 'Ի', 'Լ', 'Խ', 'Ծ', 'Կ', 'Հ', 'Ձ', 'Ղ', 'Ճ', 'Մ', 'Յ', 'Ն', 'Շ', 'Ո', 'Չ', 'Պ', 'Ջ', 'Ռ', 'Ս', 'Վ', 'Տ', 'Ր', 'Ց', 'Ւ', 'Փ', 'Ք', 'Օ', 'Ֆ', '\\u0557', '\\u0558', 'ՙ', '՚', '՛', '՜', '՝', '՞', '՟', '\\u0560', 'ա', 'բ', 'գ', 'դ', 'ե', 'զ', 'է', 'ը', 'թ', 'ժ', 'ի', 'լ', 'խ', 'ծ', 'կ', 'հ', 'ձ', 'ղ', 'ճ', 'մ', 'յ', 'ն', 'շ', 'ո', 'չ', 'պ', 'ջ', 'ռ', 'ս', 'վ', 'տ', 'ր', 'ց', 'ւ', 'փ', 'ք', 'օ', 'ֆ', 'և', '\\u0588', '։', '֊', '\\u058b', '\\u058c', '\\u058d', '\\u058e', '֏', '\\u0590', '֑', '֒', '֓', '֔', '֕', '֖', '֗', '֘', '֙', '֚', '֛', '֜', '֝', '֞', '֟', '֠', '֡', '֢', '֣', '֤', '֥', '֦', '֧', '֨', '֩', '֪', '֫', '֬', '֭', '֮', '֯', 'ְ', 'ֱ', 'ֲ', 'ֳ', 'ִ', 'ֵ', 'ֶ', 'ַ', 'ָ', 'ֹ', 'ֺ', 'ֻ', 'ּ', 'ֽ', '־', 'ֿ', '׀', 'ׁ', 'ׂ', '׃', 'ׄ', 'ׅ', '׆', 'ׇ', '\\u05c8', '\\u05c9', '\\u05ca', '\\u05cb', '\\u05cc', '\\u05cd', '\\u05ce', '\\u05cf', 'א', 'ב', 'ג', 'ד', 'ה', 'ו', 'ז', 'ח', 'ט', 'י', 'ך', 'כ', 'ל', 'ם', 'מ', 'ן', 'נ', 'ס', 'ע', 'ף', 'פ', 'ץ', 'צ', 'ק', 'ר', 'ש', 'ת', '\\u05eb', '\\u05ec', '\\u05ed', '\\u05ee', '\\u05ef', 'װ', 'ױ', 'ײ', '׳', '״', '\\u05f5', '\\u05f6', '\\u05f7', '\\u05f8', '\\u05f9', '\\u05fa', '\\u05fb', '\\u05fc', '\\u05fd', '\\u05fe', '\\u05ff', '\\u0600', '\\u0601', '\\u0602', '\\u0603', '\\u0604', '\\u0605', '؆', '؇', '؈', '؉', '؊', '؋', '،', '؍', '؎', '؏', 'ؐ', 'ؑ', 'ؒ', 'ؓ', 'ؔ', 'ؕ', 'ؖ', 'ؗ', 'ؘ', 'ؙ', 'ؚ', '؛', '\\u061c', '\\u061d', '؞', '؟', 'ؠ', 'ء', 'آ', 'أ', 'ؤ', 'إ', 'ئ', 'ا', 'ب', 'ة', 'ت', 'ث', 'ج', 'ح', 'خ', 'د', 'ذ', 'ر', 'ز', 'س', 'ش', 'ص', 'ض', 'ط', 'ظ', 'ع', 'غ', 'ػ', 'ؼ', 'ؽ', 'ؾ', 'ؿ', 'ـ', 'ف', 'ق', 'ك', 'ل', 'م', 'ن', 'ه', 'و', 'ى', 'ي', 'ً', 'ٌ', 'ٍ', 'َ', 'ُ', 'ِ', 'ّ', 'ْ', 'ٓ', 'ٔ', 'ٕ', 'ٖ', 'ٗ', '٘', 'ٙ', 'ٚ', 'ٛ', 'ٜ', 'ٝ', 'ٞ', 'ٟ', '٠', '١', '٢', '٣', '٤', '٥', '٦', '٧', '٨', '٩', '٪', '٫', '٬', '٭', 'ٮ', 'ٯ', 'ٰ', 'ٱ', 'ٲ', 'ٳ', 'ٴ', 'ٵ', 'ٶ', 'ٷ', 'ٸ', 'ٹ', 'ٺ', 'ٻ', 'ټ', 'ٽ', 'پ', 'ٿ', 'ڀ', 'ځ', 'ڂ', 'ڃ', 'ڄ', 'څ', 'چ', 'ڇ', 'ڈ', 'ډ', 'ڊ', 'ڋ', 'ڌ', 'ڍ', 'ڎ', 'ڏ', 'ڐ', 'ڑ', 'ڒ', 'ړ', 'ڔ', 'ڕ', 'ږ', 'ڗ', 'ژ', 'ڙ', 'ښ', 'ڛ', 'ڜ', 'ڝ', 'ڞ', 'ڟ', 'ڠ', 'ڡ', 'ڢ', 'ڣ', 'ڤ', 'ڥ', 'ڦ', 'ڧ', 'ڨ', 'ک', 'ڪ', 'ګ', 'ڬ', 'ڭ', 'ڮ', 'گ', 'ڰ', 'ڱ', 'ڲ', 'ڳ', 'ڴ', 'ڵ', 'ڶ', 'ڷ', 'ڸ', 'ڹ', 'ں', 'ڻ', 'ڼ', 'ڽ', 'ھ', 'ڿ', 'ۀ', 'ہ', 'ۂ', 'ۃ', 'ۄ', 'ۅ', 'ۆ', 'ۇ', 'ۈ', 'ۉ', 'ۊ', 'ۋ', 'ی', 'ۍ', 'ێ', 'ۏ', 'ې', 'ۑ', 'ے', 'ۓ', '۔', 'ە', 'ۖ', 'ۗ', 'ۘ', 'ۙ', 'ۚ', 'ۛ', 'ۜ', '\\u06dd', '۞', '۟', '۠', 'ۡ', 'ۢ', 'ۣ', 'ۤ', 'ۥ', 'ۦ', 'ۧ', 'ۨ', '۩', '۪', '۫', '۬', 'ۭ', 'ۮ', 'ۯ', '۰', '۱', '۲', '۳', '۴', '۵', '۶', '۷', '۸', '۹', 'ۺ', 'ۻ', 'ۼ', '۽', '۾', 'ۿ', '܀', '܁', '܂', '܃', '܄', '܅', '܆', '܇', '܈', '܉', '܊', '܋', '܌', '܍', '\\u070e', '\\u070f', 'ܐ', 'ܑ', 'ܒ', 'ܓ', 'ܔ', 'ܕ', 'ܖ', 'ܗ', 'ܘ', 'ܙ', 'ܚ', 'ܛ', 'ܜ', 'ܝ', 'ܞ', 'ܟ', 'ܠ', 'ܡ', 'ܢ', 'ܣ', 'ܤ', 'ܥ', 'ܦ', 'ܧ', 'ܨ', 'ܩ', 'ܪ', 'ܫ', 'ܬ', 'ܭ', 'ܮ', 'ܯ', 'ܰ', 'ܱ', 'ܲ', 'ܳ', 'ܴ', 'ܵ', 'ܶ', 'ܷ', 'ܸ', 'ܹ', 'ܺ', 'ܻ', 'ܼ', 'ܽ', 'ܾ', 'ܿ', '݀', '݁', '݂', '݃', '݄', '݅', '݆', '݇', '݈', '݉', '݊', '\\u074b', '\\u074c', 'ݍ', 'ݎ', 'ݏ', 'ݐ', 'ݑ', 'ݒ', 'ݓ', 'ݔ', 'ݕ', 'ݖ', 'ݗ', 'ݘ', 'ݙ', 'ݚ', 'ݛ', 'ݜ', 'ݝ', 'ݞ', 'ݟ', 'ݠ', 'ݡ', 'ݢ', 'ݣ', 'ݤ', 'ݥ', 'ݦ', 'ݧ', 'ݨ', 'ݩ', 'ݪ', 'ݫ', 'ݬ', 'ݭ', 'ݮ', 'ݯ', 'ݰ', 'ݱ', 'ݲ', 'ݳ', 'ݴ', 'ݵ', 'ݶ', 'ݷ', 'ݸ', 'ݹ', 'ݺ', 'ݻ', 'ݼ', 'ݽ', 'ݾ', 'ݿ', 'ހ', 'ށ', 'ނ', 'ރ', 'ބ', 'ޅ', 'ކ', 'އ', 'ވ', 'މ', 'ފ', 'ދ', 'ތ', 'ލ', 'ގ', 'ޏ', 'ސ', 'ޑ', 'ޒ', 'ޓ', 'ޔ', 'ޕ', 'ޖ', 'ޗ', 'ޘ', 'ޙ', 'ޚ', 'ޛ', 'ޜ', 'ޝ', 'ޞ', 'ޟ', 'ޠ', 'ޡ', 'ޢ', 'ޣ', 'ޤ', 'ޥ', 'ަ', 'ާ', 'ި', 'ީ', 'ު', 'ޫ', 'ެ', 'ޭ', 'ޮ', 'ޯ', 'ް', 'ޱ', '\\u07b2', '\\u07b3', '\\u07b4', '\\u07b5', '\\u07b6', '\\u07b7', '\\u07b8', '\\u07b9', '\\u07ba', '\\u07bb', '\\u07bc', '\\u07bd', '\\u07be', '\\u07bf', '߀', '߁', '߂', '߃', '߄', '߅', '߆', '߇', '߈', '߉', 'ߊ', 'ߋ', 'ߌ', 'ߍ', 'ߎ', 'ߏ', 'ߐ', 'ߑ', 'ߒ', 'ߓ', 'ߔ', 'ߕ', 'ߖ', 'ߗ', 'ߘ', 'ߙ', 'ߚ', 'ߛ', 'ߜ', 'ߝ', 'ߞ', 'ߟ', 'ߠ', 'ߡ', 'ߢ', 'ߣ', 'ߤ', 'ߥ', 'ߦ', 'ߧ', 'ߨ', 'ߩ', 'ߪ', '߫', '߬', '߭', '߮', '߯', '߰', '߱', '߲', '߳', 'ߴ', 'ߵ', '߶', '߷', '߸', '߹', 'ߺ', '\\u07fb', '\\u07fc', '\\u07fd', '\\u07fe', '\\u07ff']\n"
     ]
    }
   ],
   "source": [
    "N = 0x800\n",
    "print([chr(code) for code in range(N)])"
   ]
  },
  {
   "cell_type": "markdown",
   "metadata": {
    "deletable": false,
    "dicho": {
     "celltype": "normal",
     "readonly": true
    }
   },
   "source": [
    "*Remarque :* Les polices de ces caractères ne sont pas toutes présentes sur la machine. Dans ce cas, le caractère est représenté par un carré.\n"
   ]
  },
  {
   "cell_type": "markdown",
   "metadata": {
    "deletable": false,
    "dicho": {
     "celltype": "normal",
     "readonly": true
    }
   },
   "source": [
    "Le chiffrement monoalphabétique consiste à choisir une permutation sur l'ensemble des entiers entre 0 et $N-1$ et à appliquer cette permutation à chacun des symboles du texte en clair. La permutation inverse permet de retrouver le message d'origine."
   ]
  },
  {
   "cell_type": "markdown",
   "metadata": {
    "deletable": false,
    "dicho": {
     "celltype": "question",
     "readonly": true
    }
   },
   "source": [
    "### Question 1\n",
    "Coder la fonction `monoalphabetic_cipher`.\n",
    "\n",
    "* *Vous pouvez par exemple implémenter l'algorithme suivant :*\n",
    "\n",
    "```algorithm\n",
    "Fonction Monoalphabetic_cipher(Clear_text, Permutation)\n",
    "    créer une liste vide Ciphered_symbols\n",
    "    Pour chaque Clear_symbol de Clear_text faire\n",
    "        Ciphered_symbol ⟵ chiffré de Clear_symbol\n",
    "        ajouter Ciphered_symbol à la liste Ciphered_symbols\n",
    "    finPour\n",
    "    Ciphered_text ⟵ concaténation des symboles\n",
    "                      de la liste Ciphered_symbols\n",
    "    Retourner Ciphered_text\n",
    "```\n",
    "\n",
    "* *Le second argument de la fonction `monoalphabetic_cipher` est lui-même une fonction qui prend comme argument un entier entre 0 et $N-1$ et qui retourne un entier entre 0 et $N-1$.*\n",
    "\n",
    "  *Pour la concaténation, servez-vous de la méthode [str.join][join].\n",
    "  Évaluez l'instruction `''.join(['a', 'b', 'c'])` pour comprendre l'effet de cette méthode.*\n",
    "\n",
    "[join]: https://docs.python.org/3/library/stdtypes.html#str.join"
   ]
  },
  {
   "cell_type": "code",
   "execution_count": null,
   "metadata": {
    "collapsed": true,
    "deletable": false,
    "dicho": {
     "celltype": "answer"
    }
   },
   "outputs": [],
   "source": [
    "def monoalphabetic_cipher(clear_text, permutation):\n",
    "    \"\"\" Chiffre le texte `clear_text` en appliquant la fonction\n",
    "        `permutation` au code de chaque symbole .\n",
    "    \"\"\"\n",
    "    ### À COMPLÉTER"
   ]
  },
  {
   "cell_type": "code",
   "execution_count": null,
   "metadata": {
    "collapsed": false,
    "deletable": false,
    "dicho": {
     "celltype": "normal",
     "readonly": true
    }
   },
   "outputs": [
    {
     "data": {
      "text/plain": [
       "'Mb!qsêqb!ftu!vo!mpoh!gmfvwf!usborvjmmf'"
      ]
     },
     "execution_count": null,
     "metadata": {},
     "output_type": "execute_result"
    }
   ],
   "source": [
    "def incr(x):\n",
    "    return (x + 1) % N\n",
    "\n",
    "monoalphabetic_cipher(\"La prépa est un long fleuve tranquille\", incr)"
   ]
  },
  {
   "cell_type": "markdown",
   "metadata": {
    "deletable": false,
    "dicho": {
     "celltype": "normal",
     "readonly": true
    }
   },
   "source": [
    "En *Python* les fonctions sont des objets comme les autres (entiers, liste, etc.). À ce titre on peut passer une fonction en argument d'une autre fonction comme ci-dessus.\n",
    "\n",
    "La syntaxe python `lambda` permet de créer un objet de type fonction, sans nécessairement stocker cet objet sous un nom :"
   ]
  },
  {
   "cell_type": "code",
   "execution_count": null,
   "metadata": {
    "collapsed": false,
    "deletable": false,
    "dicho": {
     "celltype": "normal",
     "readonly": true
    }
   },
   "outputs": [
    {
     "data": {
      "text/plain": [
       "<function __main__.<lambda>>"
      ]
     },
     "execution_count": null,
     "metadata": {},
     "output_type": "execute_result"
    }
   ],
   "source": [
    "lambda x: (x + 1) % N"
   ]
  },
  {
   "cell_type": "code",
   "execution_count": null,
   "metadata": {
    "collapsed": false,
    "deletable": false,
    "dicho": {
     "celltype": "normal",
     "readonly": true
    }
   },
   "outputs": [
    {
     "data": {
      "text/plain": [
       "27"
      ]
     },
     "execution_count": null,
     "metadata": {},
     "output_type": "execute_result"
    }
   ],
   "source": [
    "(lambda x: (x + 1) % N)(26)"
   ]
  },
  {
   "cell_type": "code",
   "execution_count": null,
   "metadata": {
    "collapsed": false,
    "deletable": false,
    "dicho": {
     "celltype": "normal",
     "readonly": true
    }
   },
   "outputs": [
    {
     "data": {
      "text/plain": [
       "'Cpokpvs'"
      ]
     },
     "execution_count": null,
     "metadata": {},
     "output_type": "execute_result"
    }
   ],
   "source": [
    "monoalphabetic_cipher('Bonjour', lambda x: (x + 1) % N)"
   ]
  },
  {
   "cell_type": "markdown",
   "metadata": {
    "deletable": false,
    "dicho": {
     "celltype": "normal",
     "readonly": true
    }
   },
   "source": [
    "Les deux écritures ci-dessous sont équivalentes :"
   ]
  },
  {
   "cell_type": "code",
   "execution_count": null,
   "metadata": {
    "collapsed": false,
    "deletable": false,
    "dicho": {
     "celltype": "normal",
     "readonly": true
    }
   },
   "outputs": [
    {
     "data": {
      "text/plain": [
       "7"
      ]
     },
     "execution_count": null,
     "metadata": {},
     "output_type": "execute_result"
    }
   ],
   "source": [
    "def incr(x):\n",
    "    return (x + 1) % N\n",
    "\n",
    "incr(6)"
   ]
  },
  {
   "cell_type": "code",
   "execution_count": null,
   "metadata": {
    "collapsed": false,
    "deletable": false,
    "dicho": {
     "celltype": "normal",
     "readonly": true
    }
   },
   "outputs": [
    {
     "data": {
      "text/plain": [
       "7"
      ]
     },
     "execution_count": null,
     "metadata": {},
     "output_type": "execute_result"
    }
   ],
   "source": [
    "incr = lambda x: (x + 1) % N\n",
    "incr(6)"
   ]
  },
  {
   "cell_type": "markdown",
   "metadata": {
    "deletable": false,
    "dicho": {
     "celltype": "normal",
     "readonly": false
    }
   },
   "source": [
    "> "
   ]
  },
  {
   "cell_type": "markdown",
   "metadata": {
    "deletable": false,
    "dicho": {
     "celltype": "normal",
     "readonly": true
    }
   },
   "source": [
    "Le [chiffrement affine][] est une version particulière du chiffrement\n",
    "monoalphabétique. Il consiste à appliquer la transformation affine\n",
    "$x\\longrightarrow (ax+b) \\bmod N$ sur les codes des symboles du texte à chiffrer. Il est nécessaire de choisir $a$ premier avec $N$ pour garantir que la transformation soit bien bijective.\n",
    "La transformation réciproque est alors elle-même une transformation affine.\n",
    "\n",
    "[chiffrement affine]: https://fr.wikipedia.org/wiki/Chiffre_affine"
   ]
  },
  {
   "cell_type": "markdown",
   "metadata": {
    "deletable": false,
    "dicho": {
     "celltype": "question",
     "readonly": true
    }
   },
   "source": [
    "### Question 2\n",
    "Coder la fonction `affine_cipher`."
   ]
  },
  {
   "cell_type": "code",
   "execution_count": null,
   "metadata": {
    "collapsed": true,
    "deletable": false,
    "dicho": {
     "celltype": "answer"
    }
   },
   "outputs": [],
   "source": [
    "def affine_cipher(clear_text, a, b):\n",
    "    \"\"\" Chiffre le texte `clear_text` par le chiffrement affine\n",
    "        x -> ax + b mod N.\n",
    "    \"\"\"\n",
    "    ### À COMPLÉTER"
   ]
  },
  {
   "cell_type": "code",
   "execution_count": null,
   "metadata": {
    "collapsed": false,
    "deletable": false,
    "dicho": {
     "celltype": "normal",
     "readonly": true
    }
   },
   "outputs": [
    {
     "name": "stdout",
     "output_type": "stream",
     "text": [
      "[76, 97, 32, 112, 114, 233, 112, 97, 32, 101, 115, 116, 32, 117, 110, 32, 108, 111, 110, 103, 32, 102, 108, 101, 117, 118, 101, 32, 116, 114, 97, 110, 113, 117, 105, 108, 108, 101]\n"
     ]
    }
   ],
   "source": [
    "print([ord(symbol) for symbol in \"La prépa est un long fleuve tranquille\"])"
   ]
  },
  {
   "cell_type": "code",
   "execution_count": null,
   "metadata": {
    "collapsed": false,
    "deletable": false,
    "dicho": {
     "celltype": "normal",
     "readonly": true
    }
   },
   "outputs": [
    {
     "data": {
      "text/plain": [
       "'åĤaőŗʼőĤaİŚŝaŠŋaŅŎŋĶaĳŅİŠţİaŝŗĤŋŔŠļŅŅİ'"
      ]
     },
     "execution_count": null,
     "metadata": {},
     "output_type": "execute_result"
    }
   ],
   "source": [
    "affine_cipher(\"La prépa est un long fleuve tranquille\", 3, 1)"
   ]
  },
  {
   "cell_type": "code",
   "execution_count": null,
   "metadata": {
    "collapsed": false,
    "deletable": false,
    "dicho": {
     "celltype": "normal",
     "readonly": true
    }
   },
   "outputs": [
    {
     "name": "stdout",
     "output_type": "stream",
     "text": [
      "[229, 292, 97, 337, 343, 700, 337, 292, 97, 304, 346, 349, 97, 352, 331, 97, 325, 334, 331, 310, 97, 307, 325, 304, 352, 355, 304, 97, 349, 343, 292, 331, 340, 352, 316, 325, 325, 304]\n"
     ]
    }
   ],
   "source": [
    "print([ord(symbol) for symbol in \"åĤaőŗʼőĤaİŚŝaŠŋaŅŎŋĶaĳŅİŠţİaŝŗĤŋŔŠļŅŅİ\"])"
   ]
  },
  {
   "cell_type": "markdown",
   "metadata": {
    "deletable": false,
    "dicho": {
     "celltype": "normal",
     "readonly": false
    }
   },
   "source": [
    "> "
   ]
  },
  {
   "cell_type": "markdown",
   "metadata": {
    "deletable": false,
    "dicho": {
     "celltype": "question",
     "readonly": true
    }
   },
   "source": [
    "### Question 3\n",
    "Quelle est la fonction réciproque de $x\\longrightarrow (3x+1) \\bmod N$ ?\n",
    "\n",
    "> Un petit peu de math, en s'aidant de Python comme calculatrice programmable."
   ]
  },
  {
   "cell_type": "markdown",
   "metadata": {
    "deletable": false,
    "dicho": {
     "celltype": "answer"
    }
   },
   "source": []
  },
  {
   "cell_type": "markdown",
   "metadata": {
    "deletable": false,
    "dicho": {
     "celltype": "normal",
     "readonly": false
    }
   },
   "source": [
    "> "
   ]
  },
  {
   "cell_type": "markdown",
   "metadata": {
    "deletable": false,
    "dicho": {
     "celltype": "normal",
     "readonly": true
    }
   },
   "source": [
    "Il est possible de calculer le modulo inverse de façon plus efficace en utilisant l'[algorithme d'Euclide étendu][euclide]. Cet algorithme permet d'obtenir le *pgcd* de deux entiers $a$ et $b$, ainsi que les coefficients de Bézout $u$ et $v$ tels que \n",
    "\n",
    "$$au+bv=\\mbox{pgcd}(a, b).$$\n",
    "\n",
    "[euclide]: http://fr.wikipedia.org/wiki/Algorithme_d%27Euclide_%C3%A9tendu (Algorithme d'Euclide étendu)"
   ]
  },
  {
   "cell_type": "code",
   "execution_count": null,
   "metadata": {
    "collapsed": false,
    "deletable": false,
    "dicho": {
     "celltype": "normal",
     "readonly": true
    }
   },
   "outputs": [
    {
     "name": "stdout",
     "output_type": "stream",
     "text": [
      "1 -9 47\n"
     ]
    },
    {
     "data": {
      "text/plain": [
       "1"
      ]
     },
     "execution_count": null,
     "metadata": {},
     "output_type": "execute_result"
    }
   ],
   "source": [
    "def euclide(a, b):\n",
    "    \"\"\" Algorithme d'Euclide étendu\n",
    "        Retourne le pgcd de `a` et `b`, ainsi que les coefficients de\n",
    "        Bézout `u` et ` v` tels que au + bv = pgcd(a, b).\n",
    "    \"\"\"\n",
    "    r0, u0, v0, r1, u1, v1 = a, 1, 0, b, 0, 1\n",
    "    while r1 != 0:\n",
    "        q = r0 // r1\n",
    "        r0, u0, v0, r1, u1, v1 = (\n",
    "        r1, u1, v1, r0 - q * r1, u0 - q * u1, v0 - q * v1)\n",
    "    return r0, u0, v0\n",
    "\n",
    "gcd, u, v = euclide(120, 23)\n",
    "print(gcd, u, v)\n",
    "120 * u + 23 * v"
   ]
  },
  {
   "cell_type": "markdown",
   "metadata": {
    "deletable": false,
    "dicho": {
     "celltype": "question",
     "readonly": true
    }
   },
   "source": [
    "### Question 4\n",
    "Coder la fonction `inv_mod(x, n)`.\n",
    "\n",
    "> *Utilisez pour cela la fonction `euclide` en l'appliquant avec `a=x` et `b=n`.*"
   ]
  },
  {
   "cell_type": "code",
   "execution_count": null,
   "metadata": {
    "collapsed": true,
    "deletable": false,
    "dicho": {
     "celltype": "answer"
    }
   },
   "outputs": [],
   "source": [
    "def inv_mod(x, n):\n",
    "    \"\"\" Retourne l'inverse de `x` modulo `n`.\n",
    "    \n",
    "        Rappel : `x` possède un inverse modulo `n` ssi\n",
    "        `x` et `n` sont premiers entre eux.\n",
    "    \"\"\"\n",
    "    ### À COMPLÉTER"
   ]
  },
  {
   "cell_type": "code",
   "execution_count": null,
   "metadata": {
    "collapsed": false,
    "deletable": false,
    "dicho": {
     "celltype": "normal",
     "readonly": true
    }
   },
   "outputs": [
    {
     "data": {
      "text/plain": [
       "683"
      ]
     },
     "execution_count": null,
     "metadata": {},
     "output_type": "execute_result"
    }
   ],
   "source": [
    "inv_mod(3, N)"
   ]
  },
  {
   "cell_type": "markdown",
   "metadata": {
    "deletable": false,
    "dicho": {
     "celltype": "normal",
     "readonly": false
    }
   },
   "source": [
    "> "
   ]
  },
  {
   "cell_type": "markdown",
   "metadata": {
    "deletable": false,
    "dicho": {
     "celltype": "question",
     "readonly": true
    }
   },
   "source": [
    "### Question 5\n",
    "Coder la fonction `affine_decipher`."
   ]
  },
  {
   "cell_type": "code",
   "execution_count": null,
   "metadata": {
    "collapsed": true,
    "deletable": false,
    "dicho": {
     "celltype": "answer"
    }
   },
   "outputs": [],
   "source": [
    "def affine_decipher(ciphered_text, a, b):\n",
    "    \"\"\" Déchiffre le texte `ciphered_text` chiffré par chiffrement\n",
    "        affine x -> ax + b mod N.\n",
    "    \"\"\"\n",
    "    ### À COMPLÉTER"
   ]
  },
  {
   "cell_type": "code",
   "execution_count": null,
   "metadata": {
    "collapsed": false,
    "deletable": false,
    "dicho": {
     "celltype": "normal",
     "readonly": true
    }
   },
   "outputs": [
    {
     "data": {
      "text/plain": [
       "'La prépa est un long fleuve tranquille'"
      ]
     },
     "execution_count": null,
     "metadata": {},
     "output_type": "execute_result"
    }
   ],
   "source": [
    "affine_decipher(\"åĤaőŗʼőĤaİŚŝaŠŋaŅŎŋĶaĳŅİŠţİaŝŗĤŋŔŠļŅŅİ\", 3, 1)"
   ]
  },
  {
   "cell_type": "markdown",
   "metadata": {
    "deletable": false,
    "dicho": {
     "celltype": "normal",
     "readonly": false
    }
   },
   "source": [
    "> "
   ]
  },
  {
   "cell_type": "markdown",
   "metadata": {
    "deletable": false,
    "dicho": {
     "celltype": "question",
     "readonly": true
    }
   },
   "source": [
    "### Question 6\n",
    "Le texte du fichier `data/ciphered-1.txt` a été obtenu par\n",
    "chiffrement affine. La clé est $(a, b) = (11, 8)$.\n",
    "Déchiffrer ce message et le sauvegarder sous le nom `data/clear-1.txt`.\n",
    "\n",
    "> *Le fichier `data/ciphered-1.txt` est un fichier de texte : il contient une chaîne de caractères *unicode* encodée en *utf-8*. \n",
    "Cependant le caractère *saut de ligne* a été lui-même transformé en un autre caractère par l'algorithme de chiffrement. Cela n'a donc plus guère de sens de lire le fichier `data/ciphered` ligne par ligne. Pour cette raison, vous utiliserez la fonction `fd.read()` pour lire l'ensemble du texte et le stocker dans une unique chaîne de caractères python. Ceci ne pose pas de problème ici car il s'agit d'un petit fichier. Pour un très gros fichier, il faudrait le lire et le traiter par blocs, de 1024 caractères par exemple, en écrivant `fd.read(1024)`.*"
   ]
  },
  {
   "cell_type": "code",
   "execution_count": null,
   "metadata": {
    "collapsed": true,
    "deletable": false,
    "dicho": {
     "celltype": "answer"
    }
   },
   "outputs": [],
   "source": []
  },
  {
   "cell_type": "markdown",
   "metadata": {
    "deletable": false,
    "dicho": {
     "celltype": "normal",
     "readonly": true
    }
   },
   "source": [
    "## Partie B — Décryptage par analyse fréquentielle\n",
    "\n",
    "Dans un texte en français les symboles ne sont pas distribués de façon\n",
    "uniforme. Parmi toutes les lettres le `'e'` est a priori très\n",
    "majoritaire. Le caractère `ESPACE` est également très fréquent. Ces fréquences se retrouvent dans le message chiffré et ceci peut être utilisé pour décrypter le texte."
   ]
  },
  {
   "cell_type": "markdown",
   "metadata": {
    "deletable": false,
    "dicho": {
     "celltype": "normal",
     "readonly": false
    }
   },
   "source": [
    "> "
   ]
  },
  {
   "cell_type": "markdown",
   "metadata": {
    "deletable": false,
    "dicho": {
     "celltype": "question",
     "readonly": true
    }
   },
   "source": [
    "### Question 7\n",
    "Coder la fonction `frequencies`.\n",
    "\n",
    "> *Créez une liste de taille $N$ initialisée avec des 0, puis mettez à jour cette liste en lisant un à un les symboles du texte. Retournez cette liste.*"
   ]
  },
  {
   "cell_type": "code",
   "execution_count": null,
   "metadata": {
    "collapsed": true,
    "deletable": false,
    "dicho": {
     "celltype": "answer"
    }
   },
   "outputs": [],
   "source": [
    "def frequencies(text):\n",
    "    \"\"\" Retourne une liste donnant le nombre d'occurrences dans `text`\n",
    "        de chaque symbole de l'alphabet.\n",
    "    \"\"\"\n",
    "    ### À COMPLÉTER"
   ]
  },
  {
   "cell_type": "code",
   "execution_count": null,
   "metadata": {
    "collapsed": false,
    "deletable": false,
    "dicho": {
     "celltype": "normal",
     "readonly": true
    }
   },
   "outputs": [
    {
     "data": {
      "text/plain": [
       "4"
      ]
     },
     "execution_count": null,
     "metadata": {},
     "output_type": "execute_result"
    }
   ],
   "source": [
    "freq = frequencies(\"La prépa est un long fleuve tranquille\")\n",
    "freq[ord('e')]"
   ]
  },
  {
   "cell_type": "markdown",
   "metadata": {
    "deletable": false,
    "dicho": {
     "celltype": "normal",
     "readonly": true
    }
   },
   "source": [
    "Dans la suite du TP nous allons utiliser la biliothèque *matplotlib*.\n",
    "Pour cela exécuter la commande magique *IPython* suivante :"
   ]
  },
  {
   "cell_type": "code",
   "execution_count": null,
   "metadata": {
    "collapsed": false,
    "deletable": false,
    "dicho": {
     "celltype": "normal",
     "readonly": true
    }
   },
   "outputs": [
    {
     "name": "stdout",
     "output_type": "stream",
     "text": [
      "Populating the interactive namespace from numpy and matplotlib\n"
     ]
    }
   ],
   "source": [
    "%pylab inline"
   ]
  },
  {
   "cell_type": "markdown",
   "metadata": {
    "deletable": false,
    "dicho": {
     "celltype": "normal",
     "readonly": true
    }
   },
   "source": [
    "Cette commande a exécutée pour nous :\n",
    "```python\n",
    "import numpy as np\n",
    "import matplotlib.pyplot as plt\n",
    "```\n",
    "Elle a également configurée *matplotlib* pour que les graphiques s'affichent dans le navigateur."
   ]
  },
  {
   "cell_type": "markdown",
   "metadata": {
    "deletable": false,
    "dicho": {
     "celltype": "normal",
     "readonly": false
    }
   },
   "source": [
    "> "
   ]
  },
  {
   "cell_type": "markdown",
   "metadata": {
    "deletable": false,
    "dicho": {
     "celltype": "question",
     "readonly": true
    }
   },
   "source": [
    "### Question 8\n",
    "Représentez les fréquences des symboles du texte `clear-1.txt` sous la forme d'un diagramme en bâtons. Faites de même pour le texte chiffré `ciphered-1.txt`.\n",
    "\n",
    "> *Utilisez pour cela la fonction [matplotlib.pyplot.bar][].*\n",
    "\n",
    "> *La fonction [plt.xlim][] permet si nécessaire de définir l'échelle sur l'axe des abscisses.*\n",
    "\n",
    "[matplotlib.pyplot.bar]: http://matplotlib.org/api/pyplot_api.html#matplotlib.pyplot.bar\n",
    "\n",
    "[plt.xlim]:http://matplotlib.org/api/pyplot_api.html#matplotlib.pyplot.xlim"
   ]
  },
  {
   "cell_type": "code",
   "execution_count": null,
   "metadata": {
    "collapsed": true,
    "deletable": false,
    "dicho": {
     "celltype": "answer"
    }
   },
   "outputs": [],
   "source": []
  },
  {
   "cell_type": "markdown",
   "metadata": {
    "deletable": false,
    "dicho": {
     "celltype": "normal",
     "readonly": false
    }
   },
   "source": [
    "> "
   ]
  },
  {
   "cell_type": "markdown",
   "metadata": {
    "deletable": false,
    "dicho": {
     "celltype": "question",
     "readonly": true
    }
   },
   "source": [
    "### Question 9\n",
    "Le texte du fichier `data/ciphered-2.txt` a été obtenu par chiffrement affine mais vous ne connaissez pas la clé.\n",
    "\n",
    "Décryptez ce texte.\n",
    "\n",
    "> *Déchiffrer* un message signifie appliquer l'algorithme de déchiffrement. Cela suppose donc de connaître la clé.\n",
    "\n",
    "> *Décrypter* un message signifie retrouver le texte en clair sans avoir connaissance de la clé.\n",
    "\n",
    "Pour cette question la fonction python [sorted][] pourra vous être utile.\n",
    "Elle permet de trier les éléments d'un itérable selon un certain critère.\n",
    "\n",
    "[sorted]:https://docs.python.org/3/library/functions.html#sorted"
   ]
  },
  {
   "cell_type": "code",
   "execution_count": null,
   "metadata": {
    "collapsed": true,
    "deletable": false,
    "dicho": {
     "celltype": "answer"
    }
   },
   "outputs": [],
   "source": []
  },
  {
   "cell_type": "markdown",
   "metadata": {
    "deletable": false,
    "dicho": {
     "celltype": "normal",
     "readonly": false
    }
   },
   "source": [
    "> "
   ]
  },
  {
   "cell_type": "markdown",
   "metadata": {
    "deletable": false,
    "dicho": {
     "celltype": "normal",
     "readonly": true
    }
   },
   "source": [
    "## Partie C — Chiffrement de Vigenère\n",
    "\n",
    "L'algorithme de Vigenère est un système de chiffrement polyalphabétique. C'est un chiffrement par substitution, mais, suivant sa position dans le texte en clair, un même symbole peut être remplacé par des symboles différents. \n",
    "Cette méthode résiste ainsi à l'analyse de fréquences, ce qui est un avantage décisif sur les chiffrements monoalphabétiques.\n",
    "Cependant le chiffre de Vigenère a été cassé par le major prussien\n",
    "Friedrich Kasiski qui a publié sa méthode en 1863. \n",
    "Depuis cette époque, il n'offre plus aucune sécurité."
   ]
  },
  {
   "cell_type": "markdown",
   "metadata": {
    "deletable": false,
    "dicho": {
     "celltype": "question",
     "readonly": true
    }
   },
   "source": [
    "### Question 10\n",
    "\n",
    "Lisez l'article de Wikipedia pour étudier l'algorithme de chiffrement et comprendre pourquoi il résiste à une analyse fréquentielle comme celle que vous avez effectuée précédemment."
   ]
  },
  {
   "cell_type": "markdown",
   "metadata": {
    "deletable": false,
    "dicho": {
     "celltype": "normal",
     "readonly": false
    }
   },
   "source": [
    "> "
   ]
  },
  {
   "cell_type": "markdown",
   "metadata": {
    "deletable": false,
    "dicho": {
     "celltype": "question",
     "readonly": true
    }
   },
   "source": [
    "### Question 11\n",
    "\n",
    "Coder la fonction `vigenere_cipher` :"
   ]
  },
  {
   "cell_type": "code",
   "execution_count": null,
   "metadata": {
    "collapsed": true,
    "deletable": false,
    "dicho": {
     "celltype": "answer"
    }
   },
   "outputs": [],
   "source": [
    "def vigenere_cipher(clear_text, key):\n",
    "    \"\"\" Chiffre le texte `clear_text` par `chiffrement de Vigenère\n",
    "        avec la clé `key`.\n",
    "    \"\"\"\n",
    "    ### À COMPLÉTER"
   ]
  },
  {
   "cell_type": "markdown",
   "metadata": {
    "deletable": false,
    "dicho": {
     "celltype": "normal",
     "readonly": false
    }
   },
   "source": [
    "> "
   ]
  },
  {
   "cell_type": "markdown",
   "metadata": {
    "deletable": false,
    "dicho": {
     "celltype": "question",
     "readonly": true
    }
   },
   "source": [
    "### Question 12\n",
    "\n",
    "Coder la fonction `vigenere_decipher` :"
   ]
  },
  {
   "cell_type": "code",
   "execution_count": null,
   "metadata": {
    "collapsed": true,
    "deletable": false,
    "dicho": {
     "celltype": "answer"
    }
   },
   "outputs": [],
   "source": [
    "def vigenere_decipher(ciphered_text, key):\n",
    "    \"\"\" Chiffre le texte `clear_text` par `chiffrement de Vigenère\n",
    "        avec la clé `key`.\n",
    "    \"\"\"\n",
    "    ### À COMPLÉTER"
   ]
  },
  {
   "cell_type": "markdown",
   "metadata": {
    "deletable": false,
    "dicho": {
     "celltype": "normal",
     "readonly": false
    }
   },
   "source": [
    "> "
   ]
  },
  {
   "cell_type": "markdown",
   "metadata": {
    "deletable": false,
    "dicho": {
     "celltype": "question",
     "readonly": true
    }
   },
   "source": [
    "### Question 13\n",
    "\n",
    "Le texte du fichier `data/ciphered-3.txt` a été chiffré par l'algorithme de Vigenère avec la clé : \"La prépa est un long fleuve tranquille\".\n",
    "\n",
    "Déchiffrer ce texte."
   ]
  },
  {
   "cell_type": "code",
   "execution_count": null,
   "metadata": {
    "collapsed": true,
    "deletable": false,
    "dicho": {
     "celltype": "answer"
    }
   },
   "outputs": [],
   "source": []
  },
  {
   "cell_type": "markdown",
   "metadata": {
    "deletable": false,
    "dicho": {
     "celltype": "normal",
     "readonly": false
    }
   },
   "source": [
    "> "
   ]
  },
  {
   "cell_type": "markdown",
   "metadata": {
    "deletable": false,
    "dicho": {
     "celltype": "question",
     "readonly": true
    }
   },
   "source": [
    "### Question 14\n",
    "\n",
    "Vérifier que vous retrouvez bien le texte chiffré de `data/ciphered-3.txt` à l'aide de votre fonction `vigenere_decipher`."
   ]
  },
  {
   "cell_type": "code",
   "execution_count": null,
   "metadata": {
    "collapsed": true,
    "deletable": false,
    "dicho": {
     "celltype": "answer"
    }
   },
   "outputs": [],
   "source": []
  },
  {
   "cell_type": "markdown",
   "metadata": {
    "deletable": false,
    "dicho": {
     "celltype": "normal",
     "readonly": true
    }
   },
   "source": [
    "## Partie D - Cryptanalyse d'un texte chiffré par l'algorithme de Vigenère "
   ]
  },
  {
   "cell_type": "markdown",
   "metadata": {
    "deletable": false,
    "dicho": {
     "celltype": "normal",
     "readonly": true
    }
   },
   "source": [
    "L'objectif de cette partie est de décrypter le texte `data/ciphered-4.txt`.\n",
    "\n",
    "La première étape pour décrypter un texte chiffré par l'algorithme de Vigenère consiste à déterminer la longueur de la clé. On recherche pour cela des répétitions de séquence de symboles dans le texte chiffré. L'explication la plus probable de ces répétitions est qu'elles préexistaient déjà dans le texte en clair et qu'elles ont été chiffrées par la même partie de la clé. Dans cette hypothèse la distance séparant les diverses occurrences de ces séquences identiques est un multiple de la longueur de la clé."
   ]
  },
  {
   "cell_type": "markdown",
   "metadata": {
    "deletable": false,
    "dicho": {
     "celltype": "normal",
     "readonly": false
    }
   },
   "source": [
    "> "
   ]
  },
  {
   "cell_type": "markdown",
   "metadata": {
    "deletable": false,
    "dicho": {
     "celltype": "question",
     "readonly": true
    }
   },
   "source": [
    "### Question 15\n",
    "\n",
    "Coder la fonction `positions_occurrences` :"
   ]
  },
  {
   "cell_type": "code",
   "execution_count": null,
   "metadata": {
    "collapsed": true,
    "deletable": false,
    "dicho": {
     "celltype": "answer"
    }
   },
   "outputs": [],
   "source": [
    "def positions_occurrences(ciphered_text, length):\n",
    "    \"\"\" Retourne un dictionnaire qui donne, pour chaque mot de longueur\n",
    "        `length` qui apparaît dans le texte `ciphered_text`, la liste des\n",
    "        positions où ce mot apparaît.\n",
    "    \"\"\"\n",
    "    ### À COMPLÉTER"
   ]
  },
  {
   "cell_type": "markdown",
   "metadata": {
    "deletable": false,
    "dicho": {
     "celltype": "normal",
     "readonly": true
    }
   },
   "source": [
    "***Remarque :*** *Par *mot* on entend ici une suite quelconque de caractères. Ceux ne sont donc pas nécessairemement des mots dans le sens courant.*"
   ]
  },
  {
   "cell_type": "markdown",
   "metadata": {
    "deletable": false,
    "dicho": {
     "celltype": "normal",
     "readonly": false
    }
   },
   "source": [
    "> "
   ]
  },
  {
   "cell_type": "markdown",
   "metadata": {
    "deletable": false,
    "dicho": {
     "celltype": "question",
     "readonly": true
    }
   },
   "source": [
    "### Question 16\n",
    "\n",
    "Conjecturer la longueur de la clé à partir du dictionnaire retourné par `positions_occurrences`."
   ]
  },
  {
   "cell_type": "code",
   "execution_count": null,
   "metadata": {
    "collapsed": true,
    "deletable": false,
    "dicho": {
     "celltype": "answer"
    }
   },
   "outputs": [],
   "source": []
  },
  {
   "cell_type": "markdown",
   "metadata": {
    "deletable": false,
    "dicho": {
     "celltype": "normal",
     "readonly": false
    }
   },
   "source": [
    "> "
   ]
  },
  {
   "cell_type": "markdown",
   "metadata": {
    "deletable": false,
    "dicho": {
     "celltype": "normal",
     "readonly": true
    }
   },
   "source": [
    "Pour continuer, nous avons besoin de la notion d'*indice de coïncidence*.\n",
    "La variation de fréquences entre les divers symboles d'un texte peut être mesurée par un indicateur appelé *Indice de Coïncidence* qui se calcule par la formule suivante :\n",
    "\n",
    "$$IC = \\sum_{q\\in\\scriptsize\\mbox{Texte}}\\frac{n_q(n_q - 1)}{n(n - 1)}$$\n",
    "\n",
    "où $n$ est la longueur du texte et $n_q$ le nombre d'occurrences du\n",
    "symbole $q$ dans le texte.\n",
    "\n",
    "Vous pouvez vérifier que l'$IC$ est égal à la probabilité d'obtenir deux\n",
    "symboles identiques lorsque l'on choisit au hasard deux symboles du texte.\n",
    "L'$IC$ est minimal lorsque tous les symboles du texte ont le même nombre\n",
    "d'occurrences."
   ]
  },
  {
   "cell_type": "markdown",
   "metadata": {
    "deletable": false,
    "dicho": {
     "celltype": "question",
     "readonly": true
    }
   },
   "source": [
    "### Question 17\n",
    "\n",
    "Coder la fonction `IC` :"
   ]
  },
  {
   "cell_type": "code",
   "execution_count": null,
   "metadata": {
    "collapsed": true,
    "deletable": false,
    "dicho": {
     "celltype": "answer"
    }
   },
   "outputs": [],
   "source": [
    "def IC(text):\n",
    "    \"\"\" Retourne l'Indice de Coincidence de `text`.\n",
    "    \"\"\"\n",
    "    ### À COMPLÉTER"
   ]
  },
  {
   "cell_type": "markdown",
   "metadata": {
    "deletable": false,
    "dicho": {
     "celltype": "normal",
     "readonly": false
    }
   },
   "source": [
    "> "
   ]
  },
  {
   "cell_type": "markdown",
   "metadata": {
    "deletable": false,
    "dicho": {
     "celltype": "question",
     "readonly": true
    }
   },
   "source": [
    "### Question 18\n",
    "\n",
    "Vérifier que votre fonction `IC` retourne bien une valeur proche de 1/26 lorque le texte contient 1000 occurrences de chacunes des 26 lettres de l'alphabet."
   ]
  },
  {
   "cell_type": "code",
   "execution_count": null,
   "metadata": {
    "collapsed": true,
    "deletable": false,
    "dicho": {
     "celltype": "answer"
    }
   },
   "outputs": [],
   "source": []
  },
  {
   "cell_type": "code",
   "execution_count": null,
   "metadata": {
    "collapsed": false,
    "deletable": false,
    "dicho": {
     "celltype": "normal",
     "readonly": true
    }
   },
   "outputs": [
    {
     "data": {
      "text/plain": [
       "0.038461538461538464"
      ]
     },
     "execution_count": null,
     "metadata": {},
     "output_type": "execute_result"
    }
   ],
   "source": [
    "1/26"
   ]
  },
  {
   "cell_type": "markdown",
   "metadata": {
    "deletable": false,
    "dicho": {
     "celltype": "normal",
     "readonly": false
    }
   },
   "source": [
    "> "
   ]
  },
  {
   "cell_type": "markdown",
   "metadata": {
    "deletable": false,
    "dicho": {
     "celltype": "normal",
     "readonly": true
    }
   },
   "source": [
    "Soit $T$ un texte et $s$ un entier tel que $0\\leq s\\lt N$.\n",
    "Soit $\\mbox{translate}(T, s)$ le texte que l'on obtient si on effectue une translation de $s \\bmod N$ sur chacun des codes des symboles de $T$.\n",
    "\n",
    "Soit $K$ le texte clé et soit $T_i$ ($0\\leq i\\lt k$) le texte formé des symboles $T[i]$, $T[i+k]$, $T[i+2k]$, $\\dots$, où $T$ est le texte à décrypter et $k$ la longueur de la clé. Nous pouvons remarquer que le texte $T_i$ a été entièrement chiffré à partir du symbole $K[i]$.\n",
    "\n",
    "\n",
    "Posons $s_i=\\mbox{ord}(K[i])−\\mbox{ord}(K[0])$.\n",
    "Le nombre $s_i$ est le décalage relatif entre le chiffrement de $T_0$ et celui de $T_i$. Pour trouver la valeur des $s_i$ nous allons utiliser la notion d'*indice de coïncidence* en appliquant l'algorithme ci-dessous :\n",
    "\n",
    "```\n",
    "Fonction relative_shift(T, k, i)\n",
    "    T0 <-- texte formé des symboles T[0], T[k], T[2k], ...\n",
    "    Ti <-- texte formé des symboles T[i], T[i+k], T[i+2k], ...\n",
    "    icmax <-- 0\n",
    "    shift <-- 0\n",
    "    Pour s variant de 0 à N-1 faire\n",
    "        concat_text <-- Concaténation de T0 et de translate(Ti, -s)\n",
    "        ic <-- IC(concat_text)\n",
    "        Si ic > icmax alors\n",
    "            icmax <-- ic\n",
    "            shift <-- s\n",
    "        Finsi\n",
    "    FinPour\n",
    "    Retourner shift\n",
    "```\n",
    "\n",
    "L'idée principale pour décrypter le message est contenu dans cet algorithme. **Lorsque les deux textes $T_0$ et $\\mbox{translate}(T_i, -s)$ sont décalés de façon identique par rapport au texte original alors l'indice de coïncidence de leur concaténation est maximal.**\n",
    "    \n",
    "> *Prenez le temps d'y réfléchir pour vous en convaincre.*"
   ]
  },
  {
   "cell_type": "markdown",
   "metadata": {
    "deletable": false,
    "dicho": {
     "celltype": "question",
     "readonly": true
    }
   },
   "source": [
    "### Question 19\n",
    "\n",
    "Coder la fonction `relative_shift`."
   ]
  },
  {
   "cell_type": "code",
   "execution_count": null,
   "metadata": {
    "collapsed": true,
    "deletable": false,
    "dicho": {
     "celltype": "answer"
    }
   },
   "outputs": [],
   "source": [
    "def relative_shift(text, k, i):\n",
    "    \"\"\" Retourne le décalage relatif entre les codes du premier symbole\n",
    "        de la clé (indice 0) et le (i+1)-ième (indice i).\n",
    "    \"\"\"\n",
    "    ### À COMPLÉTER"
   ]
  },
  {
   "cell_type": "markdown",
   "metadata": {
    "deletable": false,
    "dicho": {
     "celltype": "normal",
     "readonly": false
    }
   },
   "source": [
    "> "
   ]
  },
  {
   "cell_type": "markdown",
   "metadata": {
    "deletable": false,
    "dicho": {
     "celltype": "question",
     "readonly": true
    }
   },
   "source": [
    "### Question 20\n",
    "\n",
    "Créer la liste `shifts` contenant les valeurs de $s_i$ pour $0\\leq i\\lt k$."
   ]
  },
  {
   "cell_type": "code",
   "execution_count": null,
   "metadata": {
    "collapsed": true,
    "deletable": false,
    "dicho": {
     "celltype": "answer"
    }
   },
   "outputs": [],
   "source": []
  },
  {
   "cell_type": "markdown",
   "metadata": {
    "deletable": false,
    "dicho": {
     "celltype": "normal",
     "readonly": false
    }
   },
   "source": [
    "> "
   ]
  },
  {
   "cell_type": "markdown",
   "metadata": {
    "deletable": false,
    "dicho": {
     "celltype": "question",
     "readonly": true
    }
   },
   "source": [
    "### Question 21\n",
    "\n",
    "Notons `ciphered_text` le texte à déchiffrer, `clear_text` le texte original à retrouver et `translated_text` le texte `translate(clear_text, ord(K[0]))`.\n",
    "\n",
    "Retrouver le texte `translated_text` à partir de `ciphered_text`, de `k` et de la liste `shifts`."
   ]
  },
  {
   "cell_type": "code",
   "execution_count": null,
   "metadata": {
    "collapsed": true,
    "deletable": false,
    "dicho": {
     "celltype": "answer"
    }
   },
   "outputs": [],
   "source": [
    "def get_translated_text(ciphered_text, k, shifts):\n",
    "    \"\"\" Retourne le texte `translated_text` à partir de `ciphered_text`,\n",
    "        `k` et de `shifts`.\n",
    "    \"\"\"\n",
    "    ### À COMPLÉTER\n",
    "\n",
    "translated_text = get_translated_text(ciphered_text, k, shifts)"
   ]
  },
  {
   "cell_type": "markdown",
   "metadata": {
    "deletable": false,
    "dicho": {
     "celltype": "normal",
     "readonly": false
    }
   },
   "source": [
    "> "
   ]
  },
  {
   "cell_type": "markdown",
   "metadata": {
    "deletable": false,
    "dicho": {
     "celltype": "question",
     "readonly": true
    }
   },
   "source": [
    "### Question 22\n",
    "\n",
    "Retrouver le texte `clear_text`."
   ]
  },
  {
   "cell_type": "code",
   "execution_count": null,
   "metadata": {
    "collapsed": true,
    "deletable": false,
    "dicho": {
     "celltype": "answer"
    }
   },
   "outputs": [],
   "source": []
  },
  {
   "cell_type": "markdown",
   "metadata": {
    "deletable": false,
    "dicho": {
     "celltype": "normal",
     "readonly": false
    }
   },
   "source": [
    "> "
   ]
  }
 ],
 "metadata": {
  "dicho": {
   "author": "Denis Pinsard",
   "contact": "(prénom).(nom)@dichotomies.fr",
   "created": "2015-09-18",
   "description": "Algorithme de chiffrement monoalphabétique,\n    algorithme de Vigenère, cryptanalyse",
   "dockey": "SXV959",
   "license": true,
   "logo": true,
   "readonly": true,
   "subtitle": "Travaux pratiques",
   "title": "Cryptographie",
   "updated": "2015-09-24",
   "uri": "http://dichotomies.fr/2015/informatique/info2/travaux-pratiques/cryptographie/"
  },
  "kernelspec": {
   "display_name": "Python 3",
   "language": "python",
   "name": "python3"
  },
  "language_info": {
   "codemirror_mode": {
    "name": "ipython",
    "version": 3
   },
   "file_extension": ".py",
   "mimetype": "text/x-python",
   "name": "python",
   "nbconvert_exporter": "python",
   "pygments_lexer": "ipython3",
   "version": "3.5.1"
  }
 },
 "nbformat": 4,
 "nbformat_minor": 0
}
