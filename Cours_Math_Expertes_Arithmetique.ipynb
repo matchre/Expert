{
 "cells": [
  {
   "cell_type": "markdown",
   "metadata": {},
   "source": [
    "![En tête general](img/En_tete_general.png)\n",
    "\n",
    "\n",
    "*(C) Copyright Franck CHEVRIER 2019-2020 http://www.python-lycee.com/*\n",
    "\n",
    "<span style=\"color: #9317B4\"> Pour exécuter une saisie Python, sélectionner la cellule et valider avec </span><span style=\"color: #B317B4\"><strong>SHIFT+Entrée</strong></span>."
   ]
  },
  {
   "cell_type": "markdown",
   "metadata": {},
   "source": [
    "<BLOCKQUOTE style='background-color:#000000;'>\n",
    "\n",
    "<h1 style=\"color:#FFFFFF; font-size: 32px; text-align: center\"> COURS  DE TERMINALE - MATHEMATIQUES EXPERTES </h1>\n",
    "\n",
    "</BLOCKQUOTE>"
   ]
  },
  {
   "cell_type": "markdown",
   "metadata": {},
   "source": [
    "Programme officiel : <a href=\"https://www.python-lycee.com/tale-math-expertes\">Programme Tale Math Expertes</a>\n",
    "\n",
    "<span style='color:#A00D91'>Liens vers les exercices et démonstrations du manuel : <a href=\"https://www.enseignants.hachette-education.com/livres/barbazo-mathematiques-expertes-terminales-livre-eleve-ed-2020-9782017866213\">Collection Barbazo - Option Mathématiques Expertes - Programme 2020</a>.</span>\n",
    "\n",
    "<span style='color:#A00D91'>Pour consulter le manuel, <a href=\"https://fr.calameo.com/read/004822953b9519a03ed95?authid=fDKyhjjuvqfd\">cliquer ici</a>."
   ]
  },
  {
   "cell_type": "markdown",
   "metadata": {},
   "source": [
    "<BLOCKQUOTE style='background-color:#000000;'>\n",
    "<h2 id=\"Arithmetique\" style=\"color:#FFFFFF; font-size: 28px;\">Arithmétique</h2>\n",
    "</BLOCKQUOTE>"
   ]
  },
  {
   "cell_type": "markdown",
   "metadata": {},
   "source": [
    "### Sommaire\n",
    "\n",
    "<ol>\n",
    "    <li><a href=\"#Diveucl\">Division euclidienne et divisibilité</a></li>\n",
    "    <li><a href=\"#Congruence\">Congruence dans $\\mathbb{Z}$</a></li>\n",
    "    <li><a href=\"#PGCD\">PGCD et algorithme d'Euclide</a></li>\n",
    "    <li><a href=\"#Bezout\">Nombres premiers entre eux, théorème de Bézout, théorème de Gauss</a></li>\n",
    "    <li><a href=\"#diophantienne\">Résolution d'équations diophantiennes</a></li>\n",
    "    <li><a href=\"#premiers\">Nombres premiers</a></li>\n",
    "</ol>\n"
   ]
  },
  {
   "cell_type": "markdown",
   "metadata": {},
   "source": [
    "<BLOCKQUOTE id=\"Diveucl\" style='background-color:#BBBBBB;'>\n",
    "<h3 style=\"font-size: 24px;\">1. Division euclidienne et divisibilité </h3>\n",
    "</BLOCKQUOTE>"
   ]
  },
  {
   "cell_type": "markdown",
   "metadata": {},
   "source": [
    "<strong>Notations :</strong><br>\n",
    "<ul>\n",
    "    <li>On note $\\mathbb{N}$ l'ensemble des nombres entiers naturels. $\\mathbb{N}=\\left\\{0;1;2;...\\right\\}$.</li>\n",
    "    <li>On note $\\mathbb{N}^*$ l'ensemble des nombres entiers naturels non nuls.</li> \n",
    "    <li>On note $\\mathbb{Z}$ l'ensemble des nombres entiers relatifs. $\\mathbb{Z}=\\left\\{...;-2;-1;0;1;2;...\\right\\}$</li>\n",
    "    <li>On note $\\mathbb{Z}^*$ l'ensemble des nombres entiers relatifs non nuls.</li>\n",
    "</ul>"
   ]
  },
  {
   "cell_type": "markdown",
   "metadata": {},
   "source": [
    "<BLOCKQUOTE style='background-color:#CFB5B6;'>\n",
    "<strong>Théorème :</strong> <span style=\"color:#BB0000\">Division euclidienne d'un entier naturel par un entier naturel non nul.</span><br><br>\n",
    "Pour tout $a \\in \\mathbb{N}$ et $b \\in \\mathbb{N}^*$,<br>\n",
    "il existe un unique couple $(q;r)$ avec $q \\in \\mathbb{N}$ et $r \\in \\mathbb{N}$ tels que :\n",
    "$\\begin{Bmatrix} a=bq+r \\\\ 0 \\leq r < b  \\end{Bmatrix}$.<br>\n",
    "</BLOCKQUOTE>\n",
    "<br>\n",
    "<strong>Remarque :</strong><br>\n",
    "Avec les notations mathématiques des <a href=\"https://fr.wikipedia.org/wiki/Quantificateur_(logique)\">quantificateurs</a>, ce théorème peut s'écrire:<br>\n",
    "$\\forall (a;b) \\in \\mathbb{N} \\times \\mathbb{N}^* \\;\\; ; \\;\\; \\exists! (q;r) \\in \\mathbb{N}^{*2} \\;\\; / \\;\\; \\begin{Bmatrix} a=bq+r \\\\ 0 \\leq r < b  \\end{Bmatrix}$\n",
    "<br>\n",
    "<strong>Vocabulaire :</strong><br>\n",
    "$a,b,q,r$ sont respectivement le dividende, le diviseur, le quotient et le reste de la division euclidienne de $a$ par $b$.\n",
    "<br><br>\n",
    "<strong>Illustration graphique :</strong>"
   ]
  },
  {
   "cell_type": "code",
   "execution_count": null,
   "metadata": {},
   "outputs": [],
   "source": [
    "# Activer cette cellule (SHIFT+Entrée) pour faire apparaître la figure dynamique\n",
    "from IPython.display import display, HTML ; display(HTML('fig_dyn_GeoGebra/div_eucl_nat.html'))"
   ]
  },
  {
   "cell_type": "markdown",
   "metadata": {},
   "source": [
    "<BLOCKQUOTE style='background-color:#CFB5B6;'>\n",
    "<strong>Théorème :</strong> <span style=\"color:#BB0000\">Division euclidienne d'un entier relatif par un entier naturel non nul.</span><br><br>\n",
    "Pour tout $a \\in \\mathbb{Z}$ et $b \\in \\mathbb{N}^*$,<br>\n",
    "il existe un unique couple $(q;r)$ avec $q \\in \\mathbb{Z}$ et $r \\in \\mathbb{N}$ tels que :\n",
    "$\\begin{Bmatrix} a=bq+r \\\\ 0 \\leq r <  b  \\end{Bmatrix}$.\n",
    "</BLOCKQUOTE>\n",
    "\n",
    "<p style='text-align:right'><span style='color:#A00D91'>Démonstration p122 du manuel</span></p>\n",
    "\n",
    "<strong>Remarque :</strong><br>\n",
    "Ce théorème peut s'écrire :<br>\n",
    "$\\forall (a;b) \\in \\mathbb{Z} \\times \\mathbb{N}^* \\;\\; ; \\;\\; \\exists! (q;r) \\in \\mathbb{Z} \\times \\mathbb{N} \\;\\; / \\;\\; \\begin{Bmatrix} a=bq+r \\\\ 0 \\leq r <  b  \\end{Bmatrix}$<br><br>\n",
    "\n",
    "<strong>Illustration graphique :</strong>"
   ]
  },
  {
   "cell_type": "code",
   "execution_count": null,
   "metadata": {},
   "outputs": [],
   "source": [
    "# Activer cette cellule (SHIFT+Entrée) pour faire apparaître la figure dynamique\n",
    "from IPython.display import display, HTML ; display(HTML('fig_dyn_GeoGebra/div_eucl_rel.html'))"
   ]
  },
  {
   "cell_type": "markdown",
   "metadata": {},
   "source": [
    "<strong>Syntaxe Python :</strong>"
   ]
  },
  {
   "cell_type": "code",
   "execution_count": null,
   "metadata": {},
   "outputs": [],
   "source": [
    "a = -25 ; b = 7\n",
    "\n",
    "q = a//b # Syntaxe de calcul du quotient de la division euclidienne de a par b\n",
    "r = a%b  # Syntaxe de calcul du reste de la division euclidienne de a par b\n",
    "\n",
    "q,r # Affichage de q et r"
   ]
  },
  {
   "cell_type": "markdown",
   "metadata": {},
   "source": [
    "<strong>Exercices :</strong><br>\n",
    "<ul>\n",
    "    <li><span style='color:#A00D91'>Dans le manuel : n°19,21,24 p126,127</span></li>\n",
    "    <li>Écrire une fonction Python <mark>div_euclidienne</mark> qui reçoit <mark>a</mark> et <mark>b</mark> en arguments et qui renvoie <mark>q,r</mark> où q et r sont le quotient et le reste de la division euclidienne de <mark>a</mark> par <mark>b</mark>. Utiliser cette fonction pour effectuer des vérifications des résultats des autres exercices."
   ]
  },
  {
   "cell_type": "code",
   "execution_count": null,
   "metadata": {},
   "outputs": [],
   "source": [
    "# Écrire ici la fonction div_euclidienne\n"
   ]
  },
  {
   "cell_type": "code",
   "execution_count": null,
   "metadata": {},
   "outputs": [],
   "source": [
    "# Tester ici la fonction div_euclidienne\n"
   ]
  },
  {
   "cell_type": "markdown",
   "metadata": {},
   "source": [
    "<BLOCKQUOTE style='background-color:#ACF5DA;'>\n",
    "<strong>Définition :</strong> <span style=\"color:#0F8257\">Divisibilité dans $\\mathbb{Z}$.</span><br><br>\n",
    "Soit $a \\in \\mathbb{Z}$ et $b \\in \\mathbb{Z}^*$.<br>\n",
    "    On dit que <strong>$b$ divise $a$</strong> s'il existe $q \\in \\mathbb{Z}$ tel que $a=bq$.\n",
    "</BLOCKQUOTE>\n",
    "\n",
    "<strong>Remarque :</strong><br>\n",
    "<ul>\n",
    "    <li> Dans le cas où $b$ divise $a$, on dit aussi que:\n",
    "        <ul>\n",
    "            <li>$b$ est un diviseur de $a$</li>\n",
    "            <li>$a$ est divisible par $b$</li>\n",
    "            <li>$a$ est un multiple de $b$</li>\n",
    "        </ul>\n",
    "    </li>\n",
    "    <li> Si $b \\in \\mathbb{N}^*$, alors on a : <br> $b$ divise $a$ si et seulement si le reste de la division euclidienne de $a$ par $b$ est nul..</li>\n",
    "\n",
    "</ul>"
   ]
  },
  {
   "cell_type": "markdown",
   "metadata": {},
   "source": [
    "<strong>Exercices :</strong>\n",
    "<ul>\n",
    "    <li><span style='color:#A00D91'>Dans le manuel : n°3,5,8,11,12 p126</span></li>\n",
    "    <li>Écrire une fonction Python <mark>diviseurs</mark> qui reçoit <mark>a</mark> en argument et qui renvoie la liste des diviseurs <strong>positifs</strong> de <mark>a</mark>. <br>Aide: On pourra écrire une boucle pour tester les nombres candidats.\n",
    "    </li>"
   ]
  },
  {
   "cell_type": "code",
   "execution_count": null,
   "metadata": {},
   "outputs": [],
   "source": [
    "# Écrire ici la fonction diviseurs\n"
   ]
  },
  {
   "cell_type": "code",
   "execution_count": null,
   "metadata": {},
   "outputs": [],
   "source": [
    "# Tester ici la fonction diviseurs\n"
   ]
  },
  {
   "cell_type": "markdown",
   "metadata": {},
   "source": [
    "<strong>Notation :</strong><br>\n",
    "Pour tout $a \\in \\mathbb{Z}$, on note $D(a)$ l'ensemble des diviseurs de $a$.<br>\n",
    "Ainsi $b \\in D(a)$ se lit \" $b$ divise $a$ \"."
   ]
  },
  {
   "cell_type": "markdown",
   "metadata": {},
   "source": [
    "<BLOCKQUOTE style='background-color:#F9C47B;'>\n",
    "<strong>Propriétés :</strong> <span style=\"color:#AE6602\">Ensemble des diviseurs d'un entier.</span><br><br>\n",
    "Soit $a \\in \\mathbb{Z}$ ; $b \\in \\mathbb{Z}$ et $c \\in \\mathbb{Z}$.\n",
    "<ol>\n",
    "    <li> $\\;\\;$ Si $a \\ne 0$, les éléments de $D(a)$ sont compris entre $-a$ et $a$, et par conséquent $D(a)$ est un ensemble fini.</li>\n",
    "    <li> $\\;\\;$ $b \\in D(a) \\Longleftrightarrow -b \\in D(a) \\Longleftrightarrow b \\in D(-a) \\Longleftrightarrow -b \\in D(-a)$</li>\n",
    "    <li> $\\;\\;$ Si $a \\in D(b)$ et $b \\in D(c)$ alors $a \\in D(c)$.</li>\n",
    "    <li> $\\;\\;$ Si $a \\in D(b)$ et $a \\in D(c)$ alors $a \\in D(bu+cv)$ pour tout couple $(u;v) \\in \\mathbb{Z}^2$.<br>$\\;\\;$NB : Un nombre de la forme $bu+cv$ avec $(u;v) \\in \\mathbb{Z}^2$ s'appelle une <strong>combinaison linéaire</strong> de $b$ et $c$.</li>\n",
    "</ol>"
   ]
  },
  {
   "cell_type": "markdown",
   "metadata": {},
   "source": [
    "<strong>Exemples :</strong><br><br>\n",
    "$D(10)=\\left\\{-10;-5;-2;-1;1;2;5;10\\right\\}$\n",
    "<ol>\n",
    "    <li> $\\;\\;$ $D(10)=\\left\\{-10;-5;-2;-1;1;2;5;10\\right\\}$<br>$\\;\\;$Les éléments de $D(10)$ sont bien compris entre $-10$ et $10$, et $D(10)$ est fini.</li>\n",
    "    <li> $\\;\\;$On a par exemple $\\; 2 \\in D(10) \\;$ ; $\\;-2 \\in D(10) \\;$ ; $\\;2 \\in D(-10) \\;$ ; $\\;-2 \\in D(-10) \\;$.\n",
    "    <li> $\\;\\;$ $5$ divise $10$ et $10$ divise $30$, donc $5$ divise $30$.\n",
    "    <li> $\\;\\;$ $3$ divise $12$ et $3$ divise $15$ donc $3$ divise tout nombre de la forme $12u+15v$ où $(u;v) \\in \\mathbb{Z}^2$.</li>  \n",
    "</ol>\n",
    "\n",
    "<strong>Remarque :</strong><br>\n",
    "La propriété 2. justifie qu'on ramène la recherche des diviseurs d'un nombre à la recherche des diviseurs positifs de sa valeur absolue (on cherche donc des diviseurs positifs d'un entier positif)."
   ]
  },
  {
   "cell_type": "markdown",
   "metadata": {},
   "source": [
    "<BLOCKQUOTE id=\"Congruence\" style='background-color:#BBBBBB;'>\n",
    "<h3 style=\"font-size: 24px;\">2. Congruence dans $\\mathbb{Z}$ </h3>\n",
    "</BLOCKQUOTE>"
   ]
  },
  {
   "cell_type": "markdown",
   "metadata": {},
   "source": [
    "<BLOCKQUOTE style='background-color:#ACF5DA;'>\n",
    "<strong>Définition et notation :</strong> <span style=\"color:#0F8257\">Congruence dans $\\mathbb{Z}$.</span><br><br>\n",
    "Soit $(a;b) \\in \\mathbb{Z}^2$ et $n \\in \\mathbb{N}^*$.<br>\n",
    "    On dit que <strong>$a$ est congru à $b$ modulo $n$</strong> si $n$ divise $a-b$.<br>\n",
    "    Dans ce cas, on note $a \\equiv b \\;[n]$.\n",
    "</BLOCKQUOTE>\n",
    "\n",
    "<strong>Remarques :</strong><br>\n",
    "<ul>\n",
    "    <li> $\\forall a \\in \\mathbb{Z}, \\forall n \\in \\mathbb{N}^*, \\; a \\equiv a \\;[n]$ (car $a-a=0$ est divisible par $n$)</li>\n",
    "    <li> $a \\equiv b \\;[n] \\Longleftrightarrow b \\equiv a \\;[n]$ et on peut donc dire dans ce cas que $a$ et $b$ sont congruents modulo $n$. \n",
    "<ul>\n",
    "            "
   ]
  },
  {
   "cell_type": "markdown",
   "metadata": {},
   "source": [
    "<strong>Exercice :</strong>\n",
    "<ul>\n",
    "    <li><span style='color:#A00D91'>Dans le manuel : n°34 p127</span></li>\n",
    "</ul>"
   ]
  },
  {
   "cell_type": "markdown",
   "metadata": {},
   "source": [
    "<BLOCKQUOTE style='background-color:#F9C47B;'>\n",
    "<strong>Propriété :</strong> <span style=\"color:#AE6602\">Classes de congruences.</span><br><br>\n",
    "Soit $(a;b) \\in \\mathbb{Z}^2$ et $n \\in \\mathbb{N}^*$.<br>\n",
    "$a \\equiv b \\;[n]$ si et seulement si $a$ et $b$ ont le même reste dans la division euclidienne par $n$.\n"
   ]
  },
  {
   "cell_type": "markdown",
   "metadata": {},
   "source": [
    "<strong>Exercices :</strong>\n",
    "<ul>\n",
    "    <li><span style='color:#A00D91'>Démontrer cette propriété (voir dans le manuel : \"Rédiger une démonstration\" n°2 p123)</span></li>\n",
    "    <li><span style='color:#A00D91'>Dans le manuel, compléter les congruences avec les valeurs entières positives les plus petites possibles: n°35 p127</span>\n",
    "</ul>"
   ]
  },
  {
   "cell_type": "markdown",
   "metadata": {},
   "source": [
    "<strong>Conséquence :</strong><br>\n",
    "<ul>\n",
    "    <li>Tout entier relatif $a$ est congru modulo $n$ à son reste par la division euclidienne par $n$ :<br>\n",
    "        Si $a=nq+r$ avec $0 \\leq r < n$ alors $a \\equiv r \\;[n]$.</li>\n",
    "    <li>Tout entier relatif $a$ est congru modulo $n$ à l'une des valeurs $0;1;...;n-1$ <br>\n",
    "        (qui sont les restes possibles dans la division euclidienne par $n$).</li>\n",
    "    <li>Un entier relatif $a$ est divisible par $n$ si et seulement si $a \\equiv 0\\;[n]$.</li>\n",
    "</ul>\n"
   ]
  },
  {
   "cell_type": "markdown",
   "metadata": {},
   "source": [
    "<strong>Illustration graphique pour $n=7$ :</strong>"
   ]
  },
  {
   "cell_type": "code",
   "execution_count": null,
   "metadata": {},
   "outputs": [],
   "source": [
    "# Activer cette cellule (SHIFT+Entrée) pour faire apparaître la figure dynamique\n",
    "from IPython.display import display, HTML ; display(HTML('fig_dyn_GeoGebra/modulo_7.html'))"
   ]
  },
  {
   "cell_type": "markdown",
   "metadata": {},
   "source": [
    "<BLOCKQUOTE style='background-color:#F9C47B;'>\n",
    "<strong>Propriétés :</strong> <span style=\"color:#AE6602\">Opérations et congruences.</span><br><br>\n",
    "Soit $a\\;;b\\;;c\\;;d$ des élements de $\\mathbb{Z}$ et $n \\in \\mathbb{N}^*$.\n",
    "<table style=\"font-size: 14px; text-align:center;\">\n",
    "    <tr>\n",
    "        <td >Somme</td>\n",
    "        <td width=400>$$ \\text{Si } a \\equiv b \\;[n] \\text{ alors } a+c \\equiv b+c \\;[n]$$</td>\n",
    "        <td>$\\;\\;\\;$</td>\n",
    "        <td width=400>$$\\text{Si }\\begin{Bmatrix} a \\equiv b\\;[n] \\\\ c \\equiv d\\;[n] \\end{Bmatrix} \\text{ alors } a+c \\equiv b+d \\;[n]$$</td>\n",
    "    </tr>\n",
    "    <tr>\n",
    "        <td></td>\n",
    "        <td></td>\n",
    "        <td></td>\n",
    "        <td></td>\n",
    "    </tr>\n",
    "    <tr>\n",
    "        <td>Produit</td>\n",
    "        <td width=400>$$\\text{Si }a \\equiv b \\;[n] \\text{ alors } ac \\equiv bc \\;[n]$$</td>\n",
    "        <td>$\\;\\;\\;$</td>\n",
    "        <td width=400>$$\\text{Si }\\begin{Bmatrix}a\\equiv b\\;[n]\\\\c\\equiv d\\;[n] \\end{Bmatrix}\\text{ alors }ac\\equiv bd\\;[n]$$</td>\n",
    "    </tr>\n",
    "    <tr>\n",
    "        <td></td>\n",
    "        <td></td>\n",
    "        <td></td>\n",
    "        <td></td>\n",
    "    </tr>\n",
    "    <tr>\n",
    "        <td>Puissance</td>\n",
    "        <td width=400>$$\\text{Si } a \\equiv b \\;[n] \\text{ alors } \\forall p \\in \\mathbb{N}, a^p \\equiv b^p \\;[n]$$</td>\n",
    "        <td></td>\n",
    "        <td></td>\n",
    "    </tr>\n",
    "</table>"
   ]
  },
  {
   "cell_type": "markdown",
   "metadata": {},
   "source": [
    "<strong>Exercices :</strong>\n",
    "<ul>\n",
    "    <li><span style='color:#A00D91'>Démontrer ces propriétés (voir pour aide dans le manuel : n°75 p130)</span></li>\n",
    "    <li><span style='color:#A00D91'>Dans le manuel : n°36,39,41,45,42,44,53,56,61 p127,128,129</span></li>\n",
    "</ul>"
   ]
  },
  {
   "cell_type": "markdown",
   "metadata": {},
   "source": [
    "<BLOCKQUOTE style='background-color:#F5F5F5;'>\n",
    "<strong style=\"font-size: 16px;\">Exercice/TD : Critères de divisibilité</strong><br>\n",
    "Dans cet exercice, on considère $a \\in \\mathbb{N}$ dont l'écriture décimale est de la forme $a=\\overline{a_ma_{m-1}...a_1a_0}$, où les $(a_i)_{0 \\leq i \\leq m}$ sont les chiffres de sa décomposition décimale.\n",
    "<ol>\n",
    "    <li> <strong>Critères de divisibilité par $2$ ; $5$ et $10$.</strong>\n",
    "        <ol style='list-style-type: lower-latin;'>\n",
    "            <li>Étudier les congruences modulo $2$ des puissances de $10$ de la forme $10^k$ où $k \\in \\mathbb{N}$.</li>\n",
    "            <li>En déduire que $a \\equiv a_0 \\;[2]$. Quel critère de divisibilité par $2$ peut-on énoncer ?</li>     \n",
    "            <li>Démontrer de la même façon des critères de divisibilité par $5$ et par $10$.</li>\n",
    "        </ol>\n",
    "    </li>\n",
    "    <li> <strong>Critères de divisibilité par $3$ et $9$.</strong>\n",
    "        <ol style='list-style-type: lower-latin;'>\n",
    "            <li>Étudier les congruences modulo $3$ des puissances de $10$ de la forme $10^k$ où $k \\in \\mathbb{N}$.</li>\n",
    "            <li>En déduire que $a \\equiv a_m+a_{m-1}+...+a_0\\;[3]$.<br>\n",
    "                Quel critère de divisibilité par $3$ peut-on énoncer ?</li>\n",
    "            <li>Démontrer de la même façon un critère de divisibilité par $9$.</li>\n",
    "            <li>Le nombre $12\\;504\\;237$ est-il divisible par $3$ ? par $9$ ?\n",
    "        </ol>\n",
    "    </li>        \n",
    "    <li> <strong>Critère de divisibilité par $11$.</strong>\n",
    "        <ol style='list-style-type: lower-latin;'>\n",
    "            <li>Établir que $\\forall k \\in \\mathbb{N}, \\; 10^k \\equiv (-1)^k \\;[11]$.</li>\n",
    "            <li>En déduire que $a \\equiv (a_0+a_2+...)-(a_1+a_3+...)\\;[11]$.<br>\n",
    "                Quel critère de divisibilité par $11$ peut-on énoncer ?</li>\n",
    "            <li>Le nombre $51\\;114\\;239$ est-il divisible par $11$ ?\n",
    "        </ol>\n",
    "    </li>         \n",
    "    <li> <strong>Critères de divisibilité par $7$ et $13$.</strong>\n",
    "        <ol style='list-style-type: lower-latin;'>\n",
    "            <li>Établir que $\\forall k \\in \\mathbb{N}, \\;10^{3k} \\equiv (-1)^k \\;[13]$.</li>\n",
    "            <li>On considère $a=17\\;725\\;864$. Justifier que $a \\equiv 17-725+864 \\;[13]$.<br>\n",
    "                $a$ est-il divisible par $13$ ?</li>\n",
    "            <li>Les nombres $80\\;501\\;551$ et $10^{13}$ sont-ils divisibles par $13$ ?</li>\n",
    "            <li>Justifier que la même méthode permet d'étudier la divisibilité par $7$.</li>\n",
    "        </ol>                       \n",
    "</ol>\n",
    "NB : Les méthodes détaillées dans ce TD permettent non seulement de caractériser la divisibilité par $2$ ; $3$ ; $5$ ; $7$ ; $9$ ; $10$ ; $11$ et $13$, mais également de déterminer les restes des divisions euclidiennes par ces nombres.\n",
    "</BLOCKQUOTE>"
   ]
  },
  {
   "attachments": {},
   "cell_type": "markdown",
   "metadata": {},
   "source": [
    "<BLOCKQUOTE style='background-color:#F5F5F5;'>\n",
    "<br>\n",
    "<strong style=\"font-size: 16px;\">Exercice/TD : Clé de vérification d'un numéro INSEE</strong><br>\n",
    "    \n",
    "![Carte_vitale](img/Carte_vitale.png)\n",
    "\n",
    "Sur une carte vitale figure le <strong>n° INSEE à 13 chiffres</strong> de son propriétaire, suivi d'<strong>une clé de vérification à 2 chiffres</strong> :<br>\n",
    "<span style=\"font-size: 12px;\">\n",
    "<ul>\n",
    "    <li>Le premier chiffre désigne le sexe de la personne (1 pour un homme, 2 pour une femme) ;</li>\n",
    "    <li>Les deux chiffres suivants désignent les deux derniers chiffres de l’année de naissance ;</li>\n",
    "    <li>Les deux chiffres suivants désignent les deux chiffres du mois de naissance ;</li>\n",
    "    <li>Les deux chiffres suivants désignent le département de naissance ;</li>\n",
    "    <li>Les trois chiffres suivants précisent la commune de naissance ;</li>\n",
    "    <li>Les trois chiffres suivants correspondent au rang de naissance.</li>\n",
    "</ul>\n",
    "</span>\n",
    "<br>\n",
    "Pour calculer la clé de vérification $K$, on commence par calculer le reste $r$ de la division euclidienne par 97 du nombre formé par les 13 chiffres du n° INSEE, et on obtient $K$ à l'aide de la formule $K=97-r$.\n",
    "\n",
    "<ol>\n",
    "    <li>Certaines calculatrices permettent de calculer directement une clé de n° INSEE... d'autres pas. <br>\n",
    "        Tester le calcul de la clé sur la carte vitale fournie et sur votre propre n° INSEE.<br>\n",
    "        Votre calculatrice permet-elle d'effectuer ce calcul ? (préciser le modèle utilisé)<br>    \n",
    "        <em>Afin de permettre le calcul de la clé sur tout appareil, on souhaite mettre en place une stratégie de calcul de cette clé utilisant des nombres de taille plus raisonnable.</em></li>\n",
    "    <li>On note $A$ le numéro INSEE.<br> On note $x$ le nombre formé par les $7$ premiers chiffres de $A$ et $y$ le nombre formé par les $6$ derniers chiffres de $A$.\n",
    "        <ol style='list-style-type: lower-latin;'>\n",
    "            <li>Exprimer $A$ en fonction de $x$ et $y$.</li>\n",
    "            <li>Déterminer la classe de congruence de $10^2$ modulo $97$ et en déduire celle de $10^6$.<br>\n",
    "                (classe de congruence de $n$ modulo $m$ signifie ici reste de la division euclidienne de $n$ par $m$)</li>\n",
    "            <li>En déduire que $A \\equiv 27x+y \\;[97]$</li>\n",
    "            <li>En déduire une méthode de calcul de la clé de n°INSEE et tester cette méthode en reprenant les calculs de la question 1.</li>\n",
    "            <li>Votre voisin vous fournit son numéro INSEE sans la clé. Pouvez vous retrouver la clé manquante ?</li>\n",
    "        </ol>\n",
    "    <li>Écrire deux fonctions Python qui reçoivent en argument le n° INSEE $A$ et qui renvoient la clé $K$ :\n",
    "        <ol style='list-style-type: lower-latin;'>\n",
    "            <li>directement avec sa définition ;</li>\n",
    "            <li>à l'aide de la méthode vue à la question 2.</li>\n",
    "        </ol>\n",
    "</ol>\n",
    "            \n",
    "</BLOCKQUOTE>        \n",
    "\n"
   ]
  },
  {
   "cell_type": "code",
   "execution_count": null,
   "metadata": {},
   "outputs": [],
   "source": [
    "#Zone pour écrire la fonction Python du TD (calcul de la clé INSEE avec la méthode directe)\n"
   ]
  },
  {
   "cell_type": "code",
   "execution_count": null,
   "metadata": {},
   "outputs": [],
   "source": [
    "#Zone pour écrire la fonction Python du TD (calcul de la clé INSEE avec le 2ème méthode)\n"
   ]
  },
  {
   "cell_type": "markdown",
   "metadata": {},
   "source": [
    "<BLOCKQUOTE style='background-color:#F5F5F5;'>\n",
    "<br>\n",
    "<strong style=\"font-size: 16px;\">Exercice/TD : Clé d'un Relevé d'Identité Bancaire (RIB)</strong><br>\n",
    "Le numéro d'un relevé d’identité bancaire (RIB) est composé de $21$ chiffres :\n",
    "<ul>\n",
    "    <li>Les cinq premiers chiffres indiquent la banque ;</li>\n",
    "    <li>Les cinq chiffres suivants indiquent le guichet ;</li>\n",
    "    <li>Les onze chiffres suivants précisent le numéro de compte.</li>\n",
    "</ul>\n",
    "Enfin, la clé de vérification $K$ est calculée à l'aide de ce nombre $A$ à $21$ chiffres de la façon suivante :<br>\n",
    "On calcule le reste $r$ de la division euclidienne de $A$ par $97$, puis on pose $K=97-r$.    \n",
    "<br><br>\n",
    "Dans cet exercice, on considère un RIB dont le numéro est donné ci-dessous et dont on souhaite retrouver la clé :\n",
    "    \n",
    "|Banque|Guichet|n° de compte|Clé RIB|\n",
    "|:-----|:------|:-----------|:------|\n",
    "|12548 |02998  |00000123000 |??     |\n",
    "\n",
    "<ol>\n",
    "    <li>Tester le calcul direct de la clé de ce RIB à la calculatrice. Commenter.</li>\n",
    "    <li>Décomposer le numéro $A$ du RIB sous la forme $A=a \\times 10^{12} +b \\times 10^{6}+c$ où $a$, $b$ et $c$ sont trois nombres entiers naturels d'au plus 6 chiffres.</li>\n",
    "    <li>Déterminer les restes des divisions euclidiennes de $10^{6}$ et $10^{12}$ par $97$.</li>\n",
    "    <li>En déduire une méthode pour déterminer la clé du RIB et tester cette méthode.</li>\n",
    "    <li>Écrire une fonction Python qui permet de calculer la clé d'un RIB à partir de son numéro.</li>\n",
    "    <li>Écrire une fonction Python qui reçoit en argument un numéro de RIB et une clé, et renvoie <mark>True</mark> si la clé correspond bien au numéro et <mark>False</mark> sinon.\n",
    "</ol>\n",
    "\n",
    "    \n",
    "    \n"
   ]
  },
  {
   "cell_type": "code",
   "execution_count": null,
   "metadata": {},
   "outputs": [],
   "source": [
    "#Zone pour écrire la fonction Python du TD (question 5)\n"
   ]
  },
  {
   "cell_type": "code",
   "execution_count": null,
   "metadata": {},
   "outputs": [],
   "source": [
    "#Zone pour tester la fonction Python du TD (question 5)\n"
   ]
  },
  {
   "cell_type": "code",
   "execution_count": null,
   "metadata": {},
   "outputs": [],
   "source": [
    "#Zone pour écrire la fonction Python du TD (question 6)\n"
   ]
  },
  {
   "cell_type": "code",
   "execution_count": null,
   "metadata": {},
   "outputs": [],
   "source": [
    "#Zone pour tester la fonction Python du TD (question 6)\n"
   ]
  },
  {
   "cell_type": "markdown",
   "metadata": {},
   "source": [
    "<strong>Exercices : (prolongements des TD)</strong><br>\n",
    "<span style='color:#A00D91'>Dans le manuel : n°78 p130 et n°97 p133</span>\n"
   ]
  },
  {
   "cell_type": "markdown",
   "metadata": {},
   "source": [
    "<BLOCKQUOTE id=\"PGCD\" style='background-color:#BBBBBB;'>\n",
    "<h3 style=\"font-size: 24px;\">3. PGCD et algorithme d'Euclide</h3>\n",
    "</BLOCKQUOTE>"
   ]
  },
  {
   "cell_type": "markdown",
   "metadata": {},
   "source": [
    "<strong>Notation :</strong><br>\n",
    "Pour tout $a \\in \\mathbb{Z}^*$ et $b \\in \\mathbb{Z}^*$, on note $D(a;b)$ l'ensemble des diviseurs communs de $a$ et de $b$.<br>\n",
    "\n",
    "<strong>Remarque :</strong><br>\n",
    "$D(a;b) = D(a) \\cap D(b)$ est fini car $D(a)$ et $D(b)$ sont finis pour $a \\ne 0$ et $b \\ne 0$.<br> De plus, $1 \\in D(a;b)$.<br> Comme $D(a;b)$ est un ensemble fini non vide d'entiers, il possède un plus grand élément. Ceci justifie la définition suivante :"
   ]
  },
  {
   "cell_type": "markdown",
   "metadata": {},
   "source": [
    "<BLOCKQUOTE style='background-color:#ACF5DA;'>\n",
    "<strong>Définition :</strong> <span style=\"color:#0F8257\">PGCD de deux entiers $\\mathbb{Z}$.</span><br><br>\n",
    "Soit $a \\in \\mathbb{Z}$ et $b \\in \\mathbb{Z}^*$.<br>\n",
    "$D(a;b)$ possède un plus grand élément appelé <strong>plus grand commun diviseur (PGCD)</strong> de $a$ et $b$.<br>\n",
    "On note cet entier $PGCD(a;b)$.\n",
    "</BLOCKQUOTE>"
   ]
  },
  {
   "cell_type": "markdown",
   "metadata": {},
   "source": [
    "<strong>Remarques :</strong><br>\n",
    "<ul>\n",
    "    <li>Dans la pratique, la recherche du PGCD de deux entiers relatifs non nuls peut toujours se ramener à la recherche du PGCD de deux entiers naturels, puisque $PGCD(a;b)=PGCD(\\lvert a \\rvert;\\lvert b \\rvert)$.</li>\n",
    "    <li>$1 \\in D(a;b)$ donc $PGCD(a;b) \\geq 1$.</li>\n",
    "    <li>$D(a;b) \\subset D(a)$ donc $PGCD(a;b) \\leq a$.<br>On a de même $PGCD(a;b) \\leq b$.</li>\n",
    "</ul>"
   ]
  },
  {
   "cell_type": "markdown",
   "metadata": {},
   "source": [
    "<strong>Exercices :</strong>\n",
    "<ul>\n",
    "    <li><span style='color:#A00D91'>Dans le manuel : n°1,2,10 p148<br>(on pourra vérifier à l'aide de la fonction Python <mark>diviseurs</mark> écrite dans la section de cours 1.)</span></li>\n",
    "    <li><span style='color:#A00D91'>Dans le manuel : n°3 p148<br>(utiliser la zone de saisie Python ci-dessous)</span></li>\n",
    "</ul>    "
   ]
  },
  {
   "cell_type": "code",
   "execution_count": null,
   "metadata": {},
   "outputs": [],
   "source": [
    "#Effectuer des appels à la fonction diviseurs pour vérifier les réponses des exercices n°1,2 p148\n"
   ]
  },
  {
   "cell_type": "code",
   "execution_count": null,
   "metadata": {},
   "outputs": [],
   "source": [
    "#Exercice n°3 p148\n",
    "\n",
    "def mystere(a,b):\n",
    "    n=1\n",
    "    while n<=a and n<=b:\n",
    "        if a%n==0 and b%n==0:\n",
    "            p=n\n",
    "        n=n+1\n",
    "    return n\n",
    "\n",
    "#Effectuer ici l'appel à la fonction mystere\n"
   ]
  },
  {
   "cell_type": "markdown",
   "metadata": {},
   "source": [
    "<p style=\"background-color:#DDDDDD\">\n",
    "    <strong>TP de cours : PGCD, Euclide et Bézout</strong><br> \n",
    "        Réaliser <strong>les parties I et II</strong> du TP (ne pas oublier de sauvegarder l'état du Notebook).<br>\n",
    "        Cliquer pour accéder à l'activité :\n",
    "</p>\n",
    "\n",
    "[![Euclide](img/mini_Euclide_Bezout.png)](https://mybinder.org/v2/gh/PythonLycee/PyLyc/master?filepath=PGCD_Euclide_Bezout.ipynb)"
   ]
  },
  {
   "cell_type": "markdown",
   "metadata": {},
   "source": [
    "<em>Bilan des parties I et II du TP :</em>\n",
    "\n",
    "\n",
    "<BLOCKQUOTE style='background-color:#F9C47B;'>\n",
    "    <strong>Propriété : Méthode de recherche du PGCD par l'algorithme d'Euclide</strong><br><br>\n",
    "On considère $a \\in \\mathbb{N}^*$ et $b \\in \\mathbb{N}^*$.<br> \n",
    "On pose $\\color{red}{a_0=a}$ et $\\color{blue}{b_0=b}$ puis on considère la succession des divisions euclidiennes suivantes, réitérées tant que le reste $r_n$ n'est pas nul.<br><br>\n",
    "\n",
    "\\begin{array}{} \n",
    "\\color{red}{a_0} &=& \\color{blue}{b_0} q_0 & + & \\color{green}{r_0} \\\\ \n",
    "\\; & \\color{blue}\\swarrow & \\; & \\color{green}\\swarrow \\\\ \n",
    "\\color{blue}{a_1} &=& \\color{green}{b_1} q_1 & + & \\color{magenta}{r_1} \\\\ \n",
    "\\; & \\color{green}\\swarrow & \\; & \\color{magenta}\\swarrow \\\\ \n",
    "\\color{green}{a_2} &=& \\color{magenta}{b_2} q_1 & + & \\color{brown}{r_2} \\\\ \n",
    "\\; & \\color{magenta}\\swarrow & \\; & \\color{brown}\\swarrow \\\\\n",
    "... & \\; & \\;... &  & ... \\\\ \n",
    "... & \\; & \\;... &  & ... \\\\ \n",
    "\\; & \\color{blue}\\swarrow & \\; & \\color{green}\\swarrow \\\\ \n",
    "\\color{blue}{a_{N-1}} &=& \\color{green}{b_{N-1}} q_{N-1} & + & \\color{magenta}{r_{N-1}} \\\\ \n",
    "\\; & \\color{green}\\swarrow & \\; & \\color{magenta}\\swarrow \\\\ \n",
    "\\color{green}{a_N} &=& \\color{magenta}{b_N} q_N & + & \\color{red}0 \\\\\n",
    "\\end{array}\n",
    "<br>\n",
    "Alors:\n",
    "<ul>\n",
    "    <li>Il existe un rang $N$ tel que $r_N=0$.</li>\n",
    "    <li>$b_N=PGCD(a;b)$ et si $r_{N-1}$ existe alors $r_{N-1}=PGCD(a;b)$.</li>\n",
    "</ul>\n",
    "On retient :<br> \n",
    "<strong>Le PGCD de $a$ et de $b$ est le dernier reste non nul obtenu en appliquant l'algorithme d'Euclide.</strong>"
   ]
  },
  {
   "cell_type": "markdown",
   "metadata": {},
   "source": [
    "<BLOCKQUOTE style='background-color:#F9C47B;'>\n",
    "<strong>Propriété :</strong> <span style=\"color:#AE6602\">Ensemble des diviseurs communs à deux nombres</span><br><br>\n",
    "Soit $a \\in \\mathbb{Z}^*$ et $b \\in \\mathbb{Z}^*$.<br>\n",
    "Si $d=PGCD(a;b)$ alors $D(a;b)=D(d).$\n"
   ]
  },
  {
   "cell_type": "markdown",
   "metadata": {},
   "source": [
    "<strong>Exercices :</strong>\n",
    "<ul>\n",
    "    <li><span style='color:#A00D91'>Dans le manuel : Exercice résolu n°2 p139 à voir</span></li>\n",
    "    <li><span style='color:#A00D91'>Dans le manuel : Exercice n°4,5,13 p148</span></li>     \n",
    "</ul>    "
   ]
  },
  {
   "cell_type": "markdown",
   "metadata": {},
   "source": [
    "<BLOCKQUOTE id=\"BezoutGauss\" style='background-color:#BBBBBB;'>\n",
    "<h3 style=\"font-size: 24px;\">4. Nombres premiers entre eux, théorème de Bézout, théorème de Gauss</h3>\n",
    "</BLOCKQUOTE>"
   ]
  },
  {
   "cell_type": "markdown",
   "metadata": {},
   "source": [
    "<BLOCKQUOTE style='background-color:#ACF5DA;'>\n",
    "<strong>Définition :</strong> <span style=\"color:#0F8257\">Entiers premiers entre eux $\\mathbb{Z}$.</span><br><br>\n",
    "Soit $a \\in \\mathbb{Z}^*$ et $b \\in \\mathbb{Z}^*$.<br>\n",
    "On dit que $a$ et $b$ sont <strong>premiers entre eux</strong> si $PGCD(a;b)=1$.\n",
    "</BLOCKQUOTE>"
   ]
  },
  {
   "cell_type": "markdown",
   "metadata": {},
   "source": [
    "<strong>Remarques :</strong>\n",
    "<ul>\n",
    "    <li>Attention à ne pas confondre avec la notion de nombre premier, dont la définition sera donnée plus loin dans le cours. La notion de <strong>nombres premiers entre eux</strong> n'a de sens que pour un <strong>couple</strong> d'entiers non nuls.</li>\n",
    "    <li>Si deux nombres sont premiers entre eux, alors leurs seuls diviseurs communs sont $1$ et $-1$.</li>\n",
    "</ul>\n",
    "    "
   ]
  },
  {
   "cell_type": "markdown",
   "metadata": {},
   "source": [
    "<BLOCKQUOTE style='background-color:#F9C47B;'>\n",
    "<strong>Propriété :</strong> <span style=\"color:#AE6602\">Ensemble des diviseurs communs à deux nombres</span><br><br>\n",
    "Soit $a \\in \\mathbb{Z}^*$ et $b \\in \\mathbb{Z}^*$.<br>\n",
    "Si $d=PGCD(a;b)$ alors $\\exists a\\;' \\in \\mathbb{Z}^*, \\; \\exists b\\;' \\in \\mathbb{Z}^* \\;/ \\begin{Bmatrix} a=da\\;' \\\\ b=db\\;' \\\\ PGCD(a\\;';b\\;')=1 \\end{Bmatrix}.$\n",
    "</BLOCKQUOTE>"
   ]
  },
  {
   "cell_type": "markdown",
   "metadata": {},
   "source": [
    "<strong>Exercices :</strong>\n",
    "<ol>\n",
    "    <li>Démontrons la propriété ci-dessus.<br> Comme $d$ divise $a$ et $b$ , l'existence de $a\\;'$ et $b\\;'$ tels que $a=da\\;'$ et $b=db\\;'$ est immédiate. Il reste à prouver que $PGCD(a\\;';b\\;')=1$.\n",
    "        <ol>\n",
    "            <li style='list-style-type: lower-latin;'>On pose $d\\;'=PGCD(a\\;';b\\;')$. Justifier que $dd\\;'$ est un diviseur commun de $a$ et $b$.</li>\n",
    "            <li style='list-style-type: lower-latin;'>Conclure en déduisant la valeur de $d\\;'$.</li>\n",
    "        </ol></li><br>\n",
    "    <li>Soit $a \\in \\mathbb{Z}$ et $b \\in \\mathbb{N}^*$. On dit que la fraction $\\frac{a}{b}$ est <strong>irréductible</strong> si $PGCD(a;b)=1$.\n",
    "        <ol>\n",
    "            <li style='list-style-type: lower-latin;'>Déterminer, à l'aide de l'algorithme d'Euclide, le PGCD de $391$ et $2415$.</li>\n",
    "            <li style='list-style-type: lower-latin;'>En déduire la forme irréductible de la fraction $\\frac{391}{2415}$.\n",
    "        </ol>   \n",
    "</ol>    "
   ]
  },
  {
   "cell_type": "markdown",
   "metadata": {},
   "source": [
    "<p style=\"background-color:#DDDDDD\">\n",
    "    <strong>TP de cours : PGCD, Euclide et Bézout</strong><br> \n",
    "        Réaliser <strong>la partie III</strong> du TP (récupérer la sauvegarde avec les parties I et II achevées).<br>\n",
    "    <span style=\"color:#FF0000;\">Nécessite les opérations sur les matrices.</span><br>\n",
    "        Cliquer pour accéder à l'activité :\n",
    "</p>\n",
    "\n",
    "[![Euclide](img/mini_Euclide_Bezout.png)](https://mybinder.org/v2/gh/PythonLycee/PyLyc/master?filepath=PGCD_Euclide_Bezout.ipynb)"
   ]
  },
  {
   "cell_type": "markdown",
   "metadata": {},
   "source": [
    "<em>Bilan de la partie III du TP :</em><br>"
   ]
  },
  {
   "cell_type": "markdown",
   "metadata": {},
   "source": [
    "<BLOCKQUOTE style='background-color:#F9C47B;'>\n",
    "<strong>Propriété :</strong> <span style=\"color:#AE6602\">Existence des coefficients de Bézout : décomposition d'un PGCD de deux nombres comme combinaison linéaire de ces nombres</span><br><br>\n",
    "Soit $a \\in \\mathbb{Z}^*$ ; $b \\in \\mathbb{Z}^*$ et $d=PGCD(a;b)$<br>\n",
    "Alors $\\exists(u;v) \\in \\mathbb{Z}^2 \\;/\\; au+bv=d$ \n",
    "</BLOCKQUOTE>\n",
    "<br>\n",
    "<strong>Vocabulaire :</strong><br>\n",
    "$(u;v)$ est un <strong>couple de coefficients de Bézout</strong> permettant de décomposer le PGCD de $a$ et $b$ comme combinaison linéaire de ces deux nombres."
   ]
  },
  {
   "cell_type": "markdown",
   "metadata": {},
   "source": [
    "<strong>Remarque :</strong><br>\n",
    "<ul>\n",
    "<li>Dans le cas où $a \\in \\mathbb{N}^*$ et $b \\in \\mathbb{N}^*$, on peut déterminer un couple de coefficients de Bézout en \"remontant\" l'algorithme d'Euclide (vu dans le TP), et dans les autres cas, il suffit d'appliquer cette méthode à $\\lvert a \\rvert$ et $\\lvert b \\rvert$ puis d'adapter les signes des coefficients trouvés.</li>\n",
    "<li> Il n'y a pas unicité du couple de coefficients de Bézout. <br>Par exemple, $PGCD(12;42)=6$ et on peut écrire différentes décompositions de $6$ comme combinaison linéaire de $12$ et $42$:<br>$12 \\times (-3) + 42 \\times 1 =6$<br>$12 \\times 4 + 42 \\times (-1) =6$."
   ]
  },
  {
   "cell_type": "markdown",
   "metadata": {},
   "source": [
    "<strong>Exercices :</strong>\n",
    "<ol>\n",
    "    <li>A l'aide de l'algorithme d'Euclide, déterminer le PGCD de $420$ et $637$, puis exprimer ce PGCD comme combinaison linéaire de ces deux nombres.</li>\n",
    "    <li>Même question pour $152$ et $184$.</li>\n",
    "</ol>\n"
   ]
  },
  {
   "cell_type": "markdown",
   "metadata": {},
   "source": [
    "Dans le cas où $a$ et $b$ sont premiers entre eux, le résultat précédent peut s'écrire sous la forme d'une équivalence :"
   ]
  },
  {
   "cell_type": "markdown",
   "metadata": {},
   "source": [
    "<BLOCKQUOTE style='background-color:#CFB5B6;'>\n",
    "<strong>Théorème :</strong> <span style=\"color:#BB0000\">Théorème de Bézout.</span><br><br>\n",
    "Soit $a \\in \\mathbb{Z}^*$ ; $b \\in \\mathbb{Z}^*$<br>\n",
    "Alors :<br>\n",
    "    $a$ et $b$ sont premiers entre eux <strong>si et seulement si</strong> $\\exists(u;v) \\in \\mathbb{Z}^2 \\;/\\; au+bv=1$\n",
    "</BLOCKQUOTE>\n"
   ]
  },
  {
   "cell_type": "markdown",
   "metadata": {},
   "source": [
    "<strong>Exercices :</strong>\n",
    "<ol>\n",
    "    <li>Démontrer le théorème de Bézout, par double-implication.</li>\n",
    "    <li><span style='color:#A00D91'>Dans le manuel : Exercice n°18,19,22 p149.</span></li>\n",
    "</ol>\n"
   ]
  },
  {
   "cell_type": "markdown",
   "metadata": {},
   "source": [
    "<BLOCKQUOTE style='background-color:#CFB5B6;'>\n",
    "<strong>Théorème :</strong> <span style=\"color:#BB0000\">Théorème de Gauss.</span><br><br>\n",
    "Soit $a \\in \\mathbb{Z}^*$ ; $b \\in \\mathbb{Z}^*$ et $c \\in \\mathbb{Z}^*$<br>\n",
    "<br>\n",
    "Si $\\begin{Bmatrix} a \\text{ et } b \\text{ sont premiers entre eux} \\\\ a \\text{ divise } bc \\end{Bmatrix}$ alors $a$ divise $c$.\n",
    "</BLOCKQUOTE>"
   ]
  },
  {
   "cell_type": "markdown",
   "metadata": {},
   "source": [
    "<strong>Exercices :</strong>\n",
    "<ol>\n",
    "    <li><span style='color:#A00D91'>Dans le manuel : Démontrer le théorème de Gauss : \"Rédiger une démonstration\" n°1 p144</span></li>\n",
    "    <li><span style='color:#A00D91'>Dans le manuel : Exercice n°26,27 p149.</span></li>\n",
    "</ol>\n"
   ]
  },
  {
   "cell_type": "markdown",
   "metadata": {},
   "source": [
    "On en déduit la propriété suivante, conséquence du théorème de Gauss :"
   ]
  },
  {
   "cell_type": "markdown",
   "metadata": {},
   "source": [
    "<BLOCKQUOTE style='background-color:#F9C47B;'>\n",
    "<strong>Propriété :</strong> <span style=\"color:#AE6602\">diviseurs premiers entre eux</span><br><br>\n",
    "Soit $a \\in \\mathbb{Z}^*$ ; $b \\in \\mathbb{Z}^*$ et $c \\in \\mathbb{Z}^*$<br>\n",
    "<br>\n",
    "Si $\\begin{Bmatrix} a \\text{ et } b \\text{ sont premiers entre eux} \\\\ a \\text{ divise } c \\\\ b \\text{ divise } c \\end{Bmatrix}$ alors $ab$ divise $c$.\n",
    "</BLOCKQUOTE>\n",
    "\n"
   ]
  },
  {
   "cell_type": "markdown",
   "metadata": {},
   "source": [
    "<strong>Exercices :</strong>\n",
    "<ol>\n",
    "    <li><span style='color:#A00D91'>Dans le manuel : Démontrer la propriété ci-dessus : \"Rédiger une démonstration\" n°2 p144</span></li>\n",
    "    <li><span style='color:#A00D91'>Dans le manuel : Exercice n°31 p149.</span></li>\n",
    "</ol>"
   ]
  },
  {
   "cell_type": "markdown",
   "metadata": {},
   "source": [
    "<BLOCKQUOTE id=\"diophantienne\" style='background-color:#BBBBBB;'>\n",
    "<h3 style=\"font-size: 24px;\">5. Résolution d'équations diophantiennes</h3>\n",
    "</BLOCKQUOTE>"
   ]
  },
  {
   "cell_type": "markdown",
   "metadata": {},
   "source": [
    "<BLOCKQUOTE style='background-color:#ACF5DA;'>\n",
    "<strong>Définition :</strong> <span style=\"color:#0F8257\">Équation diophantienne $\\mathbb{Z}$.</span><br><br>\n",
    "Soit $a \\in \\mathbb{Z}^*$ ; $b \\in \\mathbb{Z}^*$ et $c \\in \\mathbb{Z}^*$.<br>\n",
    "L'équation $ax+by=c$ dont l'inconnue est le couple $(x;y) \\in \\mathbb{Z}^2$ est appelée <strong>équation diophantienne</strong>.\n",
    "</BLOCKQUOTE>\n",
    "\n",
    "<BLOCKQUOTE style='background-color:#F9C47B;'>\n",
    "<strong>Propriété :</strong> <span style=\"color:#AE6602\">Existence de solution d'une équation diophantienne</span><br><br>\n",
    "Soit $a \\in \\mathbb{Z}^*$ ; $b \\in \\mathbb{Z}^*$ et $c \\in \\mathbb{Z}^*$<br>\n",
    "L'équation diophantienne $ax+by=c$ admet des solutions <strong>si et seulement si</strong> $c$ est un multiple de $PGCD(a;b)$.\n",
    "</BLOCKQUOTE>\n",
    "\n"
   ]
  },
  {
   "cell_type": "markdown",
   "metadata": {},
   "source": [
    "<strong>Exercices :</strong>\n",
    "<ol>\n",
    "    <li><span style='color:#A00D91'>Dans le manuel : Démontrer la propriété ci-dessus : \"Rédiger une démonstration\" n°4 p145</span></li>\n",
    "    <li><span style='color:#A00D91'>Dans le manuel : Exercice n°33; 34; 32 p150.</span></li>\n",
    "</ol>"
   ]
  },
  {
   "cell_type": "markdown",
   "metadata": {},
   "source": [
    "<BLOCKQUOTE style='background-color:#BBBBFF;'>\n",
    "<strong>Méthode :</strong> <span style=\"color:#2222FF\">Méthode générale de résolution d'une équation diophantienne</span><br><br>\n",
    "Soit $a \\in \\mathbb{Z}^*$ ; $b \\in \\mathbb{Z}^*$ et $c \\in \\mathbb{Z}^*$<br>\n",
    "Pour résoudre l'équation diophantienne $ax+by=c$ d'inconnue  $(x;y) \\in \\mathbb{Z}^2$ :\n",
    "<ul>\n",
    "    <li><strong>Rechercher un couple particulier $(x_0;y_0)$ tel que $ax_0+by_0=c$.</strong><br>\n",
    "        Pour cela, essayer dans l'ordre :<br><br>\n",
    "        <ul>\n",
    "            <li>Si une solution particulière est proposée dans l'énoncé, vérifier qu'elle convient.</li>\n",
    "            <li>Si possible, déterminer directement une solution particulière \"évidente\".</li>\n",
    "            <li>Sinon: \n",
    "                <ul>\n",
    "                    <li>L'algorithme d'Euclide donne $d=PGCD(a;b)$ et un couple de coefficients de Bézout $(u;v)$ tel que $au+bv=d$</li>\n",
    "                    <li>La valeur $d=PGCD(a;b)$ permet de vérifier que l'équation admet des solutions<br>\n",
    "                        (c'est le cas si et seulement si $d$ divise $c$ d'après la propriété précédente)</li>\n",
    "                    <li>Si c'est le cas, l'égalité $au+bv=d$ permet d'obtenir une solution $ax_0+by_0=c$ (en multipliant)</li>\n",
    "                </ul>\n",
    "        </ul><br>\n",
    "    <li><strong>Rechercher une condition nécessaire pour qu'un couple $(x;y)$ soit solution :</strong><br><br>\n",
    "        <ul>\n",
    "            <li>La solution particulière permet de transformer l'équation diophantienne :<br>\n",
    "                $ax+by=c \\Longleftrightarrow ax+by=ax_0+by_0$<br>\n",
    "                $\\;\\;\\;\\;\\;\\;\\;\\;\\;\\;\\;\\;\\;\\;\\;\\;\\;\\Longleftrightarrow a(x-x_0)=b(y_0-y)$<br>\n",
    "                $\\;\\;\\;\\;\\;\\;\\;\\;\\;\\;\\;\\;\\;\\;\\;\\;\\;\\Longleftrightarrow a\\;'(x-x_0)=b\\;'(y_0-y)$ en divisant par $d=PGCD(a;b)$<br>\n",
    "                $\\;\\;\\;\\;\\;\\;\\;\\;\\;\\;\\;\\;\\;\\;\\;\\;\\;\\;\\;\\;\\;\\;\\;\\;\\;$(où $a=da\\;'$ et $b=db\\;'$ avec $a\\;'$ et $b\\;'$ premiers entre eux)<br>    \n",
    "            </li>\n",
    "            <li>On en déduit les valeurs possibles pour $x$ :<br>\n",
    "                $\\begin{Bmatrix} b\\;' \\text{ divise } a\\;'(x-x_0) \\\\ a\\;' \\text{ et } b\\;' \\text{ sont premiers entre eux} \\end{Bmatrix}$ donc (théorème de Gauss) $b\\;'$ divise (x-x_0).<br>\n",
    "                $\\;\\;\\;\\;\\;\\;\\;\\;\\;\\;\\;\\;\\;\\;\\;\\;\\;\\;\\;\\;\\;\\;\\;\\;\\;\\;\\;\\;\\;\\;\\;\\;\\;\\;\\;\\;\\;\\;\\;\\;\\;\\;\\;\\;\\;\\;\\;\\;\\;\\;\\;\\;$donc $\\exists k \\in \\mathbb{Z}$ tel que $x-x_0=kb\\;'$ c'est à dire $x=x_0+k\\;b'$.<br><br>\n",
    "            </li>\n",
    "            <li>On en déduit les valeurs correspondantes possibles pour $y$ :<br>\n",
    "                $x-x_0=kb\\;'$ donc $a\\;'(x-x_0)=b\\;(y-y_0)$ donne $a\\;'kb\\;'=b\\;'(y_0-y)$<br>\n",
    "                $a\\;'k=y_0-y$<br>\n",
    "                $y=y_0-ka\\;'$\n",
    "            </li>\n",
    "        </ul>\n",
    "    <br></li>\n",
    "    <li><strong>Vérifier que la condition trouvée est suffisante</strong><br>\n",
    "        On considère $(x;y)=(x_0+kb\\;';y_0-ka\\;')$ où $k \\in \\mathbb{Z}$ que l'on teste dans l'équation diophantienne :<br>\n",
    "        $ax+by=a(x_0+kb\\;')+b(y_0-ka\\;')$<br>\n",
    "        $\\;\\;\\;\\;\\;\\;\\;\\;\\;\\;\\;=\\underbrace{ax_0+by_0}_{= 0}+akb\\;'-bka\\;'$<br>\n",
    "        $\\;\\;\\;\\;\\;\\;\\;\\;\\;\\;\\;=k(ab\\;'-ba\\;')$<br>\n",
    "        $\\;\\;\\;\\;\\;\\;\\;\\;\\;\\;\\;=k(da\\;'b\\;'-db\\;'a\\;')$<br>\n",
    "        $\\;\\;\\;\\;\\;\\;\\;\\;\\;\\;\\;=0$\n",
    "    <br><br></li>\n",
    "    <li><strong>Conclure :</strong><br>\n",
    "        Les solutions de l'équation diophantienne sont exactement les couples $(x;y)=(x_0+kb\\;';y_0-ka\\;')$ où $k \\in \\mathbb{Z}$.\n",
    "    </li>\n",
    "</ul>    \n",
    "</BLOCKQUOTE>"
   ]
  },
  {
   "cell_type": "markdown",
   "metadata": {},
   "source": [
    "<strong>Exercices :</strong>\n",
    "<ol>\n",
    "    <li>Résoudre l'équation diophantienne $39x+27y=18$ en suivant pas à pas la méthode ci-dessus.</li>\n",
    "    <li><span style='color:#A00D91'>Dans le manuel : Exercices n°35,37,39,42 p150.</span></li>\n",
    "    <li>TP : Chiffrement affine et chiffrement de Vigenère</li> \n",
    "    <li>TP : Chiffrement de Hill (Attention, nécessite les opérations sur les matrices)</li>            \n",
    "</ol>\n",
    "<p style=\"background-color:#DDDDDD\">\n",
    "    <strong>TP Chiffrement affine et chiffrement de Vigenère :</strong>\n",
    "</p>\n",
    "\n",
    "[![Chiffrement](img/mini_chiffrement_affine.png)](https://mybinder.org/v2/gh/PythonLycee/PyLyc/master?filepath=Chiffrement_affine_Vigenere.ipynb)\n",
    "\n",
    "<p style=\"background-color:#DDDDDD\">\n",
    "    <strong>TP Chiffrement de Hill (avec opérations sur les matrices) :</strong>\n",
    "</p>\n",
    "\n",
    "[![Chiffrement](img/mini_chiffrement_Hill.png)](https://mybinder.org/v2/gh/PythonLycee/PyLyc/master?filepath=Chiffrement_Hill.ipynb)\n"
   ]
  },
  {
   "cell_type": "markdown",
   "metadata": {},
   "source": [
    "<BLOCKQUOTE id=\"premiers\" style='background-color:#BBBBBB;'>\n",
    "<h3 style=\"font-size: 24px;\">6. Nombres premiers</h3>\n",
    "</BLOCKQUOTE>"
   ]
  },
  {
   "cell_type": "markdown",
   "metadata": {},
   "source": [
    "<p style=\"color:#FF0000\">\n",
    "Dans toute cette partie, on ne considèrera que des <strong>entiers naturels</strong>.<br>\n",
    "Sauf mention expresse du contraire, le terme \" diviseur \" signifiera donc \" diviseur positif \".\n",
    "</p>\n"
   ]
  },
  {
   "cell_type": "markdown",
   "metadata": {},
   "source": [
    "<BLOCKQUOTE style='background-color:#ACF5DA;'>\n",
    "<strong>Définition :</strong> <span style=\"color:#0F8257\">Nombre premier.</span><br><br>\n",
    "Soit $p \\in \\mathbb{N}$.<br>\n",
    "    Le nombre $p$ est dit <strong>premier</strong> s'il a <strong>exactement deux diviseurs</strong> : 1 et lui-même.\n",
    "</BLOCKQUOTE>"
   ]
  },
  {
   "cell_type": "markdown",
   "metadata": {},
   "source": [
    "<strong>Exercices :</strong>\n",
    "<ol>\n",
    "    <li>Lister les nombres premiers inférieurs à 30.</li>\n",
    "    <li><span style='color:#A00D91'>Dans le manuel : Exercices n°2,6,8,7,10 p170.</span></li>\n",
    "    <li>Démontrer que deux nombres premiers distincts sont forcément premiers entre eux</li>\n",
    "    <li><span style='color:#A00D91'>Dans le manuel : Exercices n°16,24,23 p170,171.</span></li>\n",
    "    <li>Programmation Python :<br>\n",
    "        Écrire une fonction Python <mark>premier</mark> qui reçoit un entier naturel non nul <mark>n</mark> en argument, et qui renvoie <mark>True</mark> si ce nombre est premier et <mark>False</mark> sinon.<br>Aide : On peut utiliser la fonction Python <mark>diviseurs</mark> déjà écrite dans la section de cours 1, sachant que la syntaxe <mark>len(L)</mark> permet d'obtenir le nombre d'éléments d'une liste <mark>L</mark>.</li>\n",
    "        </ol>\n",
    "</ol>       "
   ]
  },
  {
   "cell_type": "code",
   "execution_count": null,
   "metadata": {},
   "outputs": [],
   "source": [
    "#(Zone Python pour l'exercice 5)\n",
    "#Écrire ici la fonction diviseurs_pos\n"
   ]
  },
  {
   "cell_type": "code",
   "execution_count": null,
   "metadata": {},
   "outputs": [],
   "source": [
    "#(Zone Python pour l'exercice 5)\n",
    "#Écrire ici la fonction premier\n"
   ]
  },
  {
   "cell_type": "markdown",
   "metadata": {},
   "source": [
    "<BLOCKQUOTE style='background-color:#F9C47B;'>\n",
    "<strong>Propriété :</strong> <span style=\"color:#AE6602\">Existence d'un diviseur premier.</span><br><br>\n",
    "Si $n$ est un entier naturel supérieur à $2$ non premier, alors $n$ admet (au moins) un diviseur premier inférieur ou égal à $\\sqrt{n}$.\n",
    "</BLOCKQUOTE>\n",
    "\n"
   ]
  },
  {
   "cell_type": "markdown",
   "metadata": {},
   "source": [
    "<strong>Exercice :</strong><br>\n",
    "<span style='color:#A00D91'>Dans le manuel : Démonstration de la propriété ci-dessus : \"Rédiger une démonstration\" n°1 p167.</span>"
   ]
  },
  {
   "cell_type": "markdown",
   "metadata": {},
   "source": [
    "<BLOCKQUOTE style='background-color:#CFB5B6;'>\n",
    "<strong>Théorème :</strong> <span style=\"color:#BB0000\">Ensemble des nombres premiers.</span><br><br>\n",
    "Il existe une infinité de nombres premiers.\n",
    "\n",
    "</BLOCKQUOTE>"
   ]
  },
  {
   "cell_type": "markdown",
   "metadata": {},
   "source": [
    "<strong>Exercice :</strong><br>\n",
    "<span style='color:#A00D91'>Dans le manuel : Démonstration du théorème ci-dessus : \"Rédiger une démonstration\" n°2 p167.</span>"
   ]
  },
  {
   "cell_type": "markdown",
   "metadata": {},
   "source": [
    "<p style=\"background-color:#DDDDDD\">\n",
    "    <strong>TP : Crible d'Ératosthène</strong><br> \n",
    "</p>\n",
    "\n",
    "[![Eratosthène](img/mini_Eratosthene.png)](https://mybinder.org/v2/gh/PythonLycee/PyLyc/master?filepath=Crible_Eratosthene.ipynb)"
   ]
  },
  {
   "cell_type": "markdown",
   "metadata": {},
   "source": [
    "<BLOCKQUOTE style='background-color:#CFB5B6;'>\n",
    "<strong>Théorème :</strong> <span style=\"color:#BB0000\">Théorème fondamental de l'arithmétique : Décomposition d'un entier en produit de facteurs premiers.</span><br><br>\n",
    "Soit $n$ un entier naturel supérieur ou égal à $2$.<br>\n",
    "Alors <strong>il existe</strong> une décomposition <strong>unique</strong> de $n$ sous forme d'un produit de facteurs premiers ordonnés :<br><br>\n",
    "$$n=p_1^{\\alpha_1}p_2^{\\alpha_2}...p_m^{\\alpha_m}$$\n",
    "<br>où $p_1<p_2<...<p_m$ sont des nombres premiers distincts, rangés dans l'ordre croissant,<br>\n",
    "et $\\alpha_1;\\alpha_2;...;\\alpha_m$ sont des entiers naturels non nuls.\n",
    "<br>\n",
    "Cette écriture s'appelle la <strong>décomposition en produit de facteurs premiers</strong> de $n$.\n",
    "</BLOCKQUOTE>\n"
   ]
  },
  {
   "cell_type": "markdown",
   "metadata": {},
   "source": [
    "<strong>Remarque:</strong><br>\n",
    "Ce théorème peut s'écrire, avec les notations mathématiques :\n",
    "\n",
    "$$\\forall n \\in \\mathbb{N}\\;,\\; n \\geq 2\\;,\\; \\exists! m \\in \\mathbb{N}^*\\;,\\; \\exists! (p_i)_{1 \\leq i \\leq m} \\in \\mathbb{N}^m\\;,\\; \\exists! (\\alpha_i)_{1 \\leq i \\leq m} \\in (\\mathbb{N}^{*})^m\\; / $$\n",
    "\n",
    "$$ \\forall 1 \\leq i \\leq m \\;\\;,\\;\\; p_i \\text{ est premier}$$\n",
    "$$ \\forall 1 \\leq i \\leq m-1 \\;\\;,\\;\\; p_i < p_{i+1}$$\n",
    "$$ n = p_1^{\\alpha_1}p_2^{\\alpha_2}...p_m^{\\alpha_m} = \\prod_{i=1}^m p_i^{\\alpha_i}$$\n"
   ]
  },
  {
   "cell_type": "markdown",
   "metadata": {},
   "source": [
    "<strong>Exercice de démonstration : Démonstration du théorème énonçant l'existence et l'unicité de la décomposition en produit de facteurs premiers</strong><br>\n",
    "<ol>\n",
    "    <li><strong>Existence de la décomposition :</strong><br>\n",
    "        Pour tout $n \\geq 2$, on considère la propriété $Q(n): \\;\" \\forall 1 \\leq j \\leq n, \\text{ il existe une décomposition en produit de facteurs premiers de } j \"$<br>\n",
    "        Démontrer par récurrence que la propriété $Q(n)$ est vraie pour tout $n \\geq 2$.<br>\n",
    "        (On pourra utiliser la propriété qui assure qu'un nombre non premier $n \\geq 2$ admet au moins un diviseur premier)\n",
    "    </li>\n",
    "    <li><strong>Unicité de la décomposition :</strong><br>\n",
    "        On souhaite effectuer un raisonnement par l'absurde.<br>\n",
    "        On suppose donc qu'il existe un entier $n \\geq 2$ pour lequel il existe deux décompositions différentes en produits de facteurs premiers :<br>\n",
    "        $n = p_1^{\\alpha_1}p_2^{\\alpha_2}...p_m^{\\alpha_m} = q_1^{\\;\\beta_1}q_2^{\\;\\beta_2}...q_r^{\\;\\beta_r}$ où les $(p_i)$, $(q_i)$ sont des nombres premiers et les $(\\alpha_i)$, $(\\beta_i)$ sont des entiers naturels non nuls.<br>\n",
    "        Comme les deux décompositions sont distinctes, il existe dans une des deux décompositions un facteur premier $p$ qui apparait avec une puissance différente dans l'autre décomposition ou qui n'apparait pas.<br>\n",
    "        On peut par exemple supposer que $n=p^{\\;\\alpha} \\times a$ et $n=p^{\\;\\beta} \\times b$ avec $\\alpha > \\beta \\geq 0$\n",
    "        (où $a$ et $b$ sont des produits de nombres premiers distincts de $p$)<br>\n",
    "        NB : le cas $\\beta=0$ correspond au cas où $p$ n'apparait pas dans la deuxième décomposition.\n",
    "        <ol>\n",
    "            <li style='list-style-type: lower-latin;'>Justifier que $p$ est premier avec $b$.</li>\n",
    "            <li style='list-style-type: lower-latin;'>Justifier que $p^{\\alpha-\\beta} \\times a = b$ et en déduire une contradiction.</li>\n",
    "            <li style='list-style-type: lower-latin;'>Conclure.</li>       \n",
    "        </ol>    "
   ]
  },
  {
   "cell_type": "markdown",
   "metadata": {},
   "source": [
    "<BLOCKQUOTE style='background-color:#F9C47B;'>\n",
    "<strong>Propriété :</strong> <span style=\"color:#AE6602\">Diviseurs d'un entier.</span><br><br>\n",
    "Si $n$ est un entier naturel supérieur ou égal à $2$ dont la décomposition en facteurs premiers est : \n",
    "$$n=p_1^{\\alpha_1}p_2^{\\alpha_2}...p_m^{\\alpha_m}$$\n",
    "<br>où $p_1<p_2<...<p_m$ sont des nombres premiers distincts (rangés dans l'ordre croissant)<br>\n",
    "et $\\alpha_1;\\alpha_2;...;\\alpha_m$ sont des entiers naturels non nuls.<br><br>\n",
    "Alors:\n",
    "<ul>\n",
    "    <li>il y a exactement $(\\alpha_1+1)(\\alpha_2+1)...(\\alpha_m+1)$ diviseurs de $n$ ;</li>\n",
    "    <li>les diviseurs de $n$ sont exactement les nombres $d$ qui s'écrivent $d=p_1^{\\;\\beta_1}p_2^{\\;\\beta_2}...p_m^{\\;\\beta_m}$ <br>où $\\beta_1;\\beta_2;...;\\beta_m$ sont des entiers naturels tels que $\\forall 1 \\leq i \\leq m \\;,\\;0 \\leq \\beta_i \\leq \\alpha_i$.</li> \n",
    "</BLOCKQUOTE>\n",
    "\n"
   ]
  },
  {
   "cell_type": "markdown",
   "metadata": {},
   "source": [
    "<strong>Exercices :</strong>\n",
    "<ul>\n",
    "    <li><span style='color:#A00D91'>Dans le manuel : Exercices n°29,30,31,32,35,37,40,42,43 p171.</span></li>\n",
    "    <li><span style='color:#A00D91'>Dans le manuel : Exercice n°66,60 p173.</span></li>\n",
    "</ul>"
   ]
  },
  {
   "cell_type": "markdown",
   "metadata": {},
   "source": [
    "<BLOCKQUOTE style='background-color:#CFB5B6;'>\n",
    "<strong>Théorème :</strong> <span style=\"color:#BB0000\">Petit théorème de Fermat.</span><br><br>\n",
    "Soit $n \\in \\mathbb{N}$.<br>\n",
    "<ol>\n",
    "    <li>Si $\\begin{Bmatrix} p \\text{ est un nombre premier} \\\\ p \\text{ ne divise pas } n \\end{Bmatrix}$ alors $n^{\\;p-1} \\equiv 1 \\;[p]$.</li>\n",
    "    <li>Si $p$ est premier, alors $n^{\\;p} \\equiv n \\;[p]$</li>\n",
    "</ol>\n",
    "</BLOCKQUOTE>\n"
   ]
  },
  {
   "cell_type": "markdown",
   "metadata": {},
   "source": [
    "<strong>Exercices :</strong>\n",
    "<span style='color:#A00D91'>Dans le manuel : Exercices n°48,49 p172.</span>\n",
    "\n",
    "<p style=\"background-color:#DDDDDD\">\n",
    "    <strong>TP : Chiffrement RSA</strong><br> \n",
    "</p>\n",
    "\n",
    "[![RSA](img/mini_RSA.png)](https://mybinder.org/v2/gh/PythonLycee/PyLyc/master?filepath=Chiffrement_RSA.ipynb)"
   ]
  },
  {
   "cell_type": "code",
   "execution_count": null,
   "metadata": {},
   "outputs": [],
   "source": []
  }
 ],
 "metadata": {
  "kernelspec": {
   "display_name": "Python 3",
   "language": "python",
   "name": "python3"
  },
  "language_info": {
   "codemirror_mode": {
    "name": "ipython",
    "version": 3
   },
   "file_extension": ".py",
   "mimetype": "text/x-python",
   "name": "python",
   "nbconvert_exporter": "python",
   "pygments_lexer": "ipython3",
   "version": "3.6.4"
  }
 },
 "nbformat": 4,
 "nbformat_minor": 2
}
